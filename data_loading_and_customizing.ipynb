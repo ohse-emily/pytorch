{
  "nbformat": 4,
  "nbformat_minor": 0,
  "metadata": {
    "colab": {
      "provenance": [],
      "collapsed_sections": [
        "DCTJId7wtW-L"
      ],
      "mount_file_id": "1LsL3u01NFUTQoMnEHnb41brwOYtM4sSx",
      "authorship_tag": "ABX9TyN73dOCMh2CmzRpxnGbqQkp",
      "include_colab_link": true
    },
    "kernelspec": {
      "name": "python3",
      "display_name": "Python 3"
    },
    "language_info": {
      "name": "python"
    },
    "widgets": {
      "application/vnd.jupyter.widget-state+json": {
        "e27b60d2c8e848a58acee36ccd2ce2fb": {
          "model_module": "@jupyter-widgets/controls",
          "model_name": "HBoxModel",
          "model_module_version": "1.5.0",
          "state": {
            "_dom_classes": [],
            "_model_module": "@jupyter-widgets/controls",
            "_model_module_version": "1.5.0",
            "_model_name": "HBoxModel",
            "_view_count": null,
            "_view_module": "@jupyter-widgets/controls",
            "_view_module_version": "1.5.0",
            "_view_name": "HBoxView",
            "box_style": "",
            "children": [
              "IPY_MODEL_f815090c020c4f988df1037fe1669878",
              "IPY_MODEL_690bb3976b7d4a41b9b402f43f66a6f3",
              "IPY_MODEL_a0a8671ce6a04107b2050e8997bef721"
            ],
            "layout": "IPY_MODEL_681e56f0848a4f1b80f5dff35ff9d9ef"
          }
        },
        "f815090c020c4f988df1037fe1669878": {
          "model_module": "@jupyter-widgets/controls",
          "model_name": "HTMLModel",
          "model_module_version": "1.5.0",
          "state": {
            "_dom_classes": [],
            "_model_module": "@jupyter-widgets/controls",
            "_model_module_version": "1.5.0",
            "_model_name": "HTMLModel",
            "_view_count": null,
            "_view_module": "@jupyter-widgets/controls",
            "_view_module_version": "1.5.0",
            "_view_name": "HTMLView",
            "description": "",
            "description_tooltip": null,
            "layout": "IPY_MODEL_470364e9f8b44aac941a76ddeb267fcf",
            "placeholder": "​",
            "style": "IPY_MODEL_b329a8a5268c4f35869ccb7aa0220864",
            "value": "100%"
          }
        },
        "690bb3976b7d4a41b9b402f43f66a6f3": {
          "model_module": "@jupyter-widgets/controls",
          "model_name": "FloatProgressModel",
          "model_module_version": "1.5.0",
          "state": {
            "_dom_classes": [],
            "_model_module": "@jupyter-widgets/controls",
            "_model_module_version": "1.5.0",
            "_model_name": "FloatProgressModel",
            "_view_count": null,
            "_view_module": "@jupyter-widgets/controls",
            "_view_module_version": "1.5.0",
            "_view_name": "ProgressView",
            "bar_style": "success",
            "description": "",
            "description_tooltip": null,
            "layout": "IPY_MODEL_b5035440ffc14a0cb58837983c9167a6",
            "max": 170498071,
            "min": 0,
            "orientation": "horizontal",
            "style": "IPY_MODEL_741fe626ae1a474cbe908fc3344ac88e",
            "value": 170498071
          }
        },
        "a0a8671ce6a04107b2050e8997bef721": {
          "model_module": "@jupyter-widgets/controls",
          "model_name": "HTMLModel",
          "model_module_version": "1.5.0",
          "state": {
            "_dom_classes": [],
            "_model_module": "@jupyter-widgets/controls",
            "_model_module_version": "1.5.0",
            "_model_name": "HTMLModel",
            "_view_count": null,
            "_view_module": "@jupyter-widgets/controls",
            "_view_module_version": "1.5.0",
            "_view_name": "HTMLView",
            "description": "",
            "description_tooltip": null,
            "layout": "IPY_MODEL_f560ca445692402b80e3fb6fb72a9bc7",
            "placeholder": "​",
            "style": "IPY_MODEL_821c81427c8c4eb7a6b6ba71d11a8afb",
            "value": " 170498071/170498071 [00:14&lt;00:00, 14487207.52it/s]"
          }
        },
        "681e56f0848a4f1b80f5dff35ff9d9ef": {
          "model_module": "@jupyter-widgets/base",
          "model_name": "LayoutModel",
          "model_module_version": "1.2.0",
          "state": {
            "_model_module": "@jupyter-widgets/base",
            "_model_module_version": "1.2.0",
            "_model_name": "LayoutModel",
            "_view_count": null,
            "_view_module": "@jupyter-widgets/base",
            "_view_module_version": "1.2.0",
            "_view_name": "LayoutView",
            "align_content": null,
            "align_items": null,
            "align_self": null,
            "border": null,
            "bottom": null,
            "display": null,
            "flex": null,
            "flex_flow": null,
            "grid_area": null,
            "grid_auto_columns": null,
            "grid_auto_flow": null,
            "grid_auto_rows": null,
            "grid_column": null,
            "grid_gap": null,
            "grid_row": null,
            "grid_template_areas": null,
            "grid_template_columns": null,
            "grid_template_rows": null,
            "height": null,
            "justify_content": null,
            "justify_items": null,
            "left": null,
            "margin": null,
            "max_height": null,
            "max_width": null,
            "min_height": null,
            "min_width": null,
            "object_fit": null,
            "object_position": null,
            "order": null,
            "overflow": null,
            "overflow_x": null,
            "overflow_y": null,
            "padding": null,
            "right": null,
            "top": null,
            "visibility": null,
            "width": null
          }
        },
        "470364e9f8b44aac941a76ddeb267fcf": {
          "model_module": "@jupyter-widgets/base",
          "model_name": "LayoutModel",
          "model_module_version": "1.2.0",
          "state": {
            "_model_module": "@jupyter-widgets/base",
            "_model_module_version": "1.2.0",
            "_model_name": "LayoutModel",
            "_view_count": null,
            "_view_module": "@jupyter-widgets/base",
            "_view_module_version": "1.2.0",
            "_view_name": "LayoutView",
            "align_content": null,
            "align_items": null,
            "align_self": null,
            "border": null,
            "bottom": null,
            "display": null,
            "flex": null,
            "flex_flow": null,
            "grid_area": null,
            "grid_auto_columns": null,
            "grid_auto_flow": null,
            "grid_auto_rows": null,
            "grid_column": null,
            "grid_gap": null,
            "grid_row": null,
            "grid_template_areas": null,
            "grid_template_columns": null,
            "grid_template_rows": null,
            "height": null,
            "justify_content": null,
            "justify_items": null,
            "left": null,
            "margin": null,
            "max_height": null,
            "max_width": null,
            "min_height": null,
            "min_width": null,
            "object_fit": null,
            "object_position": null,
            "order": null,
            "overflow": null,
            "overflow_x": null,
            "overflow_y": null,
            "padding": null,
            "right": null,
            "top": null,
            "visibility": null,
            "width": null
          }
        },
        "b329a8a5268c4f35869ccb7aa0220864": {
          "model_module": "@jupyter-widgets/controls",
          "model_name": "DescriptionStyleModel",
          "model_module_version": "1.5.0",
          "state": {
            "_model_module": "@jupyter-widgets/controls",
            "_model_module_version": "1.5.0",
            "_model_name": "DescriptionStyleModel",
            "_view_count": null,
            "_view_module": "@jupyter-widgets/base",
            "_view_module_version": "1.2.0",
            "_view_name": "StyleView",
            "description_width": ""
          }
        },
        "b5035440ffc14a0cb58837983c9167a6": {
          "model_module": "@jupyter-widgets/base",
          "model_name": "LayoutModel",
          "model_module_version": "1.2.0",
          "state": {
            "_model_module": "@jupyter-widgets/base",
            "_model_module_version": "1.2.0",
            "_model_name": "LayoutModel",
            "_view_count": null,
            "_view_module": "@jupyter-widgets/base",
            "_view_module_version": "1.2.0",
            "_view_name": "LayoutView",
            "align_content": null,
            "align_items": null,
            "align_self": null,
            "border": null,
            "bottom": null,
            "display": null,
            "flex": null,
            "flex_flow": null,
            "grid_area": null,
            "grid_auto_columns": null,
            "grid_auto_flow": null,
            "grid_auto_rows": null,
            "grid_column": null,
            "grid_gap": null,
            "grid_row": null,
            "grid_template_areas": null,
            "grid_template_columns": null,
            "grid_template_rows": null,
            "height": null,
            "justify_content": null,
            "justify_items": null,
            "left": null,
            "margin": null,
            "max_height": null,
            "max_width": null,
            "min_height": null,
            "min_width": null,
            "object_fit": null,
            "object_position": null,
            "order": null,
            "overflow": null,
            "overflow_x": null,
            "overflow_y": null,
            "padding": null,
            "right": null,
            "top": null,
            "visibility": null,
            "width": null
          }
        },
        "741fe626ae1a474cbe908fc3344ac88e": {
          "model_module": "@jupyter-widgets/controls",
          "model_name": "ProgressStyleModel",
          "model_module_version": "1.5.0",
          "state": {
            "_model_module": "@jupyter-widgets/controls",
            "_model_module_version": "1.5.0",
            "_model_name": "ProgressStyleModel",
            "_view_count": null,
            "_view_module": "@jupyter-widgets/base",
            "_view_module_version": "1.2.0",
            "_view_name": "StyleView",
            "bar_color": null,
            "description_width": ""
          }
        },
        "f560ca445692402b80e3fb6fb72a9bc7": {
          "model_module": "@jupyter-widgets/base",
          "model_name": "LayoutModel",
          "model_module_version": "1.2.0",
          "state": {
            "_model_module": "@jupyter-widgets/base",
            "_model_module_version": "1.2.0",
            "_model_name": "LayoutModel",
            "_view_count": null,
            "_view_module": "@jupyter-widgets/base",
            "_view_module_version": "1.2.0",
            "_view_name": "LayoutView",
            "align_content": null,
            "align_items": null,
            "align_self": null,
            "border": null,
            "bottom": null,
            "display": null,
            "flex": null,
            "flex_flow": null,
            "grid_area": null,
            "grid_auto_columns": null,
            "grid_auto_flow": null,
            "grid_auto_rows": null,
            "grid_column": null,
            "grid_gap": null,
            "grid_row": null,
            "grid_template_areas": null,
            "grid_template_columns": null,
            "grid_template_rows": null,
            "height": null,
            "justify_content": null,
            "justify_items": null,
            "left": null,
            "margin": null,
            "max_height": null,
            "max_width": null,
            "min_height": null,
            "min_width": null,
            "object_fit": null,
            "object_position": null,
            "order": null,
            "overflow": null,
            "overflow_x": null,
            "overflow_y": null,
            "padding": null,
            "right": null,
            "top": null,
            "visibility": null,
            "width": null
          }
        },
        "821c81427c8c4eb7a6b6ba71d11a8afb": {
          "model_module": "@jupyter-widgets/controls",
          "model_name": "DescriptionStyleModel",
          "model_module_version": "1.5.0",
          "state": {
            "_model_module": "@jupyter-widgets/controls",
            "_model_module_version": "1.5.0",
            "_model_name": "DescriptionStyleModel",
            "_view_count": null,
            "_view_module": "@jupyter-widgets/base",
            "_view_module_version": "1.2.0",
            "_view_name": "StyleView",
            "description_width": ""
          }
        }
      }
    },
    "accelerator": "GPU"
  },
  "cells": [
    {
      "cell_type": "markdown",
      "metadata": {
        "id": "view-in-github",
        "colab_type": "text"
      },
      "source": [
        "<a href=\"https://colab.research.google.com/github/ohse-emily/pytorch/blob/master/data_loading_and_customizing.ipynb\" target=\"_parent\"><img src=\"https://colab.research.google.com/assets/colab-badge.svg\" alt=\"Open In Colab\"/></a>"
      ]
    },
    {
      "cell_type": "markdown",
      "source": [
        "# PyTorch 겅부\n",
        "강의 제공 : Youtube <딥러닝호형 DL bro> 감사합니당 https://www.youtube.com/watch?v=8PnxJ3s3Cwo&list=PLHOsBEAyYj3xf4i20sCA5o8MgVW5sIiHD&index=11\n",
        "\n",
        "# 0. PyTorch Basic\n",
        "1. 변수 설정 / 매서드 등\n",
        "2. 미분 적용 방식 \n",
        "\n"
      ],
      "metadata": {
        "id": "f_uaNws4q1P5"
      }
    },
    {
      "cell_type": "code",
      "execution_count": 1,
      "metadata": {
        "colab": {
          "base_uri": "https://localhost:8080/"
        },
        "id": "hUR3g9FqVS6e",
        "outputId": "57974679-abb8-422e-8b00-9725aa059d0f"
      },
      "outputs": [
        {
          "output_type": "execute_result",
          "data": {
            "text/plain": [
              "tensor([[4.7390e-35, 0.0000e+00, 1.5695e-43, 0.0000e+00],\n",
              "        [0.0000e+00, 0.0000e+00, 5.8155e-36, 0.0000e+00],\n",
              "        [3.5733e-43, 0.0000e+00, 1.5975e-43, 0.0000e+00],\n",
              "        [0.0000e+00, 0.0000e+00, 5.8155e-36, 0.0000e+00],\n",
              "        [3.5733e-43, 0.0000e+00, 0.0000e+00, 0.0000e+00]])"
            ]
          },
          "metadata": {},
          "execution_count": 1
        }
      ],
      "source": [
        "\n",
        "import torch\n",
        "import numpy as np\n",
        "\n",
        "x = torch.empty(5,4)\n",
        "x\n"
      ]
    },
    {
      "cell_type": "code",
      "source": [
        "torch.ones(3,3)"
      ],
      "metadata": {
        "colab": {
          "base_uri": "https://localhost:8080/"
        },
        "id": "yt4S1FXvbLuE",
        "outputId": "9fea33f1-d36a-4022-bd19-5b23007a8f7f"
      },
      "execution_count": 2,
      "outputs": [
        {
          "output_type": "execute_result",
          "data": {
            "text/plain": [
              "tensor([[1., 1., 1.],\n",
              "        [1., 1., 1.],\n",
              "        [1., 1., 1.]])"
            ]
          },
          "metadata": {},
          "execution_count": 2
        }
      ]
    },
    {
      "cell_type": "code",
      "source": [
        "torch.zeros(2)"
      ],
      "metadata": {
        "colab": {
          "base_uri": "https://localhost:8080/"
        },
        "id": "LZfDW5XjbLrv",
        "outputId": "533d40fb-e10b-4dab-b6f2-23485106e79d"
      },
      "execution_count": 3,
      "outputs": [
        {
          "output_type": "execute_result",
          "data": {
            "text/plain": [
              "tensor([0., 0.])"
            ]
          },
          "metadata": {},
          "execution_count": 3
        }
      ]
    },
    {
      "cell_type": "code",
      "source": [
        "torch.rand(4,5)"
      ],
      "metadata": {
        "colab": {
          "base_uri": "https://localhost:8080/"
        },
        "id": "F0bxyHgJbLpR",
        "outputId": "0b6045e8-a471-4864-a672-e8a906a566cd"
      },
      "execution_count": 4,
      "outputs": [
        {
          "output_type": "execute_result",
          "data": {
            "text/plain": [
              "tensor([[0.5351, 0.2799, 0.9406, 0.4796, 0.5051],\n",
              "        [0.8157, 0.1699, 0.1579, 0.5601, 0.4407],\n",
              "        [0.3050, 0.0760, 0.4794, 0.3929, 0.6333],\n",
              "        [0.1191, 0.6639, 0.4745, 0.9718, 0.4978]])"
            ]
          },
          "metadata": {},
          "execution_count": 4
        }
      ]
    },
    {
      "cell_type": "code",
      "source": [
        "# list / array 주어졌을 때 \n",
        "l = [13,4]\n",
        "r = np.array([4, 56,7])\n",
        "\n",
        "torch.tensor(l)"
      ],
      "metadata": {
        "colab": {
          "base_uri": "https://localhost:8080/"
        },
        "id": "WAcFxrvWbLnN",
        "outputId": "f7d858b0-70c6-4c5b-cf1d-6eff289c468b"
      },
      "execution_count": 5,
      "outputs": [
        {
          "output_type": "execute_result",
          "data": {
            "text/plain": [
              "tensor([13,  4])"
            ]
          },
          "metadata": {},
          "execution_count": 5
        }
      ]
    },
    {
      "cell_type": "code",
      "source": [
        "torch.tensor(r)"
      ],
      "metadata": {
        "colab": {
          "base_uri": "https://localhost:8080/"
        },
        "id": "Id2PPS9pbLk9",
        "outputId": "e0b3491c-507b-4c06-85ac-29bba7664548"
      },
      "execution_count": 6,
      "outputs": [
        {
          "output_type": "execute_result",
          "data": {
            "text/plain": [
              "tensor([ 4, 56,  7])"
            ]
          },
          "metadata": {},
          "execution_count": 6
        }
      ]
    },
    {
      "cell_type": "code",
      "source": [
        "x.size()"
      ],
      "metadata": {
        "colab": {
          "base_uri": "https://localhost:8080/"
        },
        "id": "mmErvFRFbLjS",
        "outputId": "88431526-27b0-48a4-ae15-6407540287c9"
      },
      "execution_count": 7,
      "outputs": [
        {
          "output_type": "execute_result",
          "data": {
            "text/plain": [
              "torch.Size([5, 4])"
            ]
          },
          "metadata": {},
          "execution_count": 7
        }
      ]
    },
    {
      "cell_type": "code",
      "source": [
        "type(x)"
      ],
      "metadata": {
        "colab": {
          "base_uri": "https://localhost:8080/"
        },
        "id": "TrkWZEDfbjOS",
        "outputId": "e260a3c8-eda9-4eca-d0ae-3c7562a30eeb"
      },
      "execution_count": 8,
      "outputs": [
        {
          "output_type": "execute_result",
          "data": {
            "text/plain": [
              "torch.Tensor"
            ]
          },
          "metadata": {},
          "execution_count": 8
        }
      ]
    },
    {
      "cell_type": "code",
      "source": [
        "x = torch.rand(3,3)\n",
        "y = torch.rand(3,3)\n",
        "print(x)\n",
        "print(y)"
      ],
      "metadata": {
        "colab": {
          "base_uri": "https://localhost:8080/"
        },
        "id": "OZexn-48bjJt",
        "outputId": "b768b180-81b6-4e37-c873-0d46bea848cd"
      },
      "execution_count": 9,
      "outputs": [
        {
          "output_type": "stream",
          "name": "stdout",
          "text": [
            "tensor([[0.8862, 0.0118, 0.6458],\n",
            "        [0.7599, 0.1676, 0.2077],\n",
            "        [0.8658, 0.4890, 0.3476]])\n",
            "tensor([[0.4415, 0.3431, 0.7274],\n",
            "        [0.7442, 0.4258, 0.1245],\n",
            "        [0.7258, 0.8801, 0.8676]])\n"
          ]
        }
      ]
    },
    {
      "cell_type": "code",
      "source": [
        "x+y"
      ],
      "metadata": {
        "colab": {
          "base_uri": "https://localhost:8080/"
        },
        "id": "1S2xtFKIbjHO",
        "outputId": "65d816e0-3682-44e1-8051-373018625ec7"
      },
      "execution_count": 10,
      "outputs": [
        {
          "output_type": "execute_result",
          "data": {
            "text/plain": [
              "tensor([[1.3277, 0.3549, 1.3732],\n",
              "        [1.5042, 0.5934, 0.3322],\n",
              "        [1.5916, 1.3690, 1.2152]])"
            ]
          },
          "metadata": {},
          "execution_count": 10
        }
      ]
    },
    {
      "cell_type": "code",
      "source": [
        "y.add_(x)\n",
        "# print(y)"
      ],
      "metadata": {
        "colab": {
          "base_uri": "https://localhost:8080/"
        },
        "id": "6DOuLMrxbjE2",
        "outputId": "4e1ab7a8-3bd9-4242-a42d-a493c47f6344"
      },
      "execution_count": 11,
      "outputs": [
        {
          "output_type": "execute_result",
          "data": {
            "text/plain": [
              "tensor([[1.3277, 0.3549, 1.3732],\n",
              "        [1.5042, 0.5934, 0.3322],\n",
              "        [1.5916, 1.3690, 1.2152]])"
            ]
          },
          "metadata": {},
          "execution_count": 11
        }
      ]
    },
    {
      "cell_type": "code",
      "source": [
        "y"
      ],
      "metadata": {
        "colab": {
          "base_uri": "https://localhost:8080/"
        },
        "id": "cKCdNFMvbjCq",
        "outputId": "7ffd1f17-d76f-44b4-a8d9-a8c1bb248f24"
      },
      "execution_count": 12,
      "outputs": [
        {
          "output_type": "execute_result",
          "data": {
            "text/plain": [
              "tensor([[1.3277, 0.3549, 1.3732],\n",
              "        [1.5042, 0.5934, 0.3322],\n",
              "        [1.5916, 1.3690, 1.2152]])"
            ]
          },
          "metadata": {},
          "execution_count": 12
        }
      ]
    },
    {
      "cell_type": "code",
      "source": [
        "x"
      ],
      "metadata": {
        "colab": {
          "base_uri": "https://localhost:8080/"
        },
        "id": "Mv8EFpjIccid",
        "outputId": "8b67bebb-8210-4956-fb29-02ce8046d9e4"
      },
      "execution_count": 13,
      "outputs": [
        {
          "output_type": "execute_result",
          "data": {
            "text/plain": [
              "tensor([[0.8862, 0.0118, 0.6458],\n",
              "        [0.7599, 0.1676, 0.2077],\n",
              "        [0.8658, 0.4890, 0.3476]])"
            ]
          },
          "metadata": {},
          "execution_count": 13
        }
      ]
    },
    {
      "cell_type": "code",
      "source": [
        "x = torch.rand(2,2)\n",
        "y = torch.rand(2,2)\n",
        "print(x)\n",
        "print(y)"
      ],
      "metadata": {
        "colab": {
          "base_uri": "https://localhost:8080/"
        },
        "id": "5LzOxELdccec",
        "outputId": "12fcdd0c-b828-4cd0-c8d5-f77e0b497787"
      },
      "execution_count": 14,
      "outputs": [
        {
          "output_type": "stream",
          "name": "stdout",
          "text": [
            "tensor([[0.5099, 0.2495],\n",
            "        [0.9480, 0.2364]])\n",
            "tensor([[0.8129, 0.4376],\n",
            "        [0.7429, 0.0677]])\n"
          ]
        }
      ]
    },
    {
      "cell_type": "code",
      "source": [
        "y.multiply_(x)"
      ],
      "metadata": {
        "colab": {
          "base_uri": "https://localhost:8080/"
        },
        "id": "maLY-0sRccbW",
        "outputId": "889c4ff7-f6af-40fc-d51c-ca9a17bf8c39"
      },
      "execution_count": 15,
      "outputs": [
        {
          "output_type": "execute_result",
          "data": {
            "text/plain": [
              "tensor([[0.4145, 0.1092],\n",
              "        [0.7043, 0.0160]])"
            ]
          },
          "metadata": {},
          "execution_count": 15
        }
      ]
    },
    {
      "cell_type": "code",
      "source": [
        "y"
      ],
      "metadata": {
        "colab": {
          "base_uri": "https://localhost:8080/"
        },
        "id": "DxQwUTg1ccXb",
        "outputId": "1c303570-b3d3-48c1-a1db-68ca7f5f4cc8"
      },
      "execution_count": 16,
      "outputs": [
        {
          "output_type": "execute_result",
          "data": {
            "text/plain": [
              "tensor([[0.4145, 0.1092],\n",
              "        [0.7043, 0.0160]])"
            ]
          },
          "metadata": {},
          "execution_count": 16
        }
      ]
    },
    {
      "cell_type": "code",
      "source": [
        "y[1,1]"
      ],
      "metadata": {
        "colab": {
          "base_uri": "https://localhost:8080/"
        },
        "id": "R90kzndLbjAT",
        "outputId": "3ccf7de9-d419-46b9-e582-57fdc8aa74fd"
      },
      "execution_count": 17,
      "outputs": [
        {
          "output_type": "execute_result",
          "data": {
            "text/plain": [
              "tensor(0.0160)"
            ]
          },
          "metadata": {},
          "execution_count": 17
        }
      ]
    },
    {
      "cell_type": "code",
      "source": [
        "y[:,1]"
      ],
      "metadata": {
        "colab": {
          "base_uri": "https://localhost:8080/"
        },
        "id": "LOpBfi8QdTB8",
        "outputId": "18e8c4d5-ae1f-4dd1-f852-e0d3ef979391"
      },
      "execution_count": 18,
      "outputs": [
        {
          "output_type": "execute_result",
          "data": {
            "text/plain": [
              "tensor([0.1092, 0.0160])"
            ]
          },
          "metadata": {},
          "execution_count": 18
        }
      ]
    },
    {
      "cell_type": "code",
      "source": [
        "x = torch.rand(8,8)\n",
        "print(x)"
      ],
      "metadata": {
        "colab": {
          "base_uri": "https://localhost:8080/"
        },
        "id": "eq2D-MnldS_3",
        "outputId": "2139973f-aeb5-42ad-98bf-74dce46a7d40"
      },
      "execution_count": 19,
      "outputs": [
        {
          "output_type": "stream",
          "name": "stdout",
          "text": [
            "tensor([[0.2423, 0.2621, 0.6484, 0.4643, 0.7963, 0.6093, 0.0015, 0.8597],\n",
            "        [0.6254, 0.4356, 0.8650, 0.2476, 0.8945, 0.8088, 0.9494, 0.6781],\n",
            "        [0.8394, 0.5520, 0.7277, 0.6901, 0.0342, 0.8764, 0.3809, 0.7529],\n",
            "        [0.3462, 0.6320, 0.5845, 0.4813, 0.5827, 0.3874, 0.2442, 0.9621],\n",
            "        [0.6357, 0.0793, 0.1318, 0.3852, 0.1717, 0.9116, 0.6435, 0.2643],\n",
            "        [0.4861, 0.9867, 0.4151, 0.0465, 0.3562, 0.3955, 0.2643, 0.6768],\n",
            "        [0.7854, 0.2558, 0.3855, 0.7143, 0.9982, 0.6686, 0.5266, 0.1362],\n",
            "        [0.7619, 0.0320, 0.0483, 0.9425, 0.4453, 0.2184, 0.3441, 0.9614]])\n"
          ]
        }
      ]
    },
    {
      "cell_type": "code",
      "source": [
        "x.view(2,32)"
      ],
      "metadata": {
        "colab": {
          "base_uri": "https://localhost:8080/"
        },
        "id": "0Q37AlkcdS8W",
        "outputId": "2cec5173-23b8-422d-b686-fa60371a1ee1"
      },
      "execution_count": 20,
      "outputs": [
        {
          "output_type": "execute_result",
          "data": {
            "text/plain": [
              "tensor([[0.2423, 0.2621, 0.6484, 0.4643, 0.7963, 0.6093, 0.0015, 0.8597, 0.6254,\n",
              "         0.4356, 0.8650, 0.2476, 0.8945, 0.8088, 0.9494, 0.6781, 0.8394, 0.5520,\n",
              "         0.7277, 0.6901, 0.0342, 0.8764, 0.3809, 0.7529, 0.3462, 0.6320, 0.5845,\n",
              "         0.4813, 0.5827, 0.3874, 0.2442, 0.9621],\n",
              "        [0.6357, 0.0793, 0.1318, 0.3852, 0.1717, 0.9116, 0.6435, 0.2643, 0.4861,\n",
              "         0.9867, 0.4151, 0.0465, 0.3562, 0.3955, 0.2643, 0.6768, 0.7854, 0.2558,\n",
              "         0.3855, 0.7143, 0.9982, 0.6686, 0.5266, 0.1362, 0.7619, 0.0320, 0.0483,\n",
              "         0.9425, 0.4453, 0.2184, 0.3441, 0.9614]])"
            ]
          },
          "metadata": {},
          "execution_count": 20
        }
      ]
    },
    {
      "cell_type": "code",
      "source": [
        "# -1을 넣으면 자동 계산해줌 \n",
        "x.view(-1, 16)"
      ],
      "metadata": {
        "colab": {
          "base_uri": "https://localhost:8080/"
        },
        "id": "gj5sgIX5dS5X",
        "outputId": "2cc08336-a46a-4a28-fbd5-834cbc3aee4a"
      },
      "execution_count": 21,
      "outputs": [
        {
          "output_type": "execute_result",
          "data": {
            "text/plain": [
              "tensor([[0.2423, 0.2621, 0.6484, 0.4643, 0.7963, 0.6093, 0.0015, 0.8597, 0.6254,\n",
              "         0.4356, 0.8650, 0.2476, 0.8945, 0.8088, 0.9494, 0.6781],\n",
              "        [0.8394, 0.5520, 0.7277, 0.6901, 0.0342, 0.8764, 0.3809, 0.7529, 0.3462,\n",
              "         0.6320, 0.5845, 0.4813, 0.5827, 0.3874, 0.2442, 0.9621],\n",
              "        [0.6357, 0.0793, 0.1318, 0.3852, 0.1717, 0.9116, 0.6435, 0.2643, 0.4861,\n",
              "         0.9867, 0.4151, 0.0465, 0.3562, 0.3955, 0.2643, 0.6768],\n",
              "        [0.7854, 0.2558, 0.3855, 0.7143, 0.9982, 0.6686, 0.5266, 0.1362, 0.7619,\n",
              "         0.0320, 0.0483, 0.9425, 0.4453, 0.2184, 0.3441, 0.9614]])"
            ]
          },
          "metadata": {},
          "execution_count": 21
        }
      ]
    },
    {
      "cell_type": "code",
      "source": [
        "y = x.numpy()\n",
        "y"
      ],
      "metadata": {
        "colab": {
          "base_uri": "https://localhost:8080/"
        },
        "id": "Ai3YUM2MdS2o",
        "outputId": "53af016f-f043-4b8b-af77-eb9f0513cbbd"
      },
      "execution_count": 22,
      "outputs": [
        {
          "output_type": "execute_result",
          "data": {
            "text/plain": [
              "array([[0.24232948, 0.26207036, 0.6483778 , 0.46425027, 0.79631436,\n",
              "        0.6092664 , 0.0015291 , 0.8596673 ],\n",
              "       [0.6254373 , 0.43563527, 0.8650498 , 0.24764109, 0.89454454,\n",
              "        0.80877787, 0.9494272 , 0.6780571 ],\n",
              "       [0.83936274, 0.5519931 , 0.7277212 , 0.6901378 , 0.03424841,\n",
              "        0.87642866, 0.3809281 , 0.7528875 ],\n",
              "       [0.34624815, 0.6319795 , 0.5845108 , 0.4813416 , 0.5826899 ,\n",
              "        0.38738948, 0.24422455, 0.96209306],\n",
              "       [0.63567924, 0.0792883 , 0.13182455, 0.38517892, 0.17171288,\n",
              "        0.9116476 , 0.64349675, 0.2643199 ],\n",
              "       [0.48607183, 0.98665595, 0.4151467 , 0.04652685, 0.3561824 ,\n",
              "        0.39550447, 0.26428312, 0.67681146],\n",
              "       [0.785414  , 0.25582403, 0.38545036, 0.71431506, 0.9982058 ,\n",
              "        0.6685972 , 0.5265793 , 0.13619715],\n",
              "       [0.7619251 , 0.0319773 , 0.04829121, 0.9424688 , 0.44525504,\n",
              "        0.21842337, 0.34411073, 0.96144044]], dtype=float32)"
            ]
          },
          "metadata": {},
          "execution_count": 22
        }
      ]
    },
    {
      "cell_type": "code",
      "source": [
        "type(y)"
      ],
      "metadata": {
        "colab": {
          "base_uri": "https://localhost:8080/"
        },
        "id": "DELjch43dSzp",
        "outputId": "434029ca-c156-4056-ecf7-cc6f0d7364e1"
      },
      "execution_count": 23,
      "outputs": [
        {
          "output_type": "execute_result",
          "data": {
            "text/plain": [
              "numpy.ndarray"
            ]
          },
          "metadata": {},
          "execution_count": 23
        }
      ]
    },
    {
      "cell_type": "code",
      "source": [
        "# item은 tensor가 scalar일 때만 사용 가능 \n",
        "x = torch.ones(1)\n",
        "x"
      ],
      "metadata": {
        "colab": {
          "base_uri": "https://localhost:8080/"
        },
        "id": "cWA5uTrbdSww",
        "outputId": "25e87b49-dd8d-407f-8e9f-df9acbe787bb"
      },
      "execution_count": 24,
      "outputs": [
        {
          "output_type": "execute_result",
          "data": {
            "text/plain": [
              "tensor([1.])"
            ]
          },
          "metadata": {},
          "execution_count": 24
        }
      ]
    },
    {
      "cell_type": "code",
      "source": [
        "# loss Fn 값 sacalar값으로 나옴 \n",
        "x.item()"
      ],
      "metadata": {
        "colab": {
          "base_uri": "https://localhost:8080/"
        },
        "id": "BCGIgqildSuD",
        "outputId": "c755e892-c0b0-4cfc-cd4c-c68e4df2e942"
      },
      "execution_count": 25,
      "outputs": [
        {
          "output_type": "execute_result",
          "data": {
            "text/plain": [
              "1.0"
            ]
          },
          "metadata": {},
          "execution_count": 25
        }
      ]
    },
    {
      "cell_type": "code",
      "source": [
        "#미분 - 딥러닝에서 필수 loss Fn\n",
        "# 1. 변수 선언 (+데이터 입력)\n",
        "x = torch.ones(2,2, requires_grad=True) # requires_grad default = False /   x대해 미분을 할 수 있도록 x에 관한 연산을 모두 추적할 수 있도록 함 \n",
        "x"
      ],
      "metadata": {
        "colab": {
          "base_uri": "https://localhost:8080/"
        },
        "id": "DDalzuR0dSdi",
        "outputId": "d2fcf350-9694-4927-b546-eebc0fb4097c"
      },
      "execution_count": 26,
      "outputs": [
        {
          "output_type": "execute_result",
          "data": {
            "text/plain": [
              "tensor([[1., 1.],\n",
              "        [1., 1.]], requires_grad=True)"
            ]
          },
          "metadata": {},
          "execution_count": 26
        }
      ]
    },
    {
      "cell_type": "code",
      "source": [
        "# 2. 모델 내 연산 예측값 산출\n",
        "y = x +1\n",
        "print(y)"
      ],
      "metadata": {
        "colab": {
          "base_uri": "https://localhost:8080/"
        },
        "id": "u2UtYJz7dSbB",
        "outputId": "a04e8d41-3bce-4236-bddf-bf21a848b5cc"
      },
      "execution_count": 27,
      "outputs": [
        {
          "output_type": "stream",
          "name": "stdout",
          "text": [
            "tensor([[2., 2.],\n",
            "        [2., 2.]], grad_fn=<AddBackward0>)\n"
          ]
        }
      ]
    },
    {
      "cell_type": "code",
      "source": [
        "# 3. 손실함수 계산\n",
        "z = 2*y**2\n",
        "print(z)\n",
        "\n",
        "# 4. 손실 산출\n",
        "res = z.mean() # 평균 \n",
        "res"
      ],
      "metadata": {
        "colab": {
          "base_uri": "https://localhost:8080/"
        },
        "id": "issWHUsQdSY0",
        "outputId": "2365a399-61a5-43af-cc50-79edd6affd95"
      },
      "execution_count": 28,
      "outputs": [
        {
          "output_type": "stream",
          "name": "stdout",
          "text": [
            "tensor([[8., 8.],\n",
            "        [8., 8.]], grad_fn=<MulBackward0>)\n"
          ]
        },
        {
          "output_type": "execute_result",
          "data": {
            "text/plain": [
              "tensor(8., grad_fn=<MeanBackward0>)"
            ]
          },
          "metadata": {},
          "execution_count": 28
        }
      ]
    },
    {
      "cell_type": "code",
      "source": [
        "print(res)"
      ],
      "metadata": {
        "colab": {
          "base_uri": "https://localhost:8080/"
        },
        "id": "BXQS7FG_jigV",
        "outputId": "76cb69b3-9f3e-4ae3-d327-2bc096e78c81"
      },
      "execution_count": 29,
      "outputs": [
        {
          "output_type": "stream",
          "name": "stdout",
          "text": [
            "tensor(8., grad_fn=<MeanBackward0>)\n"
          ]
        }
      ]
    },
    {
      "cell_type": "code",
      "source": [
        "# d(res)/dx_i = x+i + 1\n",
        "# res = (z_1 + .. + z_4)4\n",
        "# z_i = 2 y_i ** 2\n",
        "# z_i = 2(x_i+1)**2\n",
        "res.backward() # res 기준으로 연쇄법칙을 적용하겠다"
      ],
      "metadata": {
        "id": "y1IMRkJEheZC"
      },
      "execution_count": 30,
      "outputs": []
    },
    {
      "cell_type": "code",
      "source": [
        "# x에 대한 미분값 보기\n",
        "print(x.grad)"
      ],
      "metadata": {
        "colab": {
          "base_uri": "https://localhost:8080/"
        },
        "id": "5WQEV3zwheWd",
        "outputId": "19c282a5-26f2-463d-a95a-f552b6b97434"
      },
      "execution_count": 31,
      "outputs": [
        {
          "output_type": "stream",
          "name": "stdout",
          "text": [
            "tensor([[2., 2.],\n",
            "        [2., 2.]])\n"
          ]
        }
      ]
    },
    {
      "cell_type": "code",
      "source": [
        "# 재정리 : 딥러닝 구조와 똑같은 흐름 \n",
        "# 최적화라는 것은 손실함수를 기준으로 해서 각 변수마다 미분을 하게 되는 것 ---> res를 기준으로 미분을 하게 되는 것 \n",
        "import torch\n",
        "\n",
        "x = torch.ones(2,2, requires_grad=True) # x라는 변수를 잡고 변수에 대해 추적을 하게끔 만듬 / 텐서를 계산하면서 \n",
        "y = x+1 # y값을 산출하게 되고 \n",
        "z = 2*y**2 # y값은 loss Fn에 이용이 되고 \n",
        "res = z.mean() # loss값을 산출하게 됨 ---- 마지막에 나온 이 scalar값으로 미분을 하게 되는데 미분을 할 때 requires_grad가 == True인 변수에 대해 미분을 함 \n",
        "res.backward() # res 기준으로 연쇄법칙을 적용하겠다\n",
        "\n",
        "print(x.grad) # x 미분값을 보기 "
      ],
      "metadata": {
        "colab": {
          "base_uri": "https://localhost:8080/"
        },
        "id": "nq8w2znkheT9",
        "outputId": "7906e9d2-74b1-432f-ae6c-e245a8ecd9e7"
      },
      "execution_count": 32,
      "outputs": [
        {
          "output_type": "stream",
          "name": "stdout",
          "text": [
            "tensor([[2., 2.],\n",
            "        [2., 2.]])\n"
          ]
        }
      ]
    },
    {
      "cell_type": "markdown",
      "source": [
        "# 1. PyTorch 데이터 불러오기 \n",
        " 1. pytorch 가 제공하는 데이터 \n",
        " 2. 같은 클래스 별 폴더 이미지 데이터 이용\n",
        " 3. 개인 데이터 사용 (2 types) "
      ],
      "metadata": {
        "id": "BUUjhZ02qvi_"
      }
    },
    {
      "cell_type": "code",
      "source": [
        "import torch\n",
        "import torchvision \n",
        "import torchvision.transforms as tr # 데이터를 불러온 후 바로 전처리 가능하게 만드는 라이브러리\n",
        "from torch.utils.data import DataLoader, Dataset # DataLoader = 배치 사이즈 형태로 만들어서 실제로 학습할 때 이용할 수 있는 형태를 만들어 주는 라이브러리 / Dataset : 튜닝할 때 사용\n",
        "import numpy as np"
      ],
      "metadata": {
        "id": "kVRuA1TpheRe"
      },
      "execution_count": 33,
      "outputs": []
    },
    {
      "cell_type": "markdown",
      "source": [
        "## 1) Pytorch 제공 데이터 사용하기"
      ],
      "metadata": {
        "id": "DCTJId7wtW-L"
      }
    },
    {
      "cell_type": "code",
      "source": [
        "transf = tr.Compose([tr.Resize(8), tr.ToTensor()]) # 전처리를 할 때, Compose 안에 있는 순서대로 수행하게 됨 \n",
        "# transforms on PIL Images -> numpy or list 같은 타입은 오류가 남 * PIL 이미지여야 한다. \n"
      ],
      "metadata": {
        "id": "70chCwVbvXPF"
      },
      "execution_count": 34,
      "outputs": []
    },
    {
      "cell_type": "code",
      "source": [
        "trainset = torchvision.datasets.CIFAR10(root='./data', train=True, download=True, transform=transf) # transform=transf : 들어오는 데이터에 전처리를 해주겟다~ \n",
        "testset = torchvision.datasets.CIFAR10(root='./data', train=False, download=True, transform=transf)"
      ],
      "metadata": {
        "colab": {
          "base_uri": "https://localhost:8080/",
          "height": 103,
          "referenced_widgets": [
            "e27b60d2c8e848a58acee36ccd2ce2fb",
            "f815090c020c4f988df1037fe1669878",
            "690bb3976b7d4a41b9b402f43f66a6f3",
            "a0a8671ce6a04107b2050e8997bef721",
            "681e56f0848a4f1b80f5dff35ff9d9ef",
            "470364e9f8b44aac941a76ddeb267fcf",
            "b329a8a5268c4f35869ccb7aa0220864",
            "b5035440ffc14a0cb58837983c9167a6",
            "741fe626ae1a474cbe908fc3344ac88e",
            "f560ca445692402b80e3fb6fb72a9bc7",
            "821c81427c8c4eb7a6b6ba71d11a8afb"
          ]
        },
        "id": "SQH2_ekYrMSa",
        "outputId": "77f7e6fd-adf2-4645-a675-958efe00197c"
      },
      "execution_count": 35,
      "outputs": [
        {
          "output_type": "stream",
          "name": "stdout",
          "text": [
            "Downloading https://www.cs.toronto.edu/~kriz/cifar-10-python.tar.gz to ./data/cifar-10-python.tar.gz\n"
          ]
        },
        {
          "output_type": "display_data",
          "data": {
            "text/plain": [
              "  0%|          | 0/170498071 [00:00<?, ?it/s]"
            ],
            "application/vnd.jupyter.widget-view+json": {
              "version_major": 2,
              "version_minor": 0,
              "model_id": "e27b60d2c8e848a58acee36ccd2ce2fb"
            }
          },
          "metadata": {}
        },
        {
          "output_type": "stream",
          "name": "stdout",
          "text": [
            "Extracting ./data/cifar-10-python.tar.gz to ./data\n",
            "Files already downloaded and verified\n"
          ]
        }
      ]
    },
    {
      "cell_type": "code",
      "source": [
        "trainset[0][0].size() # trainset[0] = tuple"
      ],
      "metadata": {
        "colab": {
          "base_uri": "https://localhost:8080/"
        },
        "id": "uNzh_3ecrMQC",
        "outputId": "34485c9c-61d6-4dbd-e2ea-09d77cba08f6"
      },
      "execution_count": 36,
      "outputs": [
        {
          "output_type": "execute_result",
          "data": {
            "text/plain": [
              "torch.Size([3, 8, 8])"
            ]
          },
          "metadata": {},
          "execution_count": 36
        }
      ]
    },
    {
      "cell_type": "code",
      "source": [
        "# batch 형태로 만들기 \n",
        "trainloader = DataLoader(trainset, batch_size=50, shuffle=True, num_workers=2) # num_workers : 데이터를 로드할 때 써 프로세스(?)를 몇 개 쓰느냐 - 2,4 혹은 에러가 나면 0으로 놓기 \n",
        "testloader = DataLoader(testset, batch_size=50, shuffle=True, num_workers=2)\n",
        "\n",
        "# 여기까지 데이터 불러오기 / 전처리까지 완료 "
      ],
      "metadata": {
        "id": "nElZctqCrMN8"
      },
      "execution_count": 37,
      "outputs": []
    },
    {
      "cell_type": "code",
      "source": [
        "# 가져온 데이터의 수를 배치사이즈 50으로 나누면 배치의 수가 나옴\n",
        "len(trainset), len(testset), len(trainloader), len(testloader) "
      ],
      "metadata": {
        "id": "8tOKri34x-f3",
        "outputId": "aa56a618-27a2-49fb-8f6b-226079ffd6cb",
        "colab": {
          "base_uri": "https://localhost:8080/"
        }
      },
      "execution_count": 38,
      "outputs": [
        {
          "output_type": "execute_result",
          "data": {
            "text/plain": [
              "(50000, 10000, 1000, 200)"
            ]
          },
          "metadata": {},
          "execution_count": 38
        }
      ]
    },
    {
      "cell_type": "code",
      "source": [
        "# trainloader 안 실제 값을 보는 방법\n",
        "dataiter = iter(trainloader)\n",
        "# list(dataiter)\n",
        "images, labels = dataiter.next()\n",
        "images\n",
        "# [50,3,8,8]\n",
        "# 50: 배치 사이즈 \n",
        "# 3: 채널 수\n",
        "# 8: 이미지 너비\n",
        "# 8: 이미지 높이 "
      ],
      "metadata": {
        "id": "hsZsn7IvrMLn"
      },
      "execution_count": null,
      "outputs": []
    },
    {
      "cell_type": "markdown",
      "source": [
        "## 2) 같은 클래스 별 폴더 이미지 데이터 이용\n"
      ],
      "metadata": {
        "id": "CmUTaj9d4k_P"
      }
    },
    {
      "cell_type": "code",
      "source": [
        "!ls"
      ],
      "metadata": {
        "colab": {
          "base_uri": "https://localhost:8080/"
        },
        "id": "Rx2ZJoiMAhoF",
        "outputId": "8cf8762a-bdd3-435e-b2a2-2ab0700a6d2a"
      },
      "execution_count": 40,
      "outputs": [
        {
          "output_type": "stream",
          "name": "stdout",
          "text": [
            "data  drive  sample_data\n"
          ]
        }
      ]
    },
    {
      "cell_type": "code",
      "source": [
        "cd drive"
      ],
      "metadata": {
        "colab": {
          "base_uri": "https://localhost:8080/"
        },
        "id": "y4tnz_4xAqgi",
        "outputId": "7870a46c-36bc-4e07-8c3c-bfd0c4cf7718"
      },
      "execution_count": 41,
      "outputs": [
        {
          "output_type": "stream",
          "name": "stdout",
          "text": [
            "/content/drive\n"
          ]
        }
      ]
    },
    {
      "cell_type": "code",
      "source": [
        "cd MyDrive/pytorch"
      ],
      "metadata": {
        "colab": {
          "base_uri": "https://localhost:8080/"
        },
        "id": "zJ5ylgLsAsIi",
        "outputId": "e33a58cd-df60-4dd3-9c7d-dce23b6de9f9"
      },
      "execution_count": 42,
      "outputs": [
        {
          "output_type": "stream",
          "name": "stdout",
          "text": [
            "/content/drive/MyDrive/pytorch\n"
          ]
        }
      ]
    },
    {
      "cell_type": "code",
      "source": [
        "# 폴더 안에 클래스 별로 나누기 \n",
        "# ./class/tiger ./class/lion  -> 이렇게 나뉘어져 있으면 ImageFolder()를 사용할 수 있음\n",
        "transf = tr.Compose([tr.Resize(16), tr.ToTensor()])\n",
        "trainset = torchvision.datasets.ImageFolder(root='./class', transform=transf) # ImageFolder() 는 ./class 안에 있는 폴더 별로 labeling을 다르게 매겨서 서치해줌 + 바로 전처리 사용 가능 \n",
        "trainloader = DataLoader(trainset, batch_size=10, shuffle=False, num_workers=2)\n",
        "print(len(trainloader))"
      ],
      "metadata": {
        "colab": {
          "base_uri": "https://localhost:8080/"
        },
        "id": "vA53m7pZ53Lp",
        "outputId": "11bd7d12-399e-4d72-8251-391493eb1f09"
      },
      "execution_count": 43,
      "outputs": [
        {
          "output_type": "stream",
          "name": "stdout",
          "text": [
            "6\n"
          ]
        }
      ]
    },
    {
      "cell_type": "code",
      "source": [
        "from google.colab import drive\n",
        "drive.mount('/content/drive')"
      ],
      "metadata": {
        "colab": {
          "base_uri": "https://localhost:8080/"
        },
        "id": "r1Dcc4S-8Guc",
        "outputId": "fe5b6ed8-e0c5-48c4-91e5-bda7a20145bd"
      },
      "execution_count": 44,
      "outputs": [
        {
          "output_type": "stream",
          "name": "stdout",
          "text": [
            "Drive already mounted at /content/drive; to attempt to forcibly remount, call drive.mount(\"/content/drive\", force_remount=True).\n"
          ]
        }
      ]
    },
    {
      "cell_type": "code",
      "source": [
        "trainset[0][0].size()"
      ],
      "metadata": {
        "colab": {
          "base_uri": "https://localhost:8080/"
        },
        "id": "668nN3xoCVLK",
        "outputId": "852bf05e-d477-4ac8-d4a0-383205daf684"
      },
      "execution_count": 45,
      "outputs": [
        {
          "output_type": "execute_result",
          "data": {
            "text/plain": [
              "torch.Size([3, 16, 16])"
            ]
          },
          "metadata": {},
          "execution_count": 45
        }
      ]
    },
    {
      "cell_type": "code",
      "source": [
        "list(trainloader)"
      ],
      "metadata": {
        "id": "g0B8TNFy53I6"
      },
      "execution_count": null,
      "outputs": []
    },
    {
      "cell_type": "markdown",
      "source": [
        "## 3) 개인 데이터 사용 (2 types) \n"
      ],
      "metadata": {
        "id": "LLK68cSkCgnd"
      }
    },
    {
      "cell_type": "code",
      "source": [
        "# import preprocessing \n",
        "\n",
        "train_images = np.random.randint(256, size=(20,32,32,3)) # numpy 형태로 들어왔다고 가정 : 32 by 32짜리 이미지 3 채널짜리가 20개 있음 \n",
        "train_labels = np.random.randint(2, size=(20,1)) # 그에 따른 label 20개가 있다고 가정\n",
        "\n",
        "# preprocessing ..\n",
        "# train_images, train_labels = preprocessing(train_images, train_labels)  <- preprocessing()에서 전처리가 다 되고 넘어온다. \n",
        "\n",
        "print(train_images.shape, train_labels.shape)  # (20,32,32,3) 20: 배치사이즈, 32by32 : 이미지 사이즈, 3 : 채널 사이즈 "
      ],
      "metadata": {
        "colab": {
          "base_uri": "https://localhost:8080/"
        },
        "id": "WTxCETmd53GV",
        "outputId": "aef60d90-543f-44f5-e45f-f1fb95afd5d6"
      },
      "execution_count": 47,
      "outputs": [
        {
          "output_type": "stream",
          "name": "stdout",
          "text": [
            "(20, 32, 32, 3) (20, 1)\n"
          ]
        }
      ]
    },
    {
      "cell_type": "markdown",
      "source": [
        "class 내부에서 데이터 불러와 전처리 등등 할 수 있는데 왜 외부에서 데이터 들어오는 방식으로 했는지 ? \n",
        "\n",
        "=> ImageFolder는 클래스 별로 폴더 나눠놓으면 세 줄이면 끝나는데 (구글 드라이브에서 가져온 거) 이 방식으로 가능하지 않은 경우가 있기 때문\n",
        "1. 다른 작업과 공용으로 쓰이는 데이터인 경우\n",
        "2. 폴더가 아닌 SQL같은 곳에서 넘어오는 경우\n"
      ],
      "metadata": {
        "id": "F_SvTiJiJnp_"
      }
    },
    {
      "cell_type": "code",
      "source": [
        "# dataset class를 상속받을 클래스 만들기 \n",
        "\n",
        "\n",
        "class TensorData(Dataset):\n",
        "  def __init__(self, x_data, y_data): # 외부에서 데이터 들어올려고 x_data, y_data 작성함\n",
        "    self.x_data = torch.FloatTensor(x_data) # tensor로 변경 근데 이제 타입이 float 인..     // Tensor로 바꾸기 전 전처리가 이미 다 되어 있음 위의 preprocessing()에서 \n",
        "    self.x_data = self.x_data.permute(0,3,1,2) ## permute()함수로 이미지 개수, 채널 수, 이미지 너비, 높이로 순서 바꾸기 \n",
        "    self.y_data = torch.LongTensor(y_data) # tensor로 변경 근데 이제 타입이 Long인..\n",
        "    self.len = self.y_data.shape[0] # 데이터의 개수 \n",
        "\n",
        "  def __getitem__(self, index):\n",
        "    return self.x_data[index], self.y_data[index] # tuple형태로 내보낼 것\n",
        "\n",
        "  def __len__(self):\n",
        "    return self.len\n"
      ],
      "metadata": {
        "id": "2ft8JO-F53Ds"
      },
      "execution_count": 48,
      "outputs": []
    },
    {
      "cell_type": "code",
      "source": [
        "train_data = TensorData(train_images, train_labels) # class instance 생성, 데이터 두 개(x_data, y_data) 불러오니까 두 개 넣어줌\n",
        "train_loader = DataLoader(train_data, batch_size=10, shuffle=True)"
      ],
      "metadata": {
        "id": "OD5D7M6S53BO"
      },
      "execution_count": 49,
      "outputs": []
    },
    {
      "cell_type": "code",
      "source": [
        "train_data[0][0].size()"
      ],
      "metadata": {
        "colab": {
          "base_uri": "https://localhost:8080/"
        },
        "id": "OqxaiaKj52_a",
        "outputId": "bf567bf9-0a43-4f8d-df6f-6633b385cd63"
      },
      "execution_count": 50,
      "outputs": [
        {
          "output_type": "execute_result",
          "data": {
            "text/plain": [
              "torch.Size([3, 32, 32])"
            ]
          },
          "metadata": {},
          "execution_count": 50
        }
      ]
    },
    {
      "cell_type": "code",
      "source": [
        "dataiter = iter(train_loader)\n",
        "images, labels = dataiter.next()"
      ],
      "metadata": {
        "id": "zN499Q8oJEXj"
      },
      "execution_count": 51,
      "outputs": []
    },
    {
      "cell_type": "code",
      "source": [
        "images.size()"
      ],
      "metadata": {
        "id": "OcPemeuOrMJY",
        "colab": {
          "base_uri": "https://localhost:8080/"
        },
        "outputId": "c3ec29e8-c36c-47f0-f4de-40b02101678d"
      },
      "execution_count": 52,
      "outputs": [
        {
          "output_type": "execute_result",
          "data": {
            "text/plain": [
              "torch.Size([10, 3, 32, 32])"
            ]
          },
          "metadata": {},
          "execution_count": 52
        }
      ]
    },
    {
      "cell_type": "markdown",
      "source": [
        "개인 데이터에 이제 transfor= 을 사용해보기 "
      ],
      "metadata": {
        "id": "rj-JgvpnZ14j"
      }
    },
    {
      "cell_type": "code",
      "source": [
        "##### 기본 양식 \n",
        "# from torch.utils.data import Dataset\n",
        "\n",
        "# class MyDataset(Dataset):\n",
        "\n",
        "  # def __init__(self):\n",
        "\n",
        "  # def __getitem__(self, index):\n",
        "              \n",
        "  # def __len__(self):"
      ],
      "metadata": {
        "id": "N9t7gWfzrMHW"
      },
      "execution_count": 53,
      "outputs": []
    },
    {
      "cell_type": "code",
      "source": [
        "from torch.utils.data import Dataset\n",
        "\n",
        "class MyDataset(Dataset):\n",
        "  def __init__(self, x_data, y_data, transform=None):\n",
        "    self.x_data = x_data\n",
        "    self.y_data = y_data\n",
        "    self.transform = transform\n",
        "    self.len = len(y_data)\n",
        "              \n",
        "  def __getitem__(self, index):\n",
        "    sample = self.x_data[index], self.y_data[index] # tuple 형태를\n",
        "\n",
        "    if self.transform:  # 내보내기 전 전처리 작업을 하겠다. \n",
        "      sample = self.transform(sample)\n",
        "\n",
        "    return sample # transform=None이면 x_data, y_data 를 Tensor로 변환안했기 때문에 Numpy로 내보내짐 \n",
        "\n",
        "  def __len__(self):\n",
        "    return self.len\n",
        "\n",
        "# transform을 수기로 class로 작성해보기\n",
        "class ToTensor:\n",
        "  def __call__(self, sample):\n",
        "    inputs, labels = sample\n",
        "    inputs = torch.FloatTensor(inputs)\n",
        "    inputs = inputs.permute(2,0,1)\n",
        "    return inputs, torch.LongTensor(labels)\n",
        "\n",
        "class LinearTensor:\n",
        "  def __init__(self, slope=1, bias=0):\n",
        "    self.slope = slope\n",
        "    self.bias = bias\n",
        "\n",
        "  def __call__(self, sample):\n",
        "    inputs, labels = sample\n",
        "    inputs = self.slope*inputs + self.bias\n",
        "    return inputs, labels "
      ],
      "metadata": {
        "id": "YUf3h733hePB"
      },
      "execution_count": 54,
      "outputs": []
    },
    {
      "cell_type": "code",
      "source": [
        "trans = tr.Compose([ToTensor(), LinearTensor(2,5)]) # !!! tr.toTensor()를 사용하지 못하는 이유 : tr은 PIL images 형태여야함 - 지금 가지고 있는 데이터가 Numpy - 타입이 다르기 때문에 에러남 \n",
        "ds1 = MyDataset(train_images, train_labels, transform=trans)\n",
        "train_loader1 = DataLoader(ds1, batch_size=10, shuffle=True) # DataLoader로 배치형태로 변환\n",
        "ds1[0][0].size()"
      ],
      "metadata": {
        "id": "hu9xxGVcheNJ",
        "colab": {
          "base_uri": "https://localhost:8080/"
        },
        "outputId": "c1015b95-3233-4b7c-f01f-2a84116dd213"
      },
      "execution_count": 55,
      "outputs": [
        {
          "output_type": "execute_result",
          "data": {
            "text/plain": [
              "torch.Size([3, 32, 32])"
            ]
          },
          "metadata": {},
          "execution_count": 55
        }
      ]
    },
    {
      "cell_type": "code",
      "source": [
        "first_data = ds1[0]\n",
        "features, labels = first_data\n",
        "print(type(features), type(labels))"
      ],
      "metadata": {
        "id": "BdG76OTEdSWe",
        "colab": {
          "base_uri": "https://localhost:8080/"
        },
        "outputId": "a64c37e2-4d6a-42a7-bba2-58f7578ea2f5"
      },
      "execution_count": 56,
      "outputs": [
        {
          "output_type": "stream",
          "name": "stdout",
          "text": [
            "<class 'torch.Tensor'> <class 'torch.Tensor'>\n"
          ]
        }
      ]
    },
    {
      "cell_type": "code",
      "source": [
        "dataiter1 = iter(train_loader1)\n",
        "images1, labels1 = dataiter1.next()"
      ],
      "metadata": {
        "id": "KmJXlqzzdSUg"
      },
      "execution_count": 57,
      "outputs": []
    },
    {
      "cell_type": "code",
      "source": [
        "class MyDataset(Dataset):\n",
        "  def __init__(self, x_data, y_data, transform=None):\n",
        "    self.x_data = x_data\n",
        "    self.y_data = y_data\n",
        "    self.transform = transform\n",
        "    self.len = len(y_data)\n",
        "\n",
        "  def __getitem__(self, index):\n",
        "    sample = self.x_data[index], self.y_data[index]\n",
        "\n",
        "    if self.transform:\n",
        "      sample = self.transform(sample)\n",
        "\n",
        "    return sample\n",
        "\n",
        "  def __len__(self):\n",
        "    return self.len\n",
        "\n",
        "class MyTransform:\n",
        "  def __call__(self, sample):\n",
        "    inputs, labels = sample\n",
        "    inputs = torch.FloatTensor(inputs)\n",
        "    inputs = inputs.permute(2,0,1)\n",
        "    labels = torch.FloatTensor(labels)\n",
        "\n",
        "    transf = tr.Compose([tr.ToPILImage(), tr.Resize(128), tr.ToTensor(), tr.Normalize((0.5, 0.5, 0.5), (0.5, 0.5, 0.5))])\n",
        "    final_output = transf(inputs)\n",
        "\n",
        "    return final_output, labels\n"
      ],
      "metadata": {
        "id": "ug-FyiOLhMNO"
      },
      "execution_count": 58,
      "outputs": []
    },
    {
      "cell_type": "code",
      "source": [
        "ds2 = MyDataset(train_images, train_labels, transform=MyTransform())\n",
        "train_loader2 = DataLoader(ds2, batch_size=10, shuffle=True)\n",
        "# batch 하는 이유 : 학습 때 전체 학습하면 너무 느려져서 배치로 나누어 학습하기 위해"
      ],
      "metadata": {
        "id": "WBrPaqOViaHS"
      },
      "execution_count": 59,
      "outputs": []
    },
    {
      "cell_type": "code",
      "source": [
        "first_data = ds2[0]\n",
        "features, labels = first_data\n",
        "print(type(features), type(labels))"
      ],
      "metadata": {
        "colab": {
          "base_uri": "https://localhost:8080/"
        },
        "id": "NLeASF_MiaE_",
        "outputId": "9860f305-ad98-4392-de6a-85dd0a22a810"
      },
      "execution_count": 60,
      "outputs": [
        {
          "output_type": "stream",
          "name": "stdout",
          "text": [
            "<class 'torch.Tensor'> <class 'torch.Tensor'>\n"
          ]
        }
      ]
    },
    {
      "cell_type": "code",
      "source": [
        "features.size()"
      ],
      "metadata": {
        "colab": {
          "base_uri": "https://localhost:8080/"
        },
        "id": "SobvMEHIlJad",
        "outputId": "052b28c8-ea2e-4ea5-f3dc-adce0f1dc116"
      },
      "execution_count": 61,
      "outputs": [
        {
          "output_type": "execute_result",
          "data": {
            "text/plain": [
              "torch.Size([3, 128, 128])"
            ]
          },
          "metadata": {},
          "execution_count": 61
        }
      ]
    },
    {
      "cell_type": "code",
      "source": [
        "dataiter2 = iter(train_loader2)\n",
        "images2, labels2 = dataiter2.next()\n",
        "# images2"
      ],
      "metadata": {
        "id": "BsOyy7dkiaCE"
      },
      "execution_count": 62,
      "outputs": []
    },
    {
      "cell_type": "markdown",
      "source": [
        "### **Local에 있는 CSV 파일 불러오기 ☄️**"
      ],
      "metadata": {
        "id": "QneBoLBQfvhI"
      }
    },
    {
      "cell_type": "code",
      "source": [
        "from google.colab import files\n",
        "uploaded = files.upload()"
      ],
      "metadata": {
        "colab": {
          "base_uri": "https://localhost:8080/",
          "height": 74
        },
        "id": "Nf6F-UCzfwDT",
        "outputId": "b4a9375b-aaf9-4e31-b9ff-5cece11239bf"
      },
      "execution_count": 98,
      "outputs": [
        {
          "output_type": "display_data",
          "data": {
            "text/plain": [
              "<IPython.core.display.HTML object>"
            ],
            "text/html": [
              "\n",
              "     <input type=\"file\" id=\"files-948fd479-d632-405f-a889-db1d8453a498\" name=\"files[]\" multiple disabled\n",
              "        style=\"border:none\" />\n",
              "     <output id=\"result-948fd479-d632-405f-a889-db1d8453a498\">\n",
              "      Upload widget is only available when the cell has been executed in the\n",
              "      current browser session. Please rerun this cell to enable.\n",
              "      </output>\n",
              "      <script>// Copyright 2017 Google LLC\n",
              "//\n",
              "// Licensed under the Apache License, Version 2.0 (the \"License\");\n",
              "// you may not use this file except in compliance with the License.\n",
              "// You may obtain a copy of the License at\n",
              "//\n",
              "//      http://www.apache.org/licenses/LICENSE-2.0\n",
              "//\n",
              "// Unless required by applicable law or agreed to in writing, software\n",
              "// distributed under the License is distributed on an \"AS IS\" BASIS,\n",
              "// WITHOUT WARRANTIES OR CONDITIONS OF ANY KIND, either express or implied.\n",
              "// See the License for the specific language governing permissions and\n",
              "// limitations under the License.\n",
              "\n",
              "/**\n",
              " * @fileoverview Helpers for google.colab Python module.\n",
              " */\n",
              "(function(scope) {\n",
              "function span(text, styleAttributes = {}) {\n",
              "  const element = document.createElement('span');\n",
              "  element.textContent = text;\n",
              "  for (const key of Object.keys(styleAttributes)) {\n",
              "    element.style[key] = styleAttributes[key];\n",
              "  }\n",
              "  return element;\n",
              "}\n",
              "\n",
              "// Max number of bytes which will be uploaded at a time.\n",
              "const MAX_PAYLOAD_SIZE = 100 * 1024;\n",
              "\n",
              "function _uploadFiles(inputId, outputId) {\n",
              "  const steps = uploadFilesStep(inputId, outputId);\n",
              "  const outputElement = document.getElementById(outputId);\n",
              "  // Cache steps on the outputElement to make it available for the next call\n",
              "  // to uploadFilesContinue from Python.\n",
              "  outputElement.steps = steps;\n",
              "\n",
              "  return _uploadFilesContinue(outputId);\n",
              "}\n",
              "\n",
              "// This is roughly an async generator (not supported in the browser yet),\n",
              "// where there are multiple asynchronous steps and the Python side is going\n",
              "// to poll for completion of each step.\n",
              "// This uses a Promise to block the python side on completion of each step,\n",
              "// then passes the result of the previous step as the input to the next step.\n",
              "function _uploadFilesContinue(outputId) {\n",
              "  const outputElement = document.getElementById(outputId);\n",
              "  const steps = outputElement.steps;\n",
              "\n",
              "  const next = steps.next(outputElement.lastPromiseValue);\n",
              "  return Promise.resolve(next.value.promise).then((value) => {\n",
              "    // Cache the last promise value to make it available to the next\n",
              "    // step of the generator.\n",
              "    outputElement.lastPromiseValue = value;\n",
              "    return next.value.response;\n",
              "  });\n",
              "}\n",
              "\n",
              "/**\n",
              " * Generator function which is called between each async step of the upload\n",
              " * process.\n",
              " * @param {string} inputId Element ID of the input file picker element.\n",
              " * @param {string} outputId Element ID of the output display.\n",
              " * @return {!Iterable<!Object>} Iterable of next steps.\n",
              " */\n",
              "function* uploadFilesStep(inputId, outputId) {\n",
              "  const inputElement = document.getElementById(inputId);\n",
              "  inputElement.disabled = false;\n",
              "\n",
              "  const outputElement = document.getElementById(outputId);\n",
              "  outputElement.innerHTML = '';\n",
              "\n",
              "  const pickedPromise = new Promise((resolve) => {\n",
              "    inputElement.addEventListener('change', (e) => {\n",
              "      resolve(e.target.files);\n",
              "    });\n",
              "  });\n",
              "\n",
              "  const cancel = document.createElement('button');\n",
              "  inputElement.parentElement.appendChild(cancel);\n",
              "  cancel.textContent = 'Cancel upload';\n",
              "  const cancelPromise = new Promise((resolve) => {\n",
              "    cancel.onclick = () => {\n",
              "      resolve(null);\n",
              "    };\n",
              "  });\n",
              "\n",
              "  // Wait for the user to pick the files.\n",
              "  const files = yield {\n",
              "    promise: Promise.race([pickedPromise, cancelPromise]),\n",
              "    response: {\n",
              "      action: 'starting',\n",
              "    }\n",
              "  };\n",
              "\n",
              "  cancel.remove();\n",
              "\n",
              "  // Disable the input element since further picks are not allowed.\n",
              "  inputElement.disabled = true;\n",
              "\n",
              "  if (!files) {\n",
              "    return {\n",
              "      response: {\n",
              "        action: 'complete',\n",
              "      }\n",
              "    };\n",
              "  }\n",
              "\n",
              "  for (const file of files) {\n",
              "    const li = document.createElement('li');\n",
              "    li.append(span(file.name, {fontWeight: 'bold'}));\n",
              "    li.append(span(\n",
              "        `(${file.type || 'n/a'}) - ${file.size} bytes, ` +\n",
              "        `last modified: ${\n",
              "            file.lastModifiedDate ? file.lastModifiedDate.toLocaleDateString() :\n",
              "                                    'n/a'} - `));\n",
              "    const percent = span('0% done');\n",
              "    li.appendChild(percent);\n",
              "\n",
              "    outputElement.appendChild(li);\n",
              "\n",
              "    const fileDataPromise = new Promise((resolve) => {\n",
              "      const reader = new FileReader();\n",
              "      reader.onload = (e) => {\n",
              "        resolve(e.target.result);\n",
              "      };\n",
              "      reader.readAsArrayBuffer(file);\n",
              "    });\n",
              "    // Wait for the data to be ready.\n",
              "    let fileData = yield {\n",
              "      promise: fileDataPromise,\n",
              "      response: {\n",
              "        action: 'continue',\n",
              "      }\n",
              "    };\n",
              "\n",
              "    // Use a chunked sending to avoid message size limits. See b/62115660.\n",
              "    let position = 0;\n",
              "    do {\n",
              "      const length = Math.min(fileData.byteLength - position, MAX_PAYLOAD_SIZE);\n",
              "      const chunk = new Uint8Array(fileData, position, length);\n",
              "      position += length;\n",
              "\n",
              "      const base64 = btoa(String.fromCharCode.apply(null, chunk));\n",
              "      yield {\n",
              "        response: {\n",
              "          action: 'append',\n",
              "          file: file.name,\n",
              "          data: base64,\n",
              "        },\n",
              "      };\n",
              "\n",
              "      let percentDone = fileData.byteLength === 0 ?\n",
              "          100 :\n",
              "          Math.round((position / fileData.byteLength) * 100);\n",
              "      percent.textContent = `${percentDone}% done`;\n",
              "\n",
              "    } while (position < fileData.byteLength);\n",
              "  }\n",
              "\n",
              "  // All done.\n",
              "  yield {\n",
              "    response: {\n",
              "      action: 'complete',\n",
              "    }\n",
              "  };\n",
              "}\n",
              "\n",
              "scope.google = scope.google || {};\n",
              "scope.google.colab = scope.google.colab || {};\n",
              "scope.google.colab._files = {\n",
              "  _uploadFiles,\n",
              "  _uploadFilesContinue,\n",
              "};\n",
              "})(self);\n",
              "</script> "
            ]
          },
          "metadata": {}
        },
        {
          "output_type": "stream",
          "name": "stdout",
          "text": [
            "Saving restaurants_names.csv to restaurants_names (4).csv\n"
          ]
        }
      ]
    },
    {
      "cell_type": "code",
      "source": [
        "import pandas as pd\n",
        "df = pd.read_csv('restaurants_names.csv')\n",
        "\n"
      ],
      "metadata": {
        "id": "bEvInsDLfxN3"
      },
      "execution_count": null,
      "outputs": []
    },
    {
      "cell_type": "markdown",
      "source": [
        "# 2. 인공신경망 구축 : 기본 모델 구축 및 저장하기\n",
        "이미지 중심의 모델"
      ],
      "metadata": {
        "id": "HueFq6AwmndE"
      }
    },
    {
      "cell_type": "code",
      "source": [
        "import torch\n",
        "import torchvision\n",
        "import torchvision.transforms as transforms # 데이터 불러온 후 전처리하기 위함 \n",
        "from torch.utils.data import DataLoader # 배치 형태로 만들어주는 라이브러리"
      ],
      "metadata": {
        "id": "-Acgy5RoiZ89"
      },
      "execution_count": 65,
      "outputs": []
    },
    {
      "cell_type": "code",
      "source": [
        "transform = transforms.Compose([transforms.ToTensor(), transforms.Normalize((0.5,0.5,0.5), (0.5,0.5,0.5))])\n",
        "\n",
        "trainset = torchvision.datasets.CIFAR10(root='./data', train=True, download=True, transform=transform)\n",
        "trainloader = torch.utils.data.DataLoader(trainset, batch_size=8, shuffle=True, num_workers=2)\n",
        "\n",
        "testset = torchvision.datasets.CIFAR10(root='./data', train=False, download=True, transform=transform)\n",
        "testloader = torch.utils.data.DataLoader(testset, batch_size=8, shuffle=False, num_workers=2)\n",
        "\n",
        "classes = ('plane', 'car', 'bird', 'cat', 'deer', 'dog', 'frog', 'horse', 'ship', 'truck')\n",
        "\n",
        "# CIFAR10 : 10개의 classes가 들어있는 이미지 파일임, 위의 classes 분류 10개의 파일"
      ],
      "metadata": {
        "colab": {
          "base_uri": "https://localhost:8080/"
        },
        "id": "Rgab9qlfiZ6H",
        "outputId": "e3b09186-ca4e-4f48-a337-a475b7ef8e75"
      },
      "execution_count": 66,
      "outputs": [
        {
          "output_type": "stream",
          "name": "stdout",
          "text": [
            "Files already downloaded and verified\n",
            "Files already downloaded and verified\n"
          ]
        }
      ]
    },
    {
      "cell_type": "code",
      "source": [
        "import torch.nn as nn\n",
        "import torch.nn.functional as F\n",
        "\n",
        "class Net(nn.Module):\n",
        "  def __init__(self): # 내가 사용하고자하는 연산들을 정의해주기 \n",
        "    super(Net, self).__init__()\n",
        "    self.conv1 = nn.Conv2d(3,6,5)\n",
        "    self.pool = nn.MaxPool2d(2,2)\n",
        "    self.conv2 = nn.Conv2d(6, 16, 5)\n",
        "    self.fc1 = nn.Linear(16*5*5, 120)\n",
        "    self.fc2 = nn.Linear(120, 84)\n",
        "    self.fc3 = nn.Linear(84, 10)\n",
        "\n",
        "  def forward(self, x):\n",
        "    x = self.pool(F.relu(self.conv1(x)))\n",
        "    x = self.pool(F.relu(self.conv2(x)))\n",
        "    x = x.view(-1, 16*5*5)\n",
        "    x = F.relu(self.fc1(x))\n",
        "    x = F.relu(self.fc2(x))\n",
        "    x = self.fc3(x)\n",
        "    return x\n",
        "\n",
        "net = Net()"
      ],
      "metadata": {
        "id": "JniUMy3NMXpF"
      },
      "execution_count": 67,
      "outputs": []
    },
    {
      "cell_type": "code",
      "source": [
        "print(net)"
      ],
      "metadata": {
        "id": "6laTTK8pMXnY",
        "colab": {
          "base_uri": "https://localhost:8080/"
        },
        "outputId": "4343b7ae-5c46-4427-ae9a-2fa3d4f5fe3b"
      },
      "execution_count": 68,
      "outputs": [
        {
          "output_type": "stream",
          "name": "stdout",
          "text": [
            "Net(\n",
            "  (conv1): Conv2d(3, 6, kernel_size=(5, 5), stride=(1, 1))\n",
            "  (pool): MaxPool2d(kernel_size=2, stride=2, padding=0, dilation=1, ceil_mode=False)\n",
            "  (conv2): Conv2d(6, 16, kernel_size=(5, 5), stride=(1, 1))\n",
            "  (fc1): Linear(in_features=400, out_features=120, bias=True)\n",
            "  (fc2): Linear(in_features=120, out_features=84, bias=True)\n",
            "  (fc3): Linear(in_features=84, out_features=10, bias=True)\n",
            ")\n"
          ]
        }
      ]
    },
    {
      "cell_type": "code",
      "source": [
        "import torch.optim as optim\n",
        "\n",
        "criterion = nn.CrossEntropyLoss() #loss Function / CrossEntropyLoss()는 보통 전형적인 분류에 쓰이는 Loss Fn\n",
        "optimizer = optim.SGD(net.parameters(), lr=0.001, momentum=0.9) # 옵티마이저 / net : 우리가 정의한 모델 / .parameters() : net안에 있는 parameters 모아놓은 것 / Lr = Learning Rate (스케쥴링을 통해 가변적으로 변경 가능)"
      ],
      "metadata": {
        "id": "5srtXKpvMXlG"
      },
      "execution_count": 69,
      "outputs": []
    },
    {
      "cell_type": "code",
      "source": [
        "# 실질적인 학습 \n",
        "# epoch이 많~다고 해서 좋은 게 아니고 돌다가 가장 최적의 세팅이 나올 수 있음 그럴 때 조건문으로 Best모델 저장하기 Ex) 이전 로스보다 더 작으면~ \n",
        "for epoch in range(1): # 여기 For문이 한 번 돌때마다 모든 데이터 (8배치)를 한 번 모두 훑은 것 == 데이터 전체를 몇 번 보았느냐 \n",
        "  running_loss = 0.0\n",
        "\n",
        "  for i, data in enumerate(trainloader, 0): # 트레이닝 데이터를 불러오기 Batch = 8개 / \n",
        "    # get the inputs; data is a list of [inputs, labels]\n",
        "    inputs, labels = data\n",
        "\n",
        "    # zero the parameter gradients 옵티마이저 초기화 \n",
        "    optimizer.zero_grad()\n",
        "\n",
        "    #forward + backward + optimize\n",
        "    outputs = net(inputs) # net()의 forwad(self, x) 의 x 값 = inputs (이미지)\n",
        "    loss = criterion(outputs, labels) # loss는 scalar 값\n",
        "    # loss기준으로 gradient 계산 / loss기준으로 backward()를 한다. \n",
        "    loss.backward() # 돌 때마다의 8개의 로스를 뜻함 \n",
        "    # 옵티마이저 계산하기 \n",
        "    optimizer.step()\n",
        "\n",
        "    #print statistics\n",
        "    running_loss += loss.item()\n",
        "\n",
        "    # 매 2000mini-batches마다 프린트\n",
        "    if i % 2000 == 1999:\n",
        "      print('[%d, %5d] loss: %.3f' % (epoch+1, i+1, running_loss/2000))\n",
        "      running_loss = 0.0\n",
        "\n",
        "print('Training finished')"
      ],
      "metadata": {
        "colab": {
          "base_uri": "https://localhost:8080/"
        },
        "id": "-jZmL3SxNVuT",
        "outputId": "19e678cc-90f3-4ee2-a684-d05dcc38d7a2"
      },
      "execution_count": 70,
      "outputs": [
        {
          "output_type": "stream",
          "name": "stdout",
          "text": [
            "[1,  2000] loss: 2.222\n",
            "[1,  4000] loss: 1.822\n",
            "[1,  6000] loss: 1.633\n",
            "[2,  2000] loss: 1.514\n",
            "[2,  4000] loss: 1.452\n",
            "[2,  6000] loss: 1.379\n",
            "[3,  2000] loss: 1.315\n",
            "[3,  4000] loss: 1.278\n",
            "[3,  6000] loss: 1.251\n",
            "Training finished\n"
          ]
        }
      ]
    },
    {
      "cell_type": "code",
      "source": [
        "correct = 0\n",
        "total = 0\n",
        "with torch.no_grad(): # 테스트 할 때는 gradient 업데이트 안하기때문에 no_grad() 를 넣음\n",
        "  for data in testloader: # testdata도 batch=8로 나누었기때문에 for문으로 돌림 \n",
        "    images, labels = data\n",
        "    outputs = net(images) # 위의 모델에서 최종 10개가 나오도록 함 / outputs은 10개의 값들이 있는 Vector가 나옴\n",
        "    _, predicted = torch.max(outputs.data, 1) # 그 vector 중 가장 큰 값을 뽑아서 예측하겠다. --> 위의 classes 자리 index값으로 선택 \n",
        "    total += labels.size(0)\n",
        "    correct += (predicted == labels).sum().item() # predicted와 labels가 같으면 맞는 걸로 하겠다. \n",
        "\n",
        "print('Accuracy of the network on the 10000 test images: %d %%' %(100*correct/total))"
      ],
      "metadata": {
        "colab": {
          "base_uri": "https://localhost:8080/"
        },
        "id": "ubN6jyMnBA_z",
        "outputId": "f0578c2a-d3c4-43e8-bcce-7852f78b9005"
      },
      "execution_count": 71,
      "outputs": [
        {
          "output_type": "stream",
          "name": "stdout",
          "text": [
            "Accuracy of the network on the 10000 test images: 56 %\n"
          ]
        }
      ]
    },
    {
      "cell_type": "markdown",
      "source": [
        "# 3. 모델 저장하기"
      ],
      "metadata": {
        "id": "YSc7NI7GY6Bm"
      }
    },
    {
      "cell_type": "code",
      "source": [
        "PATH = './cifar_net.pth'\n",
        "torch.save(net.state_dict(), PATH)"
      ],
      "metadata": {
        "id": "dLHWFPOxY5vJ"
      },
      "execution_count": 72,
      "outputs": []
    },
    {
      "cell_type": "markdown",
      "source": [
        "# 4. 모델 불러오기"
      ],
      "metadata": {
        "id": "mY5rPjWo_4JG"
      }
    },
    {
      "cell_type": "code",
      "source": [
        "net = Net()\n",
        "net.load_state_dict(torch.load(PATH))"
      ],
      "metadata": {
        "colab": {
          "base_uri": "https://localhost:8080/"
        },
        "id": "KXfjJo4_NVoN",
        "outputId": "7f7f2f7d-7f0f-4c67-a2fb-8943c27b4eff"
      },
      "execution_count": 73,
      "outputs": [
        {
          "output_type": "execute_result",
          "data": {
            "text/plain": [
              "<All keys matched successfully>"
            ]
          },
          "metadata": {},
          "execution_count": 73
        }
      ]
    },
    {
      "cell_type": "markdown",
      "source": [
        "* 일반적인 Tensor는 cpu연산을 할 수 있는 텐서임.\n",
        "지금은 cpu로 했는데 이미지 처리는 cpu보다 gpu 연산으로 바꿔주는 게 좋음 (Cpu로 돌리면 비행기 이륙 소리가 난다고 함 ㅋ)"
      ],
      "metadata": {
        "id": "wES9hNGGPVjW"
      }
    },
    {
      "cell_type": "markdown",
      "source": [
        "# 5. 인공신경망 \n",
        "## - 최적화 기법 "
      ],
      "metadata": {
        "id": "Q31aOtJYPvCU"
      }
    },
    {
      "cell_type": "code",
      "source": [
        "import torch\n",
        "import torchvision\n",
        "\n",
        "model = torchvision.models.resnet18(pretrained=False)"
      ],
      "metadata": {
        "colab": {
          "base_uri": "https://localhost:8080/"
        },
        "id": "2YsLuwxGRgSk",
        "outputId": "9b228ff6-c76a-4fdb-8403-cd00452751b8"
      },
      "execution_count": 74,
      "outputs": [
        {
          "output_type": "stream",
          "name": "stderr",
          "text": [
            "/usr/local/lib/python3.7/dist-packages/torchvision/models/_utils.py:209: UserWarning: The parameter 'pretrained' is deprecated since 0.13 and will be removed in 0.15, please use 'weights' instead.\n",
            "  f\"The parameter '{pretrained_param}' is deprecated since 0.13 and will be removed in 0.15, \"\n",
            "/usr/local/lib/python3.7/dist-packages/torchvision/models/_utils.py:223: UserWarning: Arguments other than a weight enum or `None` for 'weights' are deprecated since 0.13 and will be removed in 0.15. The current behavior is equivalent to passing `weights=None`.\n",
            "  warnings.warn(msg)\n"
          ]
        }
      ]
    },
    {
      "cell_type": "markdown",
      "source": [
        "### SGD (Stochastic Gradient Descent, 확률적 경사 하강법) \n",
        "한 번 학습 시 전체 데이터가 아닌 일부 데이터를 사용\n",
        "\n",
        "단점 : 학습률(Lr) 고정되어 있음. \n",
        "학습률을 가변해서 사용하는 방법이 여러가지가 있고 학습률은 그대로 유지한채 momentum 을 추가한 방법도 있음 \n",
        "\n",
        "크게 두 가지 SGD Base Opmizer 가 있음 \n",
        "1. momentum optimizer (뒤에 변수 \"momentum\"만 추가해주면 됨) - 스케쥴러를 사용\n",
        "2. Adaptive Learning Rate base (미리 lr을 정의해두지만 미리 만들어 놓은 식에 의해서 가변이 됨) - 스케쥴러를 사용안해도 됨. 사용해도 문제는 없지만 adam이 이미 가변기능이 있으니 사용안함\n",
        "=> 둘 다 많이 사용함 "
      ],
      "metadata": {
        "id": "Tc18aUG-Q1wV"
      }
    },
    {
      "cell_type": "markdown",
      "source": [
        "#### 1. SGD 기본 \n"
      ],
      "metadata": {
        "id": "JFx2_HD9VK3-"
      }
    },
    {
      "cell_type": "code",
      "source": [
        "optimizer = torch.optim.SGD(model.parameters(), lr=0.01)"
      ],
      "metadata": {
        "id": "UEZwjXu5Q2Jf"
      },
      "execution_count": 75,
      "outputs": []
    },
    {
      "cell_type": "markdown",
      "source": [
        "#### 2. Momentum\n"
      ],
      "metadata": {
        "id": "KkndyI2XP4gn"
      }
    },
    {
      "cell_type": "code",
      "source": [
        "optimizer = torch.optim.SGD(model.parameters(), lr=0.01, momentum=0.9)"
      ],
      "metadata": {
        "id": "6ewO6FfPWXqM"
      },
      "execution_count": 76,
      "outputs": []
    },
    {
      "cell_type": "markdown",
      "source": [
        "#### 3. Adam"
      ],
      "metadata": {
        "id": "fYLD54adP7dL"
      }
    },
    {
      "cell_type": "code",
      "source": [
        "optimizer = torch.optim.Adam(model.parameters(), lr=0.01)  # 미리 lr을 정의해두지만 미리 만들어 놓은 식에 의해서 가변이 됨  -> 아주 많이 사용됨. "
      ],
      "metadata": {
        "id": "JPEv8P-hP7TT"
      },
      "execution_count": 77,
      "outputs": []
    },
    {
      "cell_type": "markdown",
      "source": [
        "#### 4. 스케쥴링"
      ],
      "metadata": {
        "id": "geAQd6SYP9p1"
      }
    },
    {
      "cell_type": "code",
      "source": [
        "optimizer = torch.optim.SGD(model.parameters(), lr=0.1, momentum=0.9) # 모멘텀을 기반으로 옵티마이저를 선언 --> lr 이 바뀌지 않기 때문에 스케쥴링으로 바꾸기 \n",
        "scheduler = torch.optim.lr_sheduler.StepLR(optimizer, step_size=30, gamma=0.1) # 스케쥴 종류 많음 - StepLR : 일정 스탭마다 lr을 줄이거나 늘림 / 매 30바퀴마다 gamma 0.1 * lr 이 사용됨 / cosign함수로 줄이고 올리고도 가능  "
      ],
      "metadata": {
        "colab": {
          "base_uri": "https://localhost:8080/",
          "height": 205
        },
        "id": "g243wErsWZBj",
        "outputId": "47f62479-425e-463c-ac72-fd1897fea51a"
      },
      "execution_count": 78,
      "outputs": [
        {
          "output_type": "error",
          "ename": "AttributeError",
          "evalue": "ignored",
          "traceback": [
            "\u001b[0;31m---------------------------------------------------------------------------\u001b[0m",
            "\u001b[0;31mAttributeError\u001b[0m                            Traceback (most recent call last)",
            "\u001b[0;32m<ipython-input-78-e69f6860d763>\u001b[0m in \u001b[0;36m<module>\u001b[0;34m\u001b[0m\n\u001b[1;32m      1\u001b[0m \u001b[0moptimizer\u001b[0m \u001b[0;34m=\u001b[0m \u001b[0mtorch\u001b[0m\u001b[0;34m.\u001b[0m\u001b[0moptim\u001b[0m\u001b[0;34m.\u001b[0m\u001b[0mSGD\u001b[0m\u001b[0;34m(\u001b[0m\u001b[0mmodel\u001b[0m\u001b[0;34m.\u001b[0m\u001b[0mparameters\u001b[0m\u001b[0;34m(\u001b[0m\u001b[0;34m)\u001b[0m\u001b[0;34m,\u001b[0m \u001b[0mlr\u001b[0m\u001b[0;34m=\u001b[0m\u001b[0;36m0.1\u001b[0m\u001b[0;34m,\u001b[0m \u001b[0mmomentum\u001b[0m\u001b[0;34m=\u001b[0m\u001b[0;36m0.9\u001b[0m\u001b[0;34m)\u001b[0m \u001b[0;31m# 모멘텀을 기반으로 옵티마이저를 선언 --> lr 이 바뀌지 않기 때문에 스케쥴링으로 바꾸기\u001b[0m\u001b[0;34m\u001b[0m\u001b[0;34m\u001b[0m\u001b[0m\n\u001b[0;32m----> 2\u001b[0;31m \u001b[0mscheduler\u001b[0m \u001b[0;34m=\u001b[0m \u001b[0mtorch\u001b[0m\u001b[0;34m.\u001b[0m\u001b[0moptim\u001b[0m\u001b[0;34m.\u001b[0m\u001b[0mlr_sheduler\u001b[0m\u001b[0;34m.\u001b[0m\u001b[0mStepLR\u001b[0m\u001b[0;34m(\u001b[0m\u001b[0moptimizer\u001b[0m\u001b[0;34m,\u001b[0m \u001b[0mstep_size\u001b[0m\u001b[0;34m=\u001b[0m\u001b[0;36m30\u001b[0m\u001b[0;34m,\u001b[0m \u001b[0mgamma\u001b[0m\u001b[0;34m=\u001b[0m\u001b[0;36m0.1\u001b[0m\u001b[0;34m)\u001b[0m \u001b[0;31m# 스케쥴 종류 많음 - StepLR : 일정 스탭마다 lr을 줄이거나 늘림 / 매 30바퀴마다 gamma 0.1 * lr 이 사용됨 / cosign함수로 줄이고 올리고도 가능\u001b[0m\u001b[0;34m\u001b[0m\u001b[0;34m\u001b[0m\u001b[0m\n\u001b[0m",
            "\u001b[0;31mAttributeError\u001b[0m: module 'torch.optim' has no attribute 'lr_sheduler'"
          ]
        }
      ]
    },
    {
      "cell_type": "code",
      "source": [
        "# ... 중략 ... \n",
        "\n",
        "for epoch in range(400):\n",
        "  running_loss = 0.0\n",
        "  for data in trainloader:\n",
        "    inputs, values = data\n",
        "    optimizer.zero_grad()\n",
        "    outputs = model(inputs)\n",
        "    loss = criterion(outputs, values)\n",
        "    loss.backward()\n",
        "    optimizer.step()\n",
        "\n",
        "    # ...중략...\n",
        "    \n",
        "  scheduler.step()  ## 이걸 For문안에 들어가면 30바퀴 돌 때마다 lr가 바뀌어 너무 주기가 짧게됨 => indent 위치 조심 ! "
      ],
      "metadata": {
        "colab": {
          "base_uri": "https://localhost:8080/",
          "height": 134
        },
        "id": "v5VrJaXEWY-J",
        "outputId": "a42174d1-50e7-4cfe-e171-66b57577139c"
      },
      "execution_count": 79,
      "outputs": [
        {
          "output_type": "error",
          "ename": "SyntaxError",
          "evalue": "ignored",
          "traceback": [
            "\u001b[0;36m  File \u001b[0;32m\"<ipython-input-79-804a0a4742ff>\"\u001b[0;36m, line \u001b[0;32m1\u001b[0m\n\u001b[0;31m    ... 중략 ...\u001b[0m\n\u001b[0m         ^\u001b[0m\n\u001b[0;31mSyntaxError\u001b[0m\u001b[0;31m:\u001b[0m invalid syntax\n"
          ]
        }
      ]
    },
    {
      "cell_type": "markdown",
      "source": [
        "# 6. 비지도 학습 \n",
        ": (지도X없는 학습, unsupervised, label없이 분류/예측 가능) == k-means \n",
        "\n",
        "k-means is a technique for data clustering that may be used for unsupervised machine learning.\n",
        "### 깊은 k 평균 알고리즘 (오토인코더 + K 평균 알고리즘) : Deep K Means "
      ],
      "metadata": {
        "id": "E31EW8_Bc2rn"
      }
    },
    {
      "cell_type": "code",
      "source": [
        "import torch\n",
        "import torch.nn as nn\n",
        "import torchvision\n",
        "from torchvision import transforms\n",
        "import numpy as np\n",
        "from scipy.optimize import linear_sum_assignment as linear_assignment # 클러스터링과 classificaiton의 가장 큰 차이 : 비지도학습을 통해 분류하는 것 클러스터링/ 지도학습을 통해 어떤 문제를 분류 -> classificaiton\n",
        "# 코드적인 차이 classification : label을 가지고 학습 ex. 0, 1 이라는 숫자는 0, 1 그대로의 label를 갖음 / 클러스터링은 군집합 3개의 조를 만들 때 -> 1,2,3 / 3,2,1/ 2,3,1 이렇게 여러 다양한 군집합이 나올 수 있음 - 레이블이 똑같은 숫자로 매칭이 되지 않을 수 있음 - 매칭되면 좋은 모델 그래서 마지막에 재조정(재배열)해줌 ** 이때 linear_assignment를 사용 \n",
        "from sklearn.manifold import TSNE # TSNE : 높은 차원의 복잡한 데이터를 2차원에 차원 축소하는 방법, 낮은 차원의 시각화에 주로 사용, 데이터 구조 이해하는데 도움  ===> 시각화 \n",
        "from matplotlib import pyplot as plt "
      ],
      "metadata": {
        "id": "o8oga_fVWY6l"
      },
      "execution_count": 86,
      "outputs": []
    },
    {
      "cell_type": "code",
      "source": [
        "# CPU/GPU 체크하기\n",
        "device = torch.device(\"cuda:0\" if torch.cuda.is_available() else \"cpu\")\n",
        "print(f'{device} is available.')\n",
        "torch.cuda.is_available() # False == CPU일 경우 / True == 런타임유형이 GPU일 경우 "
      ],
      "metadata": {
        "colab": {
          "base_uri": "https://localhost:8080/"
        },
        "id": "aUd6dpF0WY21",
        "outputId": "32bf726d-e0a2-4a82-b34d-b9ff5d26d2f0"
      },
      "execution_count": 87,
      "outputs": [
        {
          "output_type": "stream",
          "name": "stdout",
          "text": [
            "cuda:0 is available.\n"
          ]
        },
        {
          "output_type": "execute_result",
          "data": {
            "text/plain": [
              "True"
            ]
          },
          "metadata": {},
          "execution_count": 87
        }
      ]
    },
    {
      "cell_type": "code",
      "source": [
        "# colab에 구글 드라이브 연동\n",
        "from google.colab import drive\n",
        "drive.mount('/content/drive')"
      ],
      "metadata": {
        "colab": {
          "base_uri": "https://localhost:8080/"
        },
        "id": "7_O0AxoOWYzj",
        "outputId": "b2e11cac-fcce-45c6-ee53-f386bc4526d0"
      },
      "execution_count": 88,
      "outputs": [
        {
          "output_type": "stream",
          "name": "stdout",
          "text": [
            "Drive already mounted at /content/drive; to attempt to forcibly remount, call drive.mount(\"/content/drive\", force_remount=True).\n"
          ]
        }
      ]
    },
    {
      "cell_type": "code",
      "source": [
        "cd/content/drive/My Drive/pytorch"
      ],
      "metadata": {
        "colab": {
          "base_uri": "https://localhost:8080/"
        },
        "id": "twFPedqlWYvd",
        "outputId": "79e323ce-6736-4932-f273-da519cdc9b7b"
      },
      "execution_count": 89,
      "outputs": [
        {
          "output_type": "stream",
          "name": "stdout",
          "text": [
            "/content/drive/MyDrive/pytorch\n"
          ]
        }
      ]
    },
    {
      "cell_type": "markdown",
      "source": [
        "데이터 불러오기"
      ],
      "metadata": {
        "id": "j7o09ynbnTbu"
      }
    },
    {
      "cell_type": "code",
      "source": [
        "batch_size = 128\n",
        "num_clusters = 10 # 클러스터 개수\n",
        "latent_size = 10 # 임의로 정해도 됨 "
      ],
      "metadata": {
        "id": "G7bj3-mLnTIX"
      },
      "execution_count": 90,
      "outputs": []
    },
    {
      "cell_type": "code",
      "source": [
        "# MNIST : mnist는 숫자 0~9까지의 이미지로 구성된 손글씨 데이터셋 ( 아래 사진 첨부, 출처 : wicidocs)\n",
        "\n",
        "trainset = torchvision.datasets.MNIST('./data/', download=True, train=True, transform=transforms.ToTensor())\n",
        "testset = torchvision.datasets.MNIST('./data/', download=True, train=False, transform=transforms.ToTensor())\n",
        "\n",
        "trainloader = torch.utils.data.DataLoader(trainset, batch_size=batch_size, shuffle=True)\n",
        "testloader = torch.utils.data.DataLoader(testset, batch_size=batch_size, shuffle=True)"
      ],
      "metadata": {
        "id": "rIXdYi9CiZ3n"
      },
      "execution_count": 97,
      "outputs": []
    },
    {
      "cell_type": "markdown",
      "source": [
        "![039B701A-480F-43D0-90BD-4E5481FAFB65.png](data:image/png;base64,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)"
      ],
      "metadata": {
        "id": "uX_WU5n72C6b"
      }
    },
    {
      "cell_type": "code",
      "source": [
        "# 비지도학습 보류 "
      ],
      "metadata": {
        "id": "e1qFXYHG2CwD"
      },
      "execution_count": null,
      "outputs": []
    }
  ]
}