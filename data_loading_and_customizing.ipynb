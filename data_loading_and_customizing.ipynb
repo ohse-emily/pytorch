{
  "nbformat": 4,
  "nbformat_minor": 0,
  "metadata": {
    "colab": {
      "provenance": [],
      "mount_file_id": "1LsL3u01NFUTQoMnEHnb41brwOYtM4sSx",
      "authorship_tag": "ABX9TyPZFR6GyD6EkK1qzFB6DbAE",
      "include_colab_link": true
    },
    "kernelspec": {
      "name": "python3",
      "display_name": "Python 3"
    },
    "language_info": {
      "name": "python"
    },
    "widgets": {
      "application/vnd.jupyter.widget-state+json": {
        "eb9acd5eb9124a16b2169b860ab25428": {
          "model_module": "@jupyter-widgets/controls",
          "model_name": "HBoxModel",
          "model_module_version": "1.5.0",
          "state": {
            "_dom_classes": [],
            "_model_module": "@jupyter-widgets/controls",
            "_model_module_version": "1.5.0",
            "_model_name": "HBoxModel",
            "_view_count": null,
            "_view_module": "@jupyter-widgets/controls",
            "_view_module_version": "1.5.0",
            "_view_name": "HBoxView",
            "box_style": "",
            "children": [
              "IPY_MODEL_98172376096b435b8828a4d81806f482",
              "IPY_MODEL_857bbdc4a77e40dbba751cc121e4ea40",
              "IPY_MODEL_0eeef8622ad84c9189e16f1b97f694e1"
            ],
            "layout": "IPY_MODEL_d0cbe2406709451583c30207f62f1a1a"
          }
        },
        "98172376096b435b8828a4d81806f482": {
          "model_module": "@jupyter-widgets/controls",
          "model_name": "HTMLModel",
          "model_module_version": "1.5.0",
          "state": {
            "_dom_classes": [],
            "_model_module": "@jupyter-widgets/controls",
            "_model_module_version": "1.5.0",
            "_model_name": "HTMLModel",
            "_view_count": null,
            "_view_module": "@jupyter-widgets/controls",
            "_view_module_version": "1.5.0",
            "_view_name": "HTMLView",
            "description": "",
            "description_tooltip": null,
            "layout": "IPY_MODEL_802b0b1da8ee4e5483fba75b229814a7",
            "placeholder": "​",
            "style": "IPY_MODEL_0d8d6e21463047489b3dccbd471c61f4",
            "value": "100%"
          }
        },
        "857bbdc4a77e40dbba751cc121e4ea40": {
          "model_module": "@jupyter-widgets/controls",
          "model_name": "FloatProgressModel",
          "model_module_version": "1.5.0",
          "state": {
            "_dom_classes": [],
            "_model_module": "@jupyter-widgets/controls",
            "_model_module_version": "1.5.0",
            "_model_name": "FloatProgressModel",
            "_view_count": null,
            "_view_module": "@jupyter-widgets/controls",
            "_view_module_version": "1.5.0",
            "_view_name": "ProgressView",
            "bar_style": "success",
            "description": "",
            "description_tooltip": null,
            "layout": "IPY_MODEL_5fd504f3abec42dc87f325e4e648971f",
            "max": 170498071,
            "min": 0,
            "orientation": "horizontal",
            "style": "IPY_MODEL_37a1c5d0659a46698fcdbe7b210cc28a",
            "value": 170498071
          }
        },
        "0eeef8622ad84c9189e16f1b97f694e1": {
          "model_module": "@jupyter-widgets/controls",
          "model_name": "HTMLModel",
          "model_module_version": "1.5.0",
          "state": {
            "_dom_classes": [],
            "_model_module": "@jupyter-widgets/controls",
            "_model_module_version": "1.5.0",
            "_model_name": "HTMLModel",
            "_view_count": null,
            "_view_module": "@jupyter-widgets/controls",
            "_view_module_version": "1.5.0",
            "_view_name": "HTMLView",
            "description": "",
            "description_tooltip": null,
            "layout": "IPY_MODEL_743344c3aee34a6e81b0544349d603ca",
            "placeholder": "​",
            "style": "IPY_MODEL_e8ed8a2d2c1d4c3893c8269fa351c0ae",
            "value": " 170498071/170498071 [00:03&lt;00:00, 42672865.26it/s]"
          }
        },
        "d0cbe2406709451583c30207f62f1a1a": {
          "model_module": "@jupyter-widgets/base",
          "model_name": "LayoutModel",
          "model_module_version": "1.2.0",
          "state": {
            "_model_module": "@jupyter-widgets/base",
            "_model_module_version": "1.2.0",
            "_model_name": "LayoutModel",
            "_view_count": null,
            "_view_module": "@jupyter-widgets/base",
            "_view_module_version": "1.2.0",
            "_view_name": "LayoutView",
            "align_content": null,
            "align_items": null,
            "align_self": null,
            "border": null,
            "bottom": null,
            "display": null,
            "flex": null,
            "flex_flow": null,
            "grid_area": null,
            "grid_auto_columns": null,
            "grid_auto_flow": null,
            "grid_auto_rows": null,
            "grid_column": null,
            "grid_gap": null,
            "grid_row": null,
            "grid_template_areas": null,
            "grid_template_columns": null,
            "grid_template_rows": null,
            "height": null,
            "justify_content": null,
            "justify_items": null,
            "left": null,
            "margin": null,
            "max_height": null,
            "max_width": null,
            "min_height": null,
            "min_width": null,
            "object_fit": null,
            "object_position": null,
            "order": null,
            "overflow": null,
            "overflow_x": null,
            "overflow_y": null,
            "padding": null,
            "right": null,
            "top": null,
            "visibility": null,
            "width": null
          }
        },
        "802b0b1da8ee4e5483fba75b229814a7": {
          "model_module": "@jupyter-widgets/base",
          "model_name": "LayoutModel",
          "model_module_version": "1.2.0",
          "state": {
            "_model_module": "@jupyter-widgets/base",
            "_model_module_version": "1.2.0",
            "_model_name": "LayoutModel",
            "_view_count": null,
            "_view_module": "@jupyter-widgets/base",
            "_view_module_version": "1.2.0",
            "_view_name": "LayoutView",
            "align_content": null,
            "align_items": null,
            "align_self": null,
            "border": null,
            "bottom": null,
            "display": null,
            "flex": null,
            "flex_flow": null,
            "grid_area": null,
            "grid_auto_columns": null,
            "grid_auto_flow": null,
            "grid_auto_rows": null,
            "grid_column": null,
            "grid_gap": null,
            "grid_row": null,
            "grid_template_areas": null,
            "grid_template_columns": null,
            "grid_template_rows": null,
            "height": null,
            "justify_content": null,
            "justify_items": null,
            "left": null,
            "margin": null,
            "max_height": null,
            "max_width": null,
            "min_height": null,
            "min_width": null,
            "object_fit": null,
            "object_position": null,
            "order": null,
            "overflow": null,
            "overflow_x": null,
            "overflow_y": null,
            "padding": null,
            "right": null,
            "top": null,
            "visibility": null,
            "width": null
          }
        },
        "0d8d6e21463047489b3dccbd471c61f4": {
          "model_module": "@jupyter-widgets/controls",
          "model_name": "DescriptionStyleModel",
          "model_module_version": "1.5.0",
          "state": {
            "_model_module": "@jupyter-widgets/controls",
            "_model_module_version": "1.5.0",
            "_model_name": "DescriptionStyleModel",
            "_view_count": null,
            "_view_module": "@jupyter-widgets/base",
            "_view_module_version": "1.2.0",
            "_view_name": "StyleView",
            "description_width": ""
          }
        },
        "5fd504f3abec42dc87f325e4e648971f": {
          "model_module": "@jupyter-widgets/base",
          "model_name": "LayoutModel",
          "model_module_version": "1.2.0",
          "state": {
            "_model_module": "@jupyter-widgets/base",
            "_model_module_version": "1.2.0",
            "_model_name": "LayoutModel",
            "_view_count": null,
            "_view_module": "@jupyter-widgets/base",
            "_view_module_version": "1.2.0",
            "_view_name": "LayoutView",
            "align_content": null,
            "align_items": null,
            "align_self": null,
            "border": null,
            "bottom": null,
            "display": null,
            "flex": null,
            "flex_flow": null,
            "grid_area": null,
            "grid_auto_columns": null,
            "grid_auto_flow": null,
            "grid_auto_rows": null,
            "grid_column": null,
            "grid_gap": null,
            "grid_row": null,
            "grid_template_areas": null,
            "grid_template_columns": null,
            "grid_template_rows": null,
            "height": null,
            "justify_content": null,
            "justify_items": null,
            "left": null,
            "margin": null,
            "max_height": null,
            "max_width": null,
            "min_height": null,
            "min_width": null,
            "object_fit": null,
            "object_position": null,
            "order": null,
            "overflow": null,
            "overflow_x": null,
            "overflow_y": null,
            "padding": null,
            "right": null,
            "top": null,
            "visibility": null,
            "width": null
          }
        },
        "37a1c5d0659a46698fcdbe7b210cc28a": {
          "model_module": "@jupyter-widgets/controls",
          "model_name": "ProgressStyleModel",
          "model_module_version": "1.5.0",
          "state": {
            "_model_module": "@jupyter-widgets/controls",
            "_model_module_version": "1.5.0",
            "_model_name": "ProgressStyleModel",
            "_view_count": null,
            "_view_module": "@jupyter-widgets/base",
            "_view_module_version": "1.2.0",
            "_view_name": "StyleView",
            "bar_color": null,
            "description_width": ""
          }
        },
        "743344c3aee34a6e81b0544349d603ca": {
          "model_module": "@jupyter-widgets/base",
          "model_name": "LayoutModel",
          "model_module_version": "1.2.0",
          "state": {
            "_model_module": "@jupyter-widgets/base",
            "_model_module_version": "1.2.0",
            "_model_name": "LayoutModel",
            "_view_count": null,
            "_view_module": "@jupyter-widgets/base",
            "_view_module_version": "1.2.0",
            "_view_name": "LayoutView",
            "align_content": null,
            "align_items": null,
            "align_self": null,
            "border": null,
            "bottom": null,
            "display": null,
            "flex": null,
            "flex_flow": null,
            "grid_area": null,
            "grid_auto_columns": null,
            "grid_auto_flow": null,
            "grid_auto_rows": null,
            "grid_column": null,
            "grid_gap": null,
            "grid_row": null,
            "grid_template_areas": null,
            "grid_template_columns": null,
            "grid_template_rows": null,
            "height": null,
            "justify_content": null,
            "justify_items": null,
            "left": null,
            "margin": null,
            "max_height": null,
            "max_width": null,
            "min_height": null,
            "min_width": null,
            "object_fit": null,
            "object_position": null,
            "order": null,
            "overflow": null,
            "overflow_x": null,
            "overflow_y": null,
            "padding": null,
            "right": null,
            "top": null,
            "visibility": null,
            "width": null
          }
        },
        "e8ed8a2d2c1d4c3893c8269fa351c0ae": {
          "model_module": "@jupyter-widgets/controls",
          "model_name": "DescriptionStyleModel",
          "model_module_version": "1.5.0",
          "state": {
            "_model_module": "@jupyter-widgets/controls",
            "_model_module_version": "1.5.0",
            "_model_name": "DescriptionStyleModel",
            "_view_count": null,
            "_view_module": "@jupyter-widgets/base",
            "_view_module_version": "1.2.0",
            "_view_name": "StyleView",
            "description_width": ""
          }
        },
        "7ed84c949f4e4b2bbed19f0c0d96eee7": {
          "model_module": "@jupyter-widgets/controls",
          "model_name": "HBoxModel",
          "model_module_version": "1.5.0",
          "state": {
            "_dom_classes": [],
            "_model_module": "@jupyter-widgets/controls",
            "_model_module_version": "1.5.0",
            "_model_name": "HBoxModel",
            "_view_count": null,
            "_view_module": "@jupyter-widgets/controls",
            "_view_module_version": "1.5.0",
            "_view_name": "HBoxView",
            "box_style": "",
            "children": [
              "IPY_MODEL_3d8b434dd0e14e83bd801ec4b9a2cf6e",
              "IPY_MODEL_ee16051165af4156bf3a1692a9486501",
              "IPY_MODEL_0cc08265303a4233b5781676570ed9f8"
            ],
            "layout": "IPY_MODEL_322baeb8bdbd4d78a9417fde82ef7806"
          }
        },
        "3d8b434dd0e14e83bd801ec4b9a2cf6e": {
          "model_module": "@jupyter-widgets/controls",
          "model_name": "HTMLModel",
          "model_module_version": "1.5.0",
          "state": {
            "_dom_classes": [],
            "_model_module": "@jupyter-widgets/controls",
            "_model_module_version": "1.5.0",
            "_model_name": "HTMLModel",
            "_view_count": null,
            "_view_module": "@jupyter-widgets/controls",
            "_view_module_version": "1.5.0",
            "_view_name": "HTMLView",
            "description": "",
            "description_tooltip": null,
            "layout": "IPY_MODEL_255b6a017c0f411380974e8174a76332",
            "placeholder": "​",
            "style": "IPY_MODEL_2284f6d517074e8bbb3c0535e04d7dd5",
            "value": "100%"
          }
        },
        "ee16051165af4156bf3a1692a9486501": {
          "model_module": "@jupyter-widgets/controls",
          "model_name": "FloatProgressModel",
          "model_module_version": "1.5.0",
          "state": {
            "_dom_classes": [],
            "_model_module": "@jupyter-widgets/controls",
            "_model_module_version": "1.5.0",
            "_model_name": "FloatProgressModel",
            "_view_count": null,
            "_view_module": "@jupyter-widgets/controls",
            "_view_module_version": "1.5.0",
            "_view_name": "ProgressView",
            "bar_style": "success",
            "description": "",
            "description_tooltip": null,
            "layout": "IPY_MODEL_bf4b96b224424b3bbd0dcd601e732f53",
            "max": 170498071,
            "min": 0,
            "orientation": "horizontal",
            "style": "IPY_MODEL_442b4522c42f41038c7142e236fac8e6",
            "value": 170498071
          }
        },
        "0cc08265303a4233b5781676570ed9f8": {
          "model_module": "@jupyter-widgets/controls",
          "model_name": "HTMLModel",
          "model_module_version": "1.5.0",
          "state": {
            "_dom_classes": [],
            "_model_module": "@jupyter-widgets/controls",
            "_model_module_version": "1.5.0",
            "_model_name": "HTMLModel",
            "_view_count": null,
            "_view_module": "@jupyter-widgets/controls",
            "_view_module_version": "1.5.0",
            "_view_name": "HTMLView",
            "description": "",
            "description_tooltip": null,
            "layout": "IPY_MODEL_8f5bd68a8ef14e54876e049e1afbdd02",
            "placeholder": "​",
            "style": "IPY_MODEL_0b16620035e047adaa2dc683b6a1f5b0",
            "value": " 170498071/170498071 [00:02&lt;00:00, 71981367.25it/s]"
          }
        },
        "322baeb8bdbd4d78a9417fde82ef7806": {
          "model_module": "@jupyter-widgets/base",
          "model_name": "LayoutModel",
          "model_module_version": "1.2.0",
          "state": {
            "_model_module": "@jupyter-widgets/base",
            "_model_module_version": "1.2.0",
            "_model_name": "LayoutModel",
            "_view_count": null,
            "_view_module": "@jupyter-widgets/base",
            "_view_module_version": "1.2.0",
            "_view_name": "LayoutView",
            "align_content": null,
            "align_items": null,
            "align_self": null,
            "border": null,
            "bottom": null,
            "display": null,
            "flex": null,
            "flex_flow": null,
            "grid_area": null,
            "grid_auto_columns": null,
            "grid_auto_flow": null,
            "grid_auto_rows": null,
            "grid_column": null,
            "grid_gap": null,
            "grid_row": null,
            "grid_template_areas": null,
            "grid_template_columns": null,
            "grid_template_rows": null,
            "height": null,
            "justify_content": null,
            "justify_items": null,
            "left": null,
            "margin": null,
            "max_height": null,
            "max_width": null,
            "min_height": null,
            "min_width": null,
            "object_fit": null,
            "object_position": null,
            "order": null,
            "overflow": null,
            "overflow_x": null,
            "overflow_y": null,
            "padding": null,
            "right": null,
            "top": null,
            "visibility": null,
            "width": null
          }
        },
        "255b6a017c0f411380974e8174a76332": {
          "model_module": "@jupyter-widgets/base",
          "model_name": "LayoutModel",
          "model_module_version": "1.2.0",
          "state": {
            "_model_module": "@jupyter-widgets/base",
            "_model_module_version": "1.2.0",
            "_model_name": "LayoutModel",
            "_view_count": null,
            "_view_module": "@jupyter-widgets/base",
            "_view_module_version": "1.2.0",
            "_view_name": "LayoutView",
            "align_content": null,
            "align_items": null,
            "align_self": null,
            "border": null,
            "bottom": null,
            "display": null,
            "flex": null,
            "flex_flow": null,
            "grid_area": null,
            "grid_auto_columns": null,
            "grid_auto_flow": null,
            "grid_auto_rows": null,
            "grid_column": null,
            "grid_gap": null,
            "grid_row": null,
            "grid_template_areas": null,
            "grid_template_columns": null,
            "grid_template_rows": null,
            "height": null,
            "justify_content": null,
            "justify_items": null,
            "left": null,
            "margin": null,
            "max_height": null,
            "max_width": null,
            "min_height": null,
            "min_width": null,
            "object_fit": null,
            "object_position": null,
            "order": null,
            "overflow": null,
            "overflow_x": null,
            "overflow_y": null,
            "padding": null,
            "right": null,
            "top": null,
            "visibility": null,
            "width": null
          }
        },
        "2284f6d517074e8bbb3c0535e04d7dd5": {
          "model_module": "@jupyter-widgets/controls",
          "model_name": "DescriptionStyleModel",
          "model_module_version": "1.5.0",
          "state": {
            "_model_module": "@jupyter-widgets/controls",
            "_model_module_version": "1.5.0",
            "_model_name": "DescriptionStyleModel",
            "_view_count": null,
            "_view_module": "@jupyter-widgets/base",
            "_view_module_version": "1.2.0",
            "_view_name": "StyleView",
            "description_width": ""
          }
        },
        "bf4b96b224424b3bbd0dcd601e732f53": {
          "model_module": "@jupyter-widgets/base",
          "model_name": "LayoutModel",
          "model_module_version": "1.2.0",
          "state": {
            "_model_module": "@jupyter-widgets/base",
            "_model_module_version": "1.2.0",
            "_model_name": "LayoutModel",
            "_view_count": null,
            "_view_module": "@jupyter-widgets/base",
            "_view_module_version": "1.2.0",
            "_view_name": "LayoutView",
            "align_content": null,
            "align_items": null,
            "align_self": null,
            "border": null,
            "bottom": null,
            "display": null,
            "flex": null,
            "flex_flow": null,
            "grid_area": null,
            "grid_auto_columns": null,
            "grid_auto_flow": null,
            "grid_auto_rows": null,
            "grid_column": null,
            "grid_gap": null,
            "grid_row": null,
            "grid_template_areas": null,
            "grid_template_columns": null,
            "grid_template_rows": null,
            "height": null,
            "justify_content": null,
            "justify_items": null,
            "left": null,
            "margin": null,
            "max_height": null,
            "max_width": null,
            "min_height": null,
            "min_width": null,
            "object_fit": null,
            "object_position": null,
            "order": null,
            "overflow": null,
            "overflow_x": null,
            "overflow_y": null,
            "padding": null,
            "right": null,
            "top": null,
            "visibility": null,
            "width": null
          }
        },
        "442b4522c42f41038c7142e236fac8e6": {
          "model_module": "@jupyter-widgets/controls",
          "model_name": "ProgressStyleModel",
          "model_module_version": "1.5.0",
          "state": {
            "_model_module": "@jupyter-widgets/controls",
            "_model_module_version": "1.5.0",
            "_model_name": "ProgressStyleModel",
            "_view_count": null,
            "_view_module": "@jupyter-widgets/base",
            "_view_module_version": "1.2.0",
            "_view_name": "StyleView",
            "bar_color": null,
            "description_width": ""
          }
        },
        "8f5bd68a8ef14e54876e049e1afbdd02": {
          "model_module": "@jupyter-widgets/base",
          "model_name": "LayoutModel",
          "model_module_version": "1.2.0",
          "state": {
            "_model_module": "@jupyter-widgets/base",
            "_model_module_version": "1.2.0",
            "_model_name": "LayoutModel",
            "_view_count": null,
            "_view_module": "@jupyter-widgets/base",
            "_view_module_version": "1.2.0",
            "_view_name": "LayoutView",
            "align_content": null,
            "align_items": null,
            "align_self": null,
            "border": null,
            "bottom": null,
            "display": null,
            "flex": null,
            "flex_flow": null,
            "grid_area": null,
            "grid_auto_columns": null,
            "grid_auto_flow": null,
            "grid_auto_rows": null,
            "grid_column": null,
            "grid_gap": null,
            "grid_row": null,
            "grid_template_areas": null,
            "grid_template_columns": null,
            "grid_template_rows": null,
            "height": null,
            "justify_content": null,
            "justify_items": null,
            "left": null,
            "margin": null,
            "max_height": null,
            "max_width": null,
            "min_height": null,
            "min_width": null,
            "object_fit": null,
            "object_position": null,
            "order": null,
            "overflow": null,
            "overflow_x": null,
            "overflow_y": null,
            "padding": null,
            "right": null,
            "top": null,
            "visibility": null,
            "width": null
          }
        },
        "0b16620035e047adaa2dc683b6a1f5b0": {
          "model_module": "@jupyter-widgets/controls",
          "model_name": "DescriptionStyleModel",
          "model_module_version": "1.5.0",
          "state": {
            "_model_module": "@jupyter-widgets/controls",
            "_model_module_version": "1.5.0",
            "_model_name": "DescriptionStyleModel",
            "_view_count": null,
            "_view_module": "@jupyter-widgets/base",
            "_view_module_version": "1.2.0",
            "_view_name": "StyleView",
            "description_width": ""
          }
        }
      }
    }
  },
  "cells": [
    {
      "cell_type": "markdown",
      "metadata": {
        "id": "view-in-github",
        "colab_type": "text"
      },
      "source": [
        "<a href=\"https://colab.research.google.com/github/ohse-emily/pytorch/blob/master/data_loading_and_customizing.ipynb\" target=\"_parent\"><img src=\"https://colab.research.google.com/assets/colab-badge.svg\" alt=\"Open In Colab\"/></a>"
      ]
    },
    {
      "cell_type": "markdown",
      "source": [
        "# 0. PyTorch Basic 공부\n",
        "1. 변수 설정 / 매서드 등\n",
        "2. 미분 적용 방식 \n",
        " \n",
        "강의 제공 : Youtube 딥러닝호형 DL bro https://www.youtube.com/watch?v=8PnxJ3s3Cwo&list=PLHOsBEAyYj3xf4i20sCA5o8MgVW5sIiHD&index=11\n"
      ],
      "metadata": {
        "id": "f_uaNws4q1P5"
      }
    },
    {
      "cell_type": "code",
      "execution_count": 2,
      "metadata": {
        "colab": {
          "base_uri": "https://localhost:8080/"
        },
        "id": "hUR3g9FqVS6e",
        "outputId": "8108c167-bba3-4fd5-96be-3d1ebbf65b49"
      },
      "outputs": [
        {
          "output_type": "execute_result",
          "data": {
            "text/plain": [
              "tensor([[2.1438e-35, 0.0000e+00, 1.5695e-43, 0.0000e+00],\n",
              "        [0.0000e+00, 0.0000e+00, 1.2140e-36, 0.0000e+00],\n",
              "        [3.5733e-43, 0.0000e+00, 1.5975e-43, 0.0000e+00],\n",
              "        [0.0000e+00, 0.0000e+00, 1.2140e-36, 0.0000e+00],\n",
              "        [3.5733e-43, 0.0000e+00, 0.0000e+00, 0.0000e+00]])"
            ]
          },
          "metadata": {},
          "execution_count": 2
        }
      ],
      "source": [
        "\n",
        "import torch\n",
        "import numpy as np\n",
        "\n",
        "x = torch.empty(5,4)\n",
        "x\n"
      ]
    },
    {
      "cell_type": "code",
      "source": [
        "torch.ones(3,3)"
      ],
      "metadata": {
        "colab": {
          "base_uri": "https://localhost:8080/"
        },
        "id": "yt4S1FXvbLuE",
        "outputId": "21c284c8-4927-49d8-a3d0-2124be5ec073"
      },
      "execution_count": 3,
      "outputs": [
        {
          "output_type": "execute_result",
          "data": {
            "text/plain": [
              "tensor([[1., 1., 1.],\n",
              "        [1., 1., 1.],\n",
              "        [1., 1., 1.]])"
            ]
          },
          "metadata": {},
          "execution_count": 3
        }
      ]
    },
    {
      "cell_type": "code",
      "source": [
        "torch.zeros(2)"
      ],
      "metadata": {
        "colab": {
          "base_uri": "https://localhost:8080/"
        },
        "id": "LZfDW5XjbLrv",
        "outputId": "75e90d4c-831d-45fb-cb7c-82e1f1ae44fa"
      },
      "execution_count": 4,
      "outputs": [
        {
          "output_type": "execute_result",
          "data": {
            "text/plain": [
              "tensor([0., 0.])"
            ]
          },
          "metadata": {},
          "execution_count": 4
        }
      ]
    },
    {
      "cell_type": "code",
      "source": [
        "torch.rand(4,5)"
      ],
      "metadata": {
        "colab": {
          "base_uri": "https://localhost:8080/"
        },
        "id": "F0bxyHgJbLpR",
        "outputId": "e0d353e3-bba4-4fdf-db24-68aab773c6a9"
      },
      "execution_count": 5,
      "outputs": [
        {
          "output_type": "execute_result",
          "data": {
            "text/plain": [
              "tensor([[0.6796, 0.4268, 0.8156, 0.7516, 0.9019],\n",
              "        [0.9303, 0.2283, 0.7056, 0.7003, 0.4698],\n",
              "        [0.6922, 0.6752, 0.1840, 0.7064, 0.5619],\n",
              "        [0.6968, 0.8358, 0.2431, 0.4629, 0.6817]])"
            ]
          },
          "metadata": {},
          "execution_count": 5
        }
      ]
    },
    {
      "cell_type": "code",
      "source": [
        "# list / array 주어졌을 때 \n",
        "l = [13,4]\n",
        "r = np.array([4, 56,7])\n",
        "\n",
        "torch.tensor(l)"
      ],
      "metadata": {
        "colab": {
          "base_uri": "https://localhost:8080/"
        },
        "id": "WAcFxrvWbLnN",
        "outputId": "b3cea749-5089-4578-8ea6-79e031833023"
      },
      "execution_count": 6,
      "outputs": [
        {
          "output_type": "execute_result",
          "data": {
            "text/plain": [
              "tensor([13,  4])"
            ]
          },
          "metadata": {},
          "execution_count": 6
        }
      ]
    },
    {
      "cell_type": "code",
      "source": [
        "torch.tensor(r)"
      ],
      "metadata": {
        "colab": {
          "base_uri": "https://localhost:8080/"
        },
        "id": "Id2PPS9pbLk9",
        "outputId": "890da536-7856-4e9e-f902-60fb33356f82"
      },
      "execution_count": 7,
      "outputs": [
        {
          "output_type": "execute_result",
          "data": {
            "text/plain": [
              "tensor([ 4, 56,  7])"
            ]
          },
          "metadata": {},
          "execution_count": 7
        }
      ]
    },
    {
      "cell_type": "code",
      "source": [
        "x.size()"
      ],
      "metadata": {
        "colab": {
          "base_uri": "https://localhost:8080/"
        },
        "id": "mmErvFRFbLjS",
        "outputId": "dbaf6b2a-c9cb-4e19-bc6f-91abda65f241"
      },
      "execution_count": 8,
      "outputs": [
        {
          "output_type": "execute_result",
          "data": {
            "text/plain": [
              "torch.Size([5, 4])"
            ]
          },
          "metadata": {},
          "execution_count": 8
        }
      ]
    },
    {
      "cell_type": "code",
      "source": [
        "type(x)"
      ],
      "metadata": {
        "colab": {
          "base_uri": "https://localhost:8080/"
        },
        "id": "TrkWZEDfbjOS",
        "outputId": "63187017-bdaf-48a9-8284-3c26863d1bd9"
      },
      "execution_count": 9,
      "outputs": [
        {
          "output_type": "execute_result",
          "data": {
            "text/plain": [
              "torch.Tensor"
            ]
          },
          "metadata": {},
          "execution_count": 9
        }
      ]
    },
    {
      "cell_type": "code",
      "source": [
        "x = torch.rand(3,3)\n",
        "y = torch.rand(3,3)\n",
        "print(x)\n",
        "print(y)"
      ],
      "metadata": {
        "colab": {
          "base_uri": "https://localhost:8080/"
        },
        "id": "OZexn-48bjJt",
        "outputId": "84ffe5c7-2eb8-4b8c-c0ea-e22b9cc7f5f0"
      },
      "execution_count": 10,
      "outputs": [
        {
          "output_type": "stream",
          "name": "stdout",
          "text": [
            "tensor([[0.5904, 0.5841, 0.4642],\n",
            "        [0.8409, 0.4581, 0.0756],\n",
            "        [0.0185, 0.3180, 0.7976]])\n",
            "tensor([[0.6861, 0.3023, 0.3102],\n",
            "        [0.8824, 0.1407, 0.8997],\n",
            "        [0.1143, 0.2348, 0.5949]])\n"
          ]
        }
      ]
    },
    {
      "cell_type": "code",
      "source": [
        "x+y"
      ],
      "metadata": {
        "colab": {
          "base_uri": "https://localhost:8080/"
        },
        "id": "1S2xtFKIbjHO",
        "outputId": "91392597-b6e6-4e58-db48-eecd1053c318"
      },
      "execution_count": 11,
      "outputs": [
        {
          "output_type": "execute_result",
          "data": {
            "text/plain": [
              "tensor([[1.2765, 0.8865, 0.7744],\n",
              "        [1.7233, 0.5988, 0.9754],\n",
              "        [0.1328, 0.5528, 1.3926]])"
            ]
          },
          "metadata": {},
          "execution_count": 11
        }
      ]
    },
    {
      "cell_type": "code",
      "source": [
        "y.add_(x)\n",
        "# print(y)"
      ],
      "metadata": {
        "colab": {
          "base_uri": "https://localhost:8080/"
        },
        "id": "6DOuLMrxbjE2",
        "outputId": "2c70a8d1-9493-470d-aac5-065f0653b3c3"
      },
      "execution_count": 12,
      "outputs": [
        {
          "output_type": "execute_result",
          "data": {
            "text/plain": [
              "tensor([[1.2765, 0.8865, 0.7744],\n",
              "        [1.7233, 0.5988, 0.9754],\n",
              "        [0.1328, 0.5528, 1.3926]])"
            ]
          },
          "metadata": {},
          "execution_count": 12
        }
      ]
    },
    {
      "cell_type": "code",
      "source": [
        "y"
      ],
      "metadata": {
        "colab": {
          "base_uri": "https://localhost:8080/"
        },
        "id": "cKCdNFMvbjCq",
        "outputId": "2d9cf7eb-bd26-4f98-c434-11e3e99af64c"
      },
      "execution_count": 13,
      "outputs": [
        {
          "output_type": "execute_result",
          "data": {
            "text/plain": [
              "tensor([[1.2765, 0.8865, 0.7744],\n",
              "        [1.7233, 0.5988, 0.9754],\n",
              "        [0.1328, 0.5528, 1.3926]])"
            ]
          },
          "metadata": {},
          "execution_count": 13
        }
      ]
    },
    {
      "cell_type": "code",
      "source": [
        "x"
      ],
      "metadata": {
        "colab": {
          "base_uri": "https://localhost:8080/"
        },
        "id": "Mv8EFpjIccid",
        "outputId": "e9a322ea-a7f8-404e-9dfd-9e24c2de1f82"
      },
      "execution_count": 14,
      "outputs": [
        {
          "output_type": "execute_result",
          "data": {
            "text/plain": [
              "tensor([[0.5904, 0.5841, 0.4642],\n",
              "        [0.8409, 0.4581, 0.0756],\n",
              "        [0.0185, 0.3180, 0.7976]])"
            ]
          },
          "metadata": {},
          "execution_count": 14
        }
      ]
    },
    {
      "cell_type": "code",
      "source": [
        "x = torch.rand(2,2)\n",
        "y = torch.rand(2,2)\n",
        "print(x)\n",
        "print(y)"
      ],
      "metadata": {
        "colab": {
          "base_uri": "https://localhost:8080/"
        },
        "id": "5LzOxELdccec",
        "outputId": "da4d8ece-3454-4758-e874-5a2f8dd84c70"
      },
      "execution_count": 15,
      "outputs": [
        {
          "output_type": "stream",
          "name": "stdout",
          "text": [
            "tensor([[0.6098, 0.2049],\n",
            "        [0.1882, 0.9318]])\n",
            "tensor([[0.2119, 0.5261],\n",
            "        [0.5811, 0.1685]])\n"
          ]
        }
      ]
    },
    {
      "cell_type": "code",
      "source": [
        "y.multiply_(x)"
      ],
      "metadata": {
        "colab": {
          "base_uri": "https://localhost:8080/"
        },
        "id": "maLY-0sRccbW",
        "outputId": "7b60985d-6449-4709-af4d-4144d6de50c8"
      },
      "execution_count": 16,
      "outputs": [
        {
          "output_type": "execute_result",
          "data": {
            "text/plain": [
              "tensor([[0.1292, 0.1078],\n",
              "        [0.1094, 0.1570]])"
            ]
          },
          "metadata": {},
          "execution_count": 16
        }
      ]
    },
    {
      "cell_type": "code",
      "source": [
        "y"
      ],
      "metadata": {
        "colab": {
          "base_uri": "https://localhost:8080/"
        },
        "id": "DxQwUTg1ccXb",
        "outputId": "58919a4c-60e1-4371-88d8-95a1e6a74dae"
      },
      "execution_count": 17,
      "outputs": [
        {
          "output_type": "execute_result",
          "data": {
            "text/plain": [
              "tensor([[0.1292, 0.1078],\n",
              "        [0.1094, 0.1570]])"
            ]
          },
          "metadata": {},
          "execution_count": 17
        }
      ]
    },
    {
      "cell_type": "code",
      "source": [
        "y[1,1]"
      ],
      "metadata": {
        "colab": {
          "base_uri": "https://localhost:8080/"
        },
        "id": "R90kzndLbjAT",
        "outputId": "70ace3d2-90e5-496e-fc48-8feb1f729b14"
      },
      "execution_count": 18,
      "outputs": [
        {
          "output_type": "execute_result",
          "data": {
            "text/plain": [
              "tensor(0.1570)"
            ]
          },
          "metadata": {},
          "execution_count": 18
        }
      ]
    },
    {
      "cell_type": "code",
      "source": [
        "y[:,1]"
      ],
      "metadata": {
        "colab": {
          "base_uri": "https://localhost:8080/"
        },
        "id": "LOpBfi8QdTB8",
        "outputId": "cfca6f4a-44bb-4d80-94bd-f9c151fab6fb"
      },
      "execution_count": 19,
      "outputs": [
        {
          "output_type": "execute_result",
          "data": {
            "text/plain": [
              "tensor([0.1078, 0.1570])"
            ]
          },
          "metadata": {},
          "execution_count": 19
        }
      ]
    },
    {
      "cell_type": "code",
      "source": [
        "x = torch.rand(8,8)\n",
        "print(x)"
      ],
      "metadata": {
        "colab": {
          "base_uri": "https://localhost:8080/"
        },
        "id": "eq2D-MnldS_3",
        "outputId": "6b25fa6f-3465-4b98-d407-73291b825cb5"
      },
      "execution_count": 20,
      "outputs": [
        {
          "output_type": "stream",
          "name": "stdout",
          "text": [
            "tensor([[0.8650, 0.9800, 0.0260, 0.2318, 0.2687, 0.0196, 0.0512, 0.3455],\n",
            "        [0.1545, 0.9787, 0.6197, 0.7647, 0.7575, 0.4673, 0.1733, 0.4769],\n",
            "        [0.0920, 0.6025, 0.4145, 0.6258, 0.8933, 0.8654, 0.8301, 0.7347],\n",
            "        [0.1357, 0.1004, 0.6896, 0.6587, 0.9205, 0.1610, 0.2690, 0.0046],\n",
            "        [0.6030, 0.1282, 0.4735, 0.1999, 0.2974, 0.2014, 0.8812, 0.5028],\n",
            "        [0.2832, 0.5203, 0.9889, 0.3456, 0.9801, 0.9435, 0.5927, 0.9903],\n",
            "        [0.9550, 0.7679, 0.9260, 0.7704, 0.6281, 0.4578, 0.0714, 0.7923],\n",
            "        [0.4901, 0.8965, 0.8450, 0.7561, 0.6528, 0.0727, 0.3579, 0.1525]])\n"
          ]
        }
      ]
    },
    {
      "cell_type": "code",
      "source": [
        "x.view(2,32)"
      ],
      "metadata": {
        "colab": {
          "base_uri": "https://localhost:8080/"
        },
        "id": "0Q37AlkcdS8W",
        "outputId": "df8fe89f-1d03-41c4-9507-4df4cb897aba"
      },
      "execution_count": 21,
      "outputs": [
        {
          "output_type": "execute_result",
          "data": {
            "text/plain": [
              "tensor([[0.8650, 0.9800, 0.0260, 0.2318, 0.2687, 0.0196, 0.0512, 0.3455, 0.1545,\n",
              "         0.9787, 0.6197, 0.7647, 0.7575, 0.4673, 0.1733, 0.4769, 0.0920, 0.6025,\n",
              "         0.4145, 0.6258, 0.8933, 0.8654, 0.8301, 0.7347, 0.1357, 0.1004, 0.6896,\n",
              "         0.6587, 0.9205, 0.1610, 0.2690, 0.0046],\n",
              "        [0.6030, 0.1282, 0.4735, 0.1999, 0.2974, 0.2014, 0.8812, 0.5028, 0.2832,\n",
              "         0.5203, 0.9889, 0.3456, 0.9801, 0.9435, 0.5927, 0.9903, 0.9550, 0.7679,\n",
              "         0.9260, 0.7704, 0.6281, 0.4578, 0.0714, 0.7923, 0.4901, 0.8965, 0.8450,\n",
              "         0.7561, 0.6528, 0.0727, 0.3579, 0.1525]])"
            ]
          },
          "metadata": {},
          "execution_count": 21
        }
      ]
    },
    {
      "cell_type": "code",
      "source": [
        "# -1을 넣으면 자동 계산해줌 \n",
        "x.view(-1, 16)"
      ],
      "metadata": {
        "colab": {
          "base_uri": "https://localhost:8080/"
        },
        "id": "gj5sgIX5dS5X",
        "outputId": "96dcdd32-7ee0-47f5-c259-0883a00a96ce"
      },
      "execution_count": 22,
      "outputs": [
        {
          "output_type": "execute_result",
          "data": {
            "text/plain": [
              "tensor([[0.8650, 0.9800, 0.0260, 0.2318, 0.2687, 0.0196, 0.0512, 0.3455, 0.1545,\n",
              "         0.9787, 0.6197, 0.7647, 0.7575, 0.4673, 0.1733, 0.4769],\n",
              "        [0.0920, 0.6025, 0.4145, 0.6258, 0.8933, 0.8654, 0.8301, 0.7347, 0.1357,\n",
              "         0.1004, 0.6896, 0.6587, 0.9205, 0.1610, 0.2690, 0.0046],\n",
              "        [0.6030, 0.1282, 0.4735, 0.1999, 0.2974, 0.2014, 0.8812, 0.5028, 0.2832,\n",
              "         0.5203, 0.9889, 0.3456, 0.9801, 0.9435, 0.5927, 0.9903],\n",
              "        [0.9550, 0.7679, 0.9260, 0.7704, 0.6281, 0.4578, 0.0714, 0.7923, 0.4901,\n",
              "         0.8965, 0.8450, 0.7561, 0.6528, 0.0727, 0.3579, 0.1525]])"
            ]
          },
          "metadata": {},
          "execution_count": 22
        }
      ]
    },
    {
      "cell_type": "code",
      "source": [
        "y = x.numpy()\n",
        "y"
      ],
      "metadata": {
        "colab": {
          "base_uri": "https://localhost:8080/"
        },
        "id": "Ai3YUM2MdS2o",
        "outputId": "1fb47769-1f33-4391-bf14-447402617e9d"
      },
      "execution_count": 23,
      "outputs": [
        {
          "output_type": "execute_result",
          "data": {
            "text/plain": [
              "array([[0.86504143, 0.9799733 , 0.02596784, 0.23184437, 0.2686811 ,\n",
              "        0.01956606, 0.05122912, 0.34550995],\n",
              "       [0.1545459 , 0.9786902 , 0.61967736, 0.76468456, 0.75753176,\n",
              "        0.46728873, 0.17326325, 0.47687268],\n",
              "       [0.09202623, 0.6025456 , 0.41453886, 0.62577903, 0.8933469 ,\n",
              "        0.86535114, 0.830069  , 0.73472494],\n",
              "       [0.13570154, 0.10039753, 0.68957984, 0.6586712 , 0.92052263,\n",
              "        0.16099209, 0.2689988 , 0.00456911],\n",
              "       [0.60300136, 0.12819797, 0.47354084, 0.19992399, 0.29735053,\n",
              "        0.20136398, 0.8812313 , 0.50280845],\n",
              "       [0.28324354, 0.520315  , 0.9888866 , 0.34559846, 0.9801272 ,\n",
              "        0.943486  , 0.59271216, 0.9903411 ],\n",
              "       [0.9550202 , 0.7678522 , 0.925994  , 0.7703883 , 0.6280544 ,\n",
              "        0.45781714, 0.07143486, 0.79233545],\n",
              "       [0.49009526, 0.89649165, 0.845005  , 0.7560849 , 0.6528197 ,\n",
              "        0.07270503, 0.35793626, 0.15254402]], dtype=float32)"
            ]
          },
          "metadata": {},
          "execution_count": 23
        }
      ]
    },
    {
      "cell_type": "code",
      "source": [
        "type(y)"
      ],
      "metadata": {
        "colab": {
          "base_uri": "https://localhost:8080/"
        },
        "id": "DELjch43dSzp",
        "outputId": "46e40e7d-8d0d-4308-8a9a-ccfe7ce099fd"
      },
      "execution_count": 24,
      "outputs": [
        {
          "output_type": "execute_result",
          "data": {
            "text/plain": [
              "numpy.ndarray"
            ]
          },
          "metadata": {},
          "execution_count": 24
        }
      ]
    },
    {
      "cell_type": "code",
      "source": [
        "# item은 tensor가 scalar일 때만 사용 가능 \n",
        "x = torch.ones(1)\n",
        "x"
      ],
      "metadata": {
        "colab": {
          "base_uri": "https://localhost:8080/"
        },
        "id": "cWA5uTrbdSww",
        "outputId": "2d56ecfb-58f6-419c-b231-af404143de7a"
      },
      "execution_count": 25,
      "outputs": [
        {
          "output_type": "execute_result",
          "data": {
            "text/plain": [
              "tensor([1.])"
            ]
          },
          "metadata": {},
          "execution_count": 25
        }
      ]
    },
    {
      "cell_type": "code",
      "source": [
        "# loss Fn 값 sacalar값으로 나옴 \n",
        "x.item()"
      ],
      "metadata": {
        "colab": {
          "base_uri": "https://localhost:8080/"
        },
        "id": "BCGIgqildSuD",
        "outputId": "a9a1c943-b933-4388-9213-a3619b19008f"
      },
      "execution_count": 26,
      "outputs": [
        {
          "output_type": "execute_result",
          "data": {
            "text/plain": [
              "1.0"
            ]
          },
          "metadata": {},
          "execution_count": 26
        }
      ]
    },
    {
      "cell_type": "code",
      "source": [
        "#미분 - 딥러닝에서 필수 loss Fn\n",
        "# 1. 변수 선언 (+데이터 입력)\n",
        "x = torch.ones(2,2, requires_grad=True) # requires_grad default = False /   x대해 미분을 할 수 있도록 x에 관한 연산을 모두 추적할 수 있도록 함 \n",
        "x"
      ],
      "metadata": {
        "colab": {
          "base_uri": "https://localhost:8080/"
        },
        "id": "DDalzuR0dSdi",
        "outputId": "492bb3e0-270d-4cb6-8d3d-e20b43b4e745"
      },
      "execution_count": 27,
      "outputs": [
        {
          "output_type": "execute_result",
          "data": {
            "text/plain": [
              "tensor([[1., 1.],\n",
              "        [1., 1.]], requires_grad=True)"
            ]
          },
          "metadata": {},
          "execution_count": 27
        }
      ]
    },
    {
      "cell_type": "code",
      "source": [
        "# 2. 모델 내 연산 예측값 산출\n",
        "y = x +1\n",
        "print(y)"
      ],
      "metadata": {
        "colab": {
          "base_uri": "https://localhost:8080/"
        },
        "id": "u2UtYJz7dSbB",
        "outputId": "63909638-e95d-4eac-ab0b-397967a6654d"
      },
      "execution_count": 28,
      "outputs": [
        {
          "output_type": "stream",
          "name": "stdout",
          "text": [
            "tensor([[2., 2.],\n",
            "        [2., 2.]], grad_fn=<AddBackward0>)\n"
          ]
        }
      ]
    },
    {
      "cell_type": "code",
      "source": [
        "# 3. 손실함수 계산\n",
        "z = 2*y**2\n",
        "print(z)\n",
        "\n",
        "# 4. 손실 산출\n",
        "res = z.mean() # 평균 \n",
        "res"
      ],
      "metadata": {
        "colab": {
          "base_uri": "https://localhost:8080/"
        },
        "id": "issWHUsQdSY0",
        "outputId": "a2da0d9a-8208-43b9-a971-9b048e5bf351"
      },
      "execution_count": 29,
      "outputs": [
        {
          "output_type": "stream",
          "name": "stdout",
          "text": [
            "tensor([[8., 8.],\n",
            "        [8., 8.]], grad_fn=<MulBackward0>)\n"
          ]
        },
        {
          "output_type": "execute_result",
          "data": {
            "text/plain": [
              "tensor(8., grad_fn=<MeanBackward0>)"
            ]
          },
          "metadata": {},
          "execution_count": 29
        }
      ]
    },
    {
      "cell_type": "code",
      "source": [
        "print(res)"
      ],
      "metadata": {
        "colab": {
          "base_uri": "https://localhost:8080/"
        },
        "id": "BXQS7FG_jigV",
        "outputId": "992d95ac-79c0-4dd2-b664-c7fe311f985c"
      },
      "execution_count": 30,
      "outputs": [
        {
          "output_type": "stream",
          "name": "stdout",
          "text": [
            "tensor(8., grad_fn=<MeanBackward0>)\n"
          ]
        }
      ]
    },
    {
      "cell_type": "code",
      "source": [
        "# d(res)/dx_i = x+i + 1\n",
        "# res = (z_1 + .. + z_4)4\n",
        "# z_i = 2 y_i ** 2\n",
        "# z_i = 2(x_i+1)**2\n",
        "res.backward() # res 기준으로 연쇄법칙을 적용하겠다"
      ],
      "metadata": {
        "id": "y1IMRkJEheZC"
      },
      "execution_count": 31,
      "outputs": []
    },
    {
      "cell_type": "code",
      "source": [
        "# x에 대한 미분값 보기\n",
        "print(x.grad)"
      ],
      "metadata": {
        "colab": {
          "base_uri": "https://localhost:8080/"
        },
        "id": "5WQEV3zwheWd",
        "outputId": "daa1587a-4891-4bd8-dd61-ea65c4a442c7"
      },
      "execution_count": 32,
      "outputs": [
        {
          "output_type": "stream",
          "name": "stdout",
          "text": [
            "tensor([[2., 2.],\n",
            "        [2., 2.]])\n"
          ]
        }
      ]
    },
    {
      "cell_type": "code",
      "source": [
        "# 재정리 : 딥러닝 구조와 똑같은 흐름 \n",
        "# 최적화라는 것은 손실함수를 기준으로 해서 각 변수마다 미분을 하게 되는 것 ---> res를 기준으로 미분을 하게 되는 것 \n",
        "import torch\n",
        "\n",
        "x = torch.ones(2,2, requires_grad=True) # x라는 변수를 잡고 변수에 대해 추적을 하게끔 만듬 / 텐서를 계산하면서 \n",
        "y = x+1 # y값을 산출하게 되고 \n",
        "z = 2*y**2 # y값은 loss Fn에 이용이 되고 \n",
        "res = z.mean() # loss값을 산출하게 됨 ---- 마지막에 나온 이 scalar값으로 미분을 하게 되는데 미분을 할 때 requires_grad가 == True인 변수에 대해 미분을 함 \n",
        "res.backward() # res 기준으로 연쇄법칙을 적용하겠다\n",
        "\n",
        "print(x.grad) # x 미분값을 보기 "
      ],
      "metadata": {
        "colab": {
          "base_uri": "https://localhost:8080/"
        },
        "id": "nq8w2znkheT9",
        "outputId": "46c5c076-988a-4c2f-ac9a-ddfc0629dabc"
      },
      "execution_count": 33,
      "outputs": [
        {
          "output_type": "stream",
          "name": "stdout",
          "text": [
            "tensor([[2., 2.],\n",
            "        [2., 2.]])\n"
          ]
        }
      ]
    },
    {
      "cell_type": "markdown",
      "source": [
        "# 1. PyTorch 데이터 불러오기 \n",
        " 1. pytorch 가 제공하는 데이터 \n",
        " 2. 같은 클래스 별 폴더 이미지 데이터 이용\n",
        " 3. 개인 데이터 사용 (2 types) "
      ],
      "metadata": {
        "id": "BUUjhZ02qvi_"
      }
    },
    {
      "cell_type": "code",
      "source": [
        "import torch\n",
        "import torchvision \n",
        "import torchvision.transforms as tr # 데이터를 불러온 후 바로 전처리 가능하게 만드는 라이브러리\n",
        "from torch.utils.data import DataLoader, Dataset # DataLoader = 배치 사이즈 형태로 만들어서 실제로 학습할 때 이용할 수 있는 형태를 만들어 주는 라이브러리 / Dataset : 튜닝할 때 사용\n",
        "import numpy as np"
      ],
      "metadata": {
        "id": "kVRuA1TpheRe"
      },
      "execution_count": 34,
      "outputs": []
    },
    {
      "cell_type": "markdown",
      "source": [
        "## 1) Pytorch 제공 데이터 사용하기"
      ],
      "metadata": {
        "id": "DCTJId7wtW-L"
      }
    },
    {
      "cell_type": "code",
      "source": [
        "transf = tr.Compose([tr.Resize(8), tr.ToTensor()]) # 전처리를 할 때, Compose 안에 있는 순서대로 수행하게 됨 \n",
        "# transforms on PIL Images -> numpy or list 같은 타입은 오류가 남 * PIL 이미지여야 한다. \n"
      ],
      "metadata": {
        "id": "70chCwVbvXPF"
      },
      "execution_count": 35,
      "outputs": []
    },
    {
      "cell_type": "code",
      "source": [
        "trainset = torchvision.datasets.CIFAR10(root='./data', train=True, download=True, transform=transf) # transform=transf : 들어오는 데이터에 전처리를 해주겟다~ \n",
        "testset = torchvision.datasets.CIFAR10(root='./data', train=False, download=True, transform=transf)"
      ],
      "metadata": {
        "colab": {
          "base_uri": "https://localhost:8080/",
          "height": 101,
          "referenced_widgets": [
            "eb9acd5eb9124a16b2169b860ab25428",
            "98172376096b435b8828a4d81806f482",
            "857bbdc4a77e40dbba751cc121e4ea40",
            "0eeef8622ad84c9189e16f1b97f694e1",
            "d0cbe2406709451583c30207f62f1a1a",
            "802b0b1da8ee4e5483fba75b229814a7",
            "0d8d6e21463047489b3dccbd471c61f4",
            "5fd504f3abec42dc87f325e4e648971f",
            "37a1c5d0659a46698fcdbe7b210cc28a",
            "743344c3aee34a6e81b0544349d603ca",
            "e8ed8a2d2c1d4c3893c8269fa351c0ae"
          ]
        },
        "id": "SQH2_ekYrMSa",
        "outputId": "5a7dbc2f-6239-47f8-db89-45f16874f267"
      },
      "execution_count": 36,
      "outputs": [
        {
          "output_type": "stream",
          "name": "stdout",
          "text": [
            "Downloading https://www.cs.toronto.edu/~kriz/cifar-10-python.tar.gz to ./data/cifar-10-python.tar.gz\n"
          ]
        },
        {
          "output_type": "display_data",
          "data": {
            "text/plain": [
              "  0%|          | 0/170498071 [00:00<?, ?it/s]"
            ],
            "application/vnd.jupyter.widget-view+json": {
              "version_major": 2,
              "version_minor": 0,
              "model_id": "eb9acd5eb9124a16b2169b860ab25428"
            }
          },
          "metadata": {}
        },
        {
          "output_type": "stream",
          "name": "stdout",
          "text": [
            "Extracting ./data/cifar-10-python.tar.gz to ./data\n",
            "Files already downloaded and verified\n"
          ]
        }
      ]
    },
    {
      "cell_type": "code",
      "source": [
        "trainset[0][0].size() # trainset[0] = tuple"
      ],
      "metadata": {
        "colab": {
          "base_uri": "https://localhost:8080/"
        },
        "id": "uNzh_3ecrMQC",
        "outputId": "36c7eb38-dd76-43a0-9729-7bdff1ef9fa1"
      },
      "execution_count": 37,
      "outputs": [
        {
          "output_type": "execute_result",
          "data": {
            "text/plain": [
              "torch.Size([3, 8, 8])"
            ]
          },
          "metadata": {},
          "execution_count": 37
        }
      ]
    },
    {
      "cell_type": "code",
      "source": [
        "# batch 형태로 만들기 \n",
        "trainloader = DataLoader(trainset, batch_size=50, shuffle=True, num_workers=2) # num_workers : 데이터를 로드할 때 써 프로세스(?)를 몇 개 쓰느냐 - 2,4 혹은 에러가 나면 0으로 놓기 \n",
        "testloader = DataLoader(testset, batch_size=50, shuffle=True, num_workers=2)\n",
        "\n",
        "# 여기까지 데이터 불러오기 / 전처리까지 완료 "
      ],
      "metadata": {
        "id": "nElZctqCrMN8"
      },
      "execution_count": 38,
      "outputs": []
    },
    {
      "cell_type": "code",
      "source": [
        "# 가져온 데이터의 수를 배치사이즈 50으로 나누면 배치의 수가 나옴\n",
        "len(trainset), len(testset), len(trainloader), len(testloader) "
      ],
      "metadata": {
        "id": "8tOKri34x-f3",
        "outputId": "deb11efc-3057-4726-9a25-5cdb3fc74131",
        "colab": {
          "base_uri": "https://localhost:8080/"
        }
      },
      "execution_count": 39,
      "outputs": [
        {
          "output_type": "execute_result",
          "data": {
            "text/plain": [
              "(50000, 10000, 1000, 200)"
            ]
          },
          "metadata": {},
          "execution_count": 39
        }
      ]
    },
    {
      "cell_type": "code",
      "source": [
        "# trainloader 안 실제 값을 보는 방법\n",
        "dataiter = iter(trainloader)\n",
        "# list(dataiter)\n",
        "images, labels = dataiter.next()\n",
        "images\n",
        "# [50,3,8,8]\n",
        "# 50: 배치 사이즈 \n",
        "# 3: 채널 수\n",
        "# 8: 이미지 너비\n",
        "# 8: 이미지 높이 "
      ],
      "metadata": {
        "id": "hsZsn7IvrMLn"
      },
      "execution_count": null,
      "outputs": []
    },
    {
      "cell_type": "markdown",
      "source": [
        "## 2) 같은 클래스 별 폴더 이미지 데이터 이용\n"
      ],
      "metadata": {
        "id": "CmUTaj9d4k_P"
      }
    },
    {
      "cell_type": "code",
      "source": [
        "!ls"
      ],
      "metadata": {
        "colab": {
          "base_uri": "https://localhost:8080/"
        },
        "id": "Rx2ZJoiMAhoF",
        "outputId": "7ba5f2a7-968d-4d7a-931c-fdddcc669672"
      },
      "execution_count": 41,
      "outputs": [
        {
          "output_type": "stream",
          "name": "stdout",
          "text": [
            "data  drive  sample_data\n"
          ]
        }
      ]
    },
    {
      "cell_type": "code",
      "source": [
        "cd drive"
      ],
      "metadata": {
        "colab": {
          "base_uri": "https://localhost:8080/"
        },
        "id": "y4tnz_4xAqgi",
        "outputId": "414fa7a2-1868-4e66-ebf4-a0403ec9c381"
      },
      "execution_count": 42,
      "outputs": [
        {
          "output_type": "stream",
          "name": "stdout",
          "text": [
            "/content/drive\n"
          ]
        }
      ]
    },
    {
      "cell_type": "code",
      "source": [
        "cd MyDrive/pytorch"
      ],
      "metadata": {
        "colab": {
          "base_uri": "https://localhost:8080/"
        },
        "id": "zJ5ylgLsAsIi",
        "outputId": "9ec3a25e-34ca-4588-b0c9-2cf524703280"
      },
      "execution_count": 43,
      "outputs": [
        {
          "output_type": "stream",
          "name": "stdout",
          "text": [
            "/content/drive/MyDrive/pytorch\n"
          ]
        }
      ]
    },
    {
      "cell_type": "code",
      "source": [
        "# 폴더 안에 클래스 별로 나누기 \n",
        "# ./class/tiger ./class/lion  -> 이렇게 나뉘어져 있으면 ImageFolder()를 사용할 수 있음\n",
        "transf = tr.Compose([tr.Resize(16), tr.ToTensor()])\n",
        "trainset = torchvision.datasets.ImageFolder(root='./class', transform=transf) # ImageFolder() 는 ./class 안에 있는 폴더 별로 labeling을 다르게 매겨서 서치해줌 + 바로 전처리 사용 가능 \n",
        "trainloader = DataLoader(trainset, batch_size=10, shuffle=False, num_workers=2)\n",
        "print(len(trainloader))"
      ],
      "metadata": {
        "colab": {
          "base_uri": "https://localhost:8080/"
        },
        "id": "vA53m7pZ53Lp",
        "outputId": "e9368d92-0086-44fb-e6d4-7bfdabcb3801"
      },
      "execution_count": 44,
      "outputs": [
        {
          "output_type": "stream",
          "name": "stdout",
          "text": [
            "6\n"
          ]
        }
      ]
    },
    {
      "cell_type": "code",
      "source": [
        "from google.colab import drive\n",
        "drive.mount('/content/drive')"
      ],
      "metadata": {
        "colab": {
          "base_uri": "https://localhost:8080/"
        },
        "id": "r1Dcc4S-8Guc",
        "outputId": "0dadc0bc-b3fe-419e-ef53-355e782b424f"
      },
      "execution_count": 45,
      "outputs": [
        {
          "output_type": "stream",
          "name": "stdout",
          "text": [
            "Drive already mounted at /content/drive; to attempt to forcibly remount, call drive.mount(\"/content/drive\", force_remount=True).\n"
          ]
        }
      ]
    },
    {
      "cell_type": "code",
      "source": [
        "trainset[0][0].size()"
      ],
      "metadata": {
        "colab": {
          "base_uri": "https://localhost:8080/"
        },
        "id": "668nN3xoCVLK",
        "outputId": "d9bd3514-d7a0-4bf9-e2c9-24288c9fd6ab"
      },
      "execution_count": 46,
      "outputs": [
        {
          "output_type": "execute_result",
          "data": {
            "text/plain": [
              "torch.Size([3, 16, 16])"
            ]
          },
          "metadata": {},
          "execution_count": 46
        }
      ]
    },
    {
      "cell_type": "code",
      "source": [
        "list(trainloader)"
      ],
      "metadata": {
        "id": "g0B8TNFy53I6"
      },
      "execution_count": null,
      "outputs": []
    },
    {
      "cell_type": "markdown",
      "source": [
        "## 3) 개인 데이터 사용 (2 types) \n"
      ],
      "metadata": {
        "id": "LLK68cSkCgnd"
      }
    },
    {
      "cell_type": "code",
      "source": [
        "# import preprocessing \n",
        "\n",
        "train_images = np.random.randint(256, size=(20,32,32,3)) # numpy 형태로 들어왔다고 가정 : 32 by 32짜리 이미지 3 채널짜리가 20개 있음 \n",
        "train_labels = np.random.randint(2, size=(20,1)) # 그에 따른 label 20개가 있다고 가정\n",
        "\n",
        "# preprocessing ..\n",
        "# train_images, train_labels = preprocessing(train_images, train_labels)  <- preprocessing()에서 전처리가 다 되고 넘어온다. \n",
        "\n",
        "print(train_images.shape, train_labels.shape)  # (20,32,32,3) 20: 배치사이즈, 32by32 : 이미지 사이즈, 3 : 채널 사이즈 "
      ],
      "metadata": {
        "colab": {
          "base_uri": "https://localhost:8080/"
        },
        "id": "WTxCETmd53GV",
        "outputId": "0d4fe5f0-43e1-4d89-c66a-88c14216e2f5"
      },
      "execution_count": 75,
      "outputs": [
        {
          "output_type": "stream",
          "name": "stdout",
          "text": [
            "(20, 32, 32, 3) (20, 1)\n"
          ]
        }
      ]
    },
    {
      "cell_type": "markdown",
      "source": [
        "class 내부에서 데이터 불러와 전처리 등등 할 수 있는데 왜 외부에서 데이터 들어오는 방식으로 했는지 ? \n",
        "\n",
        "=> ImageFolder는 클래스 별로 폴더 나눠놓으면 세 줄이면 끝나는데 (구글 드라이브에서 가져온 거) 이 방식으로 가능하지 않은 경우가 있기 때문\n",
        "1. 다른 작업과 공용으로 쓰이는 데이터인 경우\n",
        "2. 폴더가 아닌 SQL같은 곳에서 넘어오는 경우\n"
      ],
      "metadata": {
        "id": "F_SvTiJiJnp_"
      }
    },
    {
      "cell_type": "code",
      "source": [
        "# dataset class를 상속받을 클래스 만들기 \n",
        "\n",
        "\n",
        "class TensorData(Dataset):\n",
        "  def __init__(self, x_data, y_data): # 외부에서 데이터 들어올려고 x_data, y_data 작성함\n",
        "    self.x_data = torch.FloatTensor(x_data) # tensor로 변경 근데 이제 타입이 float 인..     // Tensor로 바꾸기 전 전처리가 이미 다 되어 있음 위의 preprocessing()에서 \n",
        "    self.x_data = self.x_data.permute(0,3,1,2) ## permute()함수로 이미지 개수, 채널 수, 이미지 너비, 높이로 순서 바꾸기 \n",
        "    self.y_data = torch.LongTensor(y_data) # tensor로 변경 근데 이제 타입이 Long인..\n",
        "    self.len = self.y_data.shape[0] # 데이터의 개수 \n",
        "\n",
        "  def __getitem__(self, index):\n",
        "    return self.x_data[index], self.y_data[index] # tuple형태로 내보낼 것\n",
        "\n",
        "  def __len__(self):\n",
        "    return self.len\n"
      ],
      "metadata": {
        "id": "2ft8JO-F53Ds"
      },
      "execution_count": 76,
      "outputs": []
    },
    {
      "cell_type": "code",
      "source": [
        "train_data = TensorData(train_images, train_labels) # class instance 생성, 데이터 두 개(x_data, y_data) 불러오니까 두 개 넣어줌\n",
        "train_loader = DataLoader(train_data, batch_size=10, shuffle=True)"
      ],
      "metadata": {
        "id": "OD5D7M6S53BO"
      },
      "execution_count": 77,
      "outputs": []
    },
    {
      "cell_type": "code",
      "source": [
        "train_data[0][0].size()"
      ],
      "metadata": {
        "colab": {
          "base_uri": "https://localhost:8080/"
        },
        "id": "OqxaiaKj52_a",
        "outputId": "ec37f9ab-957b-46b5-85ef-0c6f14d15db2"
      },
      "execution_count": 78,
      "outputs": [
        {
          "output_type": "execute_result",
          "data": {
            "text/plain": [
              "torch.Size([3, 32, 32])"
            ]
          },
          "metadata": {},
          "execution_count": 78
        }
      ]
    },
    {
      "cell_type": "code",
      "source": [
        "dataiter = iter(train_loader)\n",
        "images, labels = dataiter.next()"
      ],
      "metadata": {
        "id": "zN499Q8oJEXj"
      },
      "execution_count": 79,
      "outputs": []
    },
    {
      "cell_type": "code",
      "source": [
        "images.size()"
      ],
      "metadata": {
        "id": "OcPemeuOrMJY",
        "colab": {
          "base_uri": "https://localhost:8080/"
        },
        "outputId": "eed805f1-b67c-4652-ea0b-b0a98fcd49af"
      },
      "execution_count": 80,
      "outputs": [
        {
          "output_type": "execute_result",
          "data": {
            "text/plain": [
              "torch.Size([10, 3, 32, 32])"
            ]
          },
          "metadata": {},
          "execution_count": 80
        }
      ]
    },
    {
      "cell_type": "markdown",
      "source": [
        "개인 데이터에 이제 transfor= 을 사용해보기 "
      ],
      "metadata": {
        "id": "rj-JgvpnZ14j"
      }
    },
    {
      "cell_type": "code",
      "source": [
        "##### 기본 양식 \n",
        "# from torch.utils.data import Dataset\n",
        "\n",
        "# class MyDataset(Dataset):\n",
        "\n",
        "  # def __init__(self):\n",
        "\n",
        "  # def __getitem__(self, index):\n",
        "              \n",
        "  # def __len__(self):"
      ],
      "metadata": {
        "id": "N9t7gWfzrMHW"
      },
      "execution_count": 81,
      "outputs": []
    },
    {
      "cell_type": "code",
      "source": [
        "from torch.utils.data import Dataset\n",
        "\n",
        "class MyDataset(Dataset):\n",
        "  def __init__(self, x_data, y_data, transform=None):\n",
        "    self.x_data = x_data\n",
        "    self.y_data = y_data\n",
        "    self.transform = transform\n",
        "    self.len = len(y_data)\n",
        "              \n",
        "  def __getitem__(self, index):\n",
        "    sample = self.x_data[index], self.y_data[index] # tuple 형태를\n",
        "\n",
        "    if self.transform:  # 내보내기 전 전처리 작업을 하겠다. \n",
        "      sample = self.transform(sample)\n",
        "\n",
        "    return sample # transform=None이면 x_data, y_data 를 Tensor로 변환안했기 때문에 Numpy로 내보내짐 \n",
        "\n",
        "  def __len__(self):\n",
        "    return self.len\n",
        "\n",
        "# transform을 수기로 class로 작성해보기\n",
        "class ToTensor:\n",
        "  def __call__(self, sample):\n",
        "    inputs, labels = sample\n",
        "    inputs = torch.FloatTensor(inputs)\n",
        "    inputs = inputs.permute(2,0,1)\n",
        "    return inputs, torch.LongTensor(labels)\n",
        "\n",
        "class LinearTensor:\n",
        "  def __init__(self, slope=1, bias=0):\n",
        "    self.slope = slope\n",
        "    self.bias = bias\n",
        "\n",
        "  def __call__(self, sample):\n",
        "    inputs, labels = sample\n",
        "    inputs = self.slope*inputs + self.bias\n",
        "    return inputs, labels "
      ],
      "metadata": {
        "id": "YUf3h733hePB"
      },
      "execution_count": 82,
      "outputs": []
    },
    {
      "cell_type": "code",
      "source": [
        "trans = tr.Compose([ToTensor(), LinearTensor(2,5)]) # !!! tr.toTensor()를 사용하지 못하는 이유 : tr은 PIL images 형태여야함 - 지금 가지고 있는 데이터가 Numpy - 타입이 다르기 때문에 에러남 \n",
        "ds1 = MyDataset(train_images, train_labels, transform=trans)\n",
        "train_loader1 = DataLoader(ds1, batch_size=10, shuffle=True) # DataLoader로 배치형태로 변환\n",
        "ds1[0][0].size()"
      ],
      "metadata": {
        "id": "hu9xxGVcheNJ",
        "colab": {
          "base_uri": "https://localhost:8080/"
        },
        "outputId": "601fdb35-0ad4-4eaf-ad87-02ab24c0d339"
      },
      "execution_count": 83,
      "outputs": [
        {
          "output_type": "execute_result",
          "data": {
            "text/plain": [
              "torch.Size([3, 32, 32])"
            ]
          },
          "metadata": {},
          "execution_count": 83
        }
      ]
    },
    {
      "cell_type": "code",
      "source": [
        "first_data = ds1[0]\n",
        "features, labels = first_data\n",
        "print(type(features), type(labels))"
      ],
      "metadata": {
        "id": "BdG76OTEdSWe",
        "colab": {
          "base_uri": "https://localhost:8080/"
        },
        "outputId": "9ff15814-6576-4b2c-9e03-928d3736a5ef"
      },
      "execution_count": 84,
      "outputs": [
        {
          "output_type": "stream",
          "name": "stdout",
          "text": [
            "<class 'torch.Tensor'> <class 'torch.Tensor'>\n"
          ]
        }
      ]
    },
    {
      "cell_type": "code",
      "source": [
        "dataiter1 = iter(train_loader1)\n",
        "images1, labels1 = dataiter1.next()"
      ],
      "metadata": {
        "id": "KmJXlqzzdSUg"
      },
      "execution_count": 85,
      "outputs": []
    },
    {
      "cell_type": "code",
      "source": [
        "images1"
      ],
      "metadata": {
        "id": "j1ofQUuebi-v"
      },
      "execution_count": null,
      "outputs": []
    },
    {
      "cell_type": "code",
      "source": [
        "class MyDataset(Dataset):\n",
        "  def __init__(self, x_data, y_data, transform=None):\n",
        "    self.x_data = x_data\n",
        "    self.y_data = y_data\n",
        "    self.transform = transform\n",
        "    self.len = len(y_data)\n",
        "\n",
        "  def __getitem__(self, index):\n",
        "    sample = self.x_data[index], self.y_data[index]\n",
        "\n",
        "    if self.transform:\n",
        "      sample = self.transform(sample)\n",
        "\n",
        "    return sample\n",
        "\n",
        "  def __len__(self):\n",
        "    return self.len\n",
        "\n",
        "class MyTransform:\n",
        "  def __call__(self, sample):\n",
        "    inputs, labels = sample\n",
        "    inputs = torch.FloatTensor(inputs)\n",
        "    inputs = inputs.permute(2,0,1)\n",
        "    labels = torch.FloatTensor(labels)\n",
        "\n",
        "    transf = tr.Compose([tr.ToPILImage(), tr.Resize(128), tr.ToTensor(), tr.Normalize((0.5, 0.5, 0.5), (0.5, 0.5, 0.5))])\n",
        "    final_output = transf(inputs)\n",
        "\n",
        "    return final_output, labels\n"
      ],
      "metadata": {
        "id": "ug-FyiOLhMNO"
      },
      "execution_count": 87,
      "outputs": []
    },
    {
      "cell_type": "code",
      "source": [
        "ds2 = MyDataset(train_images, train_labels, transform=MyTransform())\n",
        "train_loader2 = DataLoader(ds2, batch_size=10, shuffle=True)\n",
        "# batch 하는 이유 : 학습 때 전체 학습하면 너무 느려져서 배치로 나누어 학습하기 위해"
      ],
      "metadata": {
        "id": "WBrPaqOViaHS"
      },
      "execution_count": 88,
      "outputs": []
    },
    {
      "cell_type": "code",
      "source": [
        "first_data = ds2[0]\n",
        "features, labels = first_data\n",
        "print(type(features), type(labels))"
      ],
      "metadata": {
        "colab": {
          "base_uri": "https://localhost:8080/"
        },
        "id": "NLeASF_MiaE_",
        "outputId": "7c5fbefb-0b6d-4bf2-b723-7ae56d6d64aa"
      },
      "execution_count": 89,
      "outputs": [
        {
          "output_type": "stream",
          "name": "stdout",
          "text": [
            "<class 'torch.Tensor'> <class 'torch.Tensor'>\n"
          ]
        }
      ]
    },
    {
      "cell_type": "code",
      "source": [
        "features.size()"
      ],
      "metadata": {
        "colab": {
          "base_uri": "https://localhost:8080/"
        },
        "id": "SobvMEHIlJad",
        "outputId": "95d96395-ddab-4c5b-d42b-f7b8e098a597"
      },
      "execution_count": 90,
      "outputs": [
        {
          "output_type": "execute_result",
          "data": {
            "text/plain": [
              "torch.Size([3, 128, 128])"
            ]
          },
          "metadata": {},
          "execution_count": 90
        }
      ]
    },
    {
      "cell_type": "code",
      "source": [
        "dataiter2 = iter(train_loader2)\n",
        "images2, labels2 = dataiter2.next()\n",
        "images2"
      ],
      "metadata": {
        "id": "BsOyy7dkiaCE"
      },
      "execution_count": null,
      "outputs": []
    },
    {
      "cell_type": "markdown",
      "source": [
        "# 2. 인공신경망 구축 : 기본 모델 구축 및 저장하기\n",
        "이미지 중심의 모델"
      ],
      "metadata": {
        "id": "HueFq6AwmndE"
      }
    },
    {
      "cell_type": "code",
      "source": [
        "import torch\n",
        "import torchvision\n",
        "import torchvision.transforms as transforms # 데이터 불러온 후 전처리하기 위함 \n",
        "from torch.utils.data import DataLoader # 배치 형태로 만들어주는 라이브러리"
      ],
      "metadata": {
        "id": "-Acgy5RoiZ89"
      },
      "execution_count": 67,
      "outputs": []
    },
    {
      "cell_type": "code",
      "source": [
        "transform = transforms.Compose([transforms.ToTensor(), transforms.Normalize((0.5,0.5,0.5), (0.5,0.5,0.5))])\n",
        "\n",
        "trainset = torchvision.datasets.CIFAR10(root='./data', train=True, download=True, transform=transform)\n",
        "trainloader = torch.utils.data.DataLoader(trainset, batch_size=8, shuffle=True, num_workers=2)\n",
        "\n",
        "testset = torchvision.datasets.CIFAR10(root='./data', train=False, download=True, transform=transform)\n",
        "testloader = torch.utils.data.DataLoader(testset, batch_size=8, shuffle=False, num_workers=2)\n",
        "\n",
        "classes = ('plane', 'car', 'bird', 'cat', 'deer', 'dog', 'frog', 'horse', 'ship', 'truck')\n",
        "\n",
        "# CIFAR10 : 10개의 classes가 들어있는 이미지 파일임, 위의 classes 분류 10개의 파일"
      ],
      "metadata": {
        "colab": {
          "base_uri": "https://localhost:8080/",
          "height": 101,
          "referenced_widgets": [
            "7ed84c949f4e4b2bbed19f0c0d96eee7",
            "3d8b434dd0e14e83bd801ec4b9a2cf6e",
            "ee16051165af4156bf3a1692a9486501",
            "0cc08265303a4233b5781676570ed9f8",
            "322baeb8bdbd4d78a9417fde82ef7806",
            "255b6a017c0f411380974e8174a76332",
            "2284f6d517074e8bbb3c0535e04d7dd5",
            "bf4b96b224424b3bbd0dcd601e732f53",
            "442b4522c42f41038c7142e236fac8e6",
            "8f5bd68a8ef14e54876e049e1afbdd02",
            "0b16620035e047adaa2dc683b6a1f5b0"
          ]
        },
        "id": "Rgab9qlfiZ6H",
        "outputId": "b1347a48-45ec-4fb3-c531-efe2e5372b36"
      },
      "execution_count": 74,
      "outputs": [
        {
          "output_type": "stream",
          "name": "stdout",
          "text": [
            "Downloading https://www.cs.toronto.edu/~kriz/cifar-10-python.tar.gz to ./data/cifar-10-python.tar.gz\n"
          ]
        },
        {
          "output_type": "display_data",
          "data": {
            "text/plain": [
              "  0%|          | 0/170498071 [00:00<?, ?it/s]"
            ],
            "application/vnd.jupyter.widget-view+json": {
              "version_major": 2,
              "version_minor": 0,
              "model_id": "7ed84c949f4e4b2bbed19f0c0d96eee7"
            }
          },
          "metadata": {}
        },
        {
          "output_type": "stream",
          "name": "stdout",
          "text": [
            "Extracting ./data/cifar-10-python.tar.gz to ./data\n",
            "Files already downloaded and verified\n"
          ]
        }
      ]
    },
    {
      "cell_type": "code",
      "source": [],
      "metadata": {
        "id": "rIXdYi9CiZ3n"
      },
      "execution_count": 74,
      "outputs": []
    },
    {
      "cell_type": "code",
      "source": [],
      "metadata": {
        "id": "FcI5LQG6mi8B"
      },
      "execution_count": 74,
      "outputs": []
    },
    {
      "cell_type": "code",
      "source": [],
      "metadata": {
        "id": "ci6R7TINmi5l"
      },
      "execution_count": 74,
      "outputs": []
    },
    {
      "cell_type": "code",
      "source": [
        "from google.colab import files\n",
        "uploaded = files.upload()"
      ],
      "metadata": {
        "colab": {
          "base_uri": "https://localhost:8080/",
          "height": 74
        },
        "id": "6hjGjKQ6mi3E",
        "outputId": "e0a69de5-e12e-4875-dd78-dc26fffbd366"
      },
      "execution_count": 92,
      "outputs": [
        {
          "output_type": "display_data",
          "data": {
            "text/plain": [
              "<IPython.core.display.HTML object>"
            ],
            "text/html": [
              "\n",
              "     <input type=\"file\" id=\"files-05de5607-5346-464a-878d-de42964246e5\" name=\"files[]\" multiple disabled\n",
              "        style=\"border:none\" />\n",
              "     <output id=\"result-05de5607-5346-464a-878d-de42964246e5\">\n",
              "      Upload widget is only available when the cell has been executed in the\n",
              "      current browser session. Please rerun this cell to enable.\n",
              "      </output>\n",
              "      <script>// Copyright 2017 Google LLC\n",
              "//\n",
              "// Licensed under the Apache License, Version 2.0 (the \"License\");\n",
              "// you may not use this file except in compliance with the License.\n",
              "// You may obtain a copy of the License at\n",
              "//\n",
              "//      http://www.apache.org/licenses/LICENSE-2.0\n",
              "//\n",
              "// Unless required by applicable law or agreed to in writing, software\n",
              "// distributed under the License is distributed on an \"AS IS\" BASIS,\n",
              "// WITHOUT WARRANTIES OR CONDITIONS OF ANY KIND, either express or implied.\n",
              "// See the License for the specific language governing permissions and\n",
              "// limitations under the License.\n",
              "\n",
              "/**\n",
              " * @fileoverview Helpers for google.colab Python module.\n",
              " */\n",
              "(function(scope) {\n",
              "function span(text, styleAttributes = {}) {\n",
              "  const element = document.createElement('span');\n",
              "  element.textContent = text;\n",
              "  for (const key of Object.keys(styleAttributes)) {\n",
              "    element.style[key] = styleAttributes[key];\n",
              "  }\n",
              "  return element;\n",
              "}\n",
              "\n",
              "// Max number of bytes which will be uploaded at a time.\n",
              "const MAX_PAYLOAD_SIZE = 100 * 1024;\n",
              "\n",
              "function _uploadFiles(inputId, outputId) {\n",
              "  const steps = uploadFilesStep(inputId, outputId);\n",
              "  const outputElement = document.getElementById(outputId);\n",
              "  // Cache steps on the outputElement to make it available for the next call\n",
              "  // to uploadFilesContinue from Python.\n",
              "  outputElement.steps = steps;\n",
              "\n",
              "  return _uploadFilesContinue(outputId);\n",
              "}\n",
              "\n",
              "// This is roughly an async generator (not supported in the browser yet),\n",
              "// where there are multiple asynchronous steps and the Python side is going\n",
              "// to poll for completion of each step.\n",
              "// This uses a Promise to block the python side on completion of each step,\n",
              "// then passes the result of the previous step as the input to the next step.\n",
              "function _uploadFilesContinue(outputId) {\n",
              "  const outputElement = document.getElementById(outputId);\n",
              "  const steps = outputElement.steps;\n",
              "\n",
              "  const next = steps.next(outputElement.lastPromiseValue);\n",
              "  return Promise.resolve(next.value.promise).then((value) => {\n",
              "    // Cache the last promise value to make it available to the next\n",
              "    // step of the generator.\n",
              "    outputElement.lastPromiseValue = value;\n",
              "    return next.value.response;\n",
              "  });\n",
              "}\n",
              "\n",
              "/**\n",
              " * Generator function which is called between each async step of the upload\n",
              " * process.\n",
              " * @param {string} inputId Element ID of the input file picker element.\n",
              " * @param {string} outputId Element ID of the output display.\n",
              " * @return {!Iterable<!Object>} Iterable of next steps.\n",
              " */\n",
              "function* uploadFilesStep(inputId, outputId) {\n",
              "  const inputElement = document.getElementById(inputId);\n",
              "  inputElement.disabled = false;\n",
              "\n",
              "  const outputElement = document.getElementById(outputId);\n",
              "  outputElement.innerHTML = '';\n",
              "\n",
              "  const pickedPromise = new Promise((resolve) => {\n",
              "    inputElement.addEventListener('change', (e) => {\n",
              "      resolve(e.target.files);\n",
              "    });\n",
              "  });\n",
              "\n",
              "  const cancel = document.createElement('button');\n",
              "  inputElement.parentElement.appendChild(cancel);\n",
              "  cancel.textContent = 'Cancel upload';\n",
              "  const cancelPromise = new Promise((resolve) => {\n",
              "    cancel.onclick = () => {\n",
              "      resolve(null);\n",
              "    };\n",
              "  });\n",
              "\n",
              "  // Wait for the user to pick the files.\n",
              "  const files = yield {\n",
              "    promise: Promise.race([pickedPromise, cancelPromise]),\n",
              "    response: {\n",
              "      action: 'starting',\n",
              "    }\n",
              "  };\n",
              "\n",
              "  cancel.remove();\n",
              "\n",
              "  // Disable the input element since further picks are not allowed.\n",
              "  inputElement.disabled = true;\n",
              "\n",
              "  if (!files) {\n",
              "    return {\n",
              "      response: {\n",
              "        action: 'complete',\n",
              "      }\n",
              "    };\n",
              "  }\n",
              "\n",
              "  for (const file of files) {\n",
              "    const li = document.createElement('li');\n",
              "    li.append(span(file.name, {fontWeight: 'bold'}));\n",
              "    li.append(span(\n",
              "        `(${file.type || 'n/a'}) - ${file.size} bytes, ` +\n",
              "        `last modified: ${\n",
              "            file.lastModifiedDate ? file.lastModifiedDate.toLocaleDateString() :\n",
              "                                    'n/a'} - `));\n",
              "    const percent = span('0% done');\n",
              "    li.appendChild(percent);\n",
              "\n",
              "    outputElement.appendChild(li);\n",
              "\n",
              "    const fileDataPromise = new Promise((resolve) => {\n",
              "      const reader = new FileReader();\n",
              "      reader.onload = (e) => {\n",
              "        resolve(e.target.result);\n",
              "      };\n",
              "      reader.readAsArrayBuffer(file);\n",
              "    });\n",
              "    // Wait for the data to be ready.\n",
              "    let fileData = yield {\n",
              "      promise: fileDataPromise,\n",
              "      response: {\n",
              "        action: 'continue',\n",
              "      }\n",
              "    };\n",
              "\n",
              "    // Use a chunked sending to avoid message size limits. See b/62115660.\n",
              "    let position = 0;\n",
              "    do {\n",
              "      const length = Math.min(fileData.byteLength - position, MAX_PAYLOAD_SIZE);\n",
              "      const chunk = new Uint8Array(fileData, position, length);\n",
              "      position += length;\n",
              "\n",
              "      const base64 = btoa(String.fromCharCode.apply(null, chunk));\n",
              "      yield {\n",
              "        response: {\n",
              "          action: 'append',\n",
              "          file: file.name,\n",
              "          data: base64,\n",
              "        },\n",
              "      };\n",
              "\n",
              "      let percentDone = fileData.byteLength === 0 ?\n",
              "          100 :\n",
              "          Math.round((position / fileData.byteLength) * 100);\n",
              "      percent.textContent = `${percentDone}% done`;\n",
              "\n",
              "    } while (position < fileData.byteLength);\n",
              "  }\n",
              "\n",
              "  // All done.\n",
              "  yield {\n",
              "    response: {\n",
              "      action: 'complete',\n",
              "    }\n",
              "  };\n",
              "}\n",
              "\n",
              "scope.google = scope.google || {};\n",
              "scope.google.colab = scope.google.colab || {};\n",
              "scope.google.colab._files = {\n",
              "  _uploadFiles,\n",
              "  _uploadFilesContinue,\n",
              "};\n",
              "})(self);\n",
              "</script> "
            ]
          },
          "metadata": {}
        },
        {
          "output_type": "stream",
          "name": "stdout",
          "text": [
            "Saving restaurants_names.csv to restaurants_names.csv\n"
          ]
        }
      ]
    },
    {
      "cell_type": "code",
      "source": [
        "uploaded"
      ],
      "metadata": {
        "id": "oxYFkLHAFQgI"
      },
      "execution_count": null,
      "outputs": []
    },
    {
      "cell_type": "code",
      "source": [
        "import pandas as pd\n",
        "df = pd.read_csv('restaurants_names.csv')\n"
      ],
      "metadata": {
        "id": "IyGf02eEmi02"
      },
      "execution_count": 93,
      "outputs": []
    },
    {
      "cell_type": "code",
      "source": [],
      "metadata": {
        "id": "tOoxa6NViZ1Z"
      },
      "execution_count": 74,
      "outputs": []
    },
    {
      "cell_type": "code",
      "source": [],
      "metadata": {
        "id": "eINL9nzaiZzO"
      },
      "execution_count": 74,
      "outputs": []
    },
    {
      "cell_type": "code",
      "source": [],
      "metadata": {
        "id": "L0TWhCPviZw6"
      },
      "execution_count": 74,
      "outputs": []
    },
    {
      "cell_type": "code",
      "source": [],
      "metadata": {
        "id": "F0OuvQJJiZuo"
      },
      "execution_count": 74,
      "outputs": []
    },
    {
      "cell_type": "code",
      "source": [],
      "metadata": {
        "id": "vs3_iTKciZsn"
      },
      "execution_count": 74,
      "outputs": []
    }
  ]
}