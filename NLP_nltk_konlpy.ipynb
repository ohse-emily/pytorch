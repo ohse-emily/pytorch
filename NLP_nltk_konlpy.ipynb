{
  "nbformat": 4,
  "nbformat_minor": 0,
  "metadata": {
    "colab": {
      "provenance": [],
      "authorship_tag": "ABX9TyNfz5rgiEF6VcgI1OtnhcGl",
      "include_colab_link": true
    },
    "kernelspec": {
      "name": "python3",
      "display_name": "Python 3"
    },
    "language_info": {
      "name": "python"
    }
  },
  "cells": [
    {
      "cell_type": "markdown",
      "metadata": {
        "id": "view-in-github",
        "colab_type": "text"
      },
      "source": [
        "<a href=\"https://colab.research.google.com/github/ohse-emily/pytorch/blob/master/%08NLP.ipynb\" target=\"_parent\"><img src=\"https://colab.research.google.com/assets/colab-badge.svg\" alt=\"Open In Colab\"/></a>"
      ]
    },
    {
      "cell_type": "code",
      "execution_count": null,
      "metadata": {
        "colab": {
          "base_uri": "https://localhost:8080/"
        },
        "id": "hRuNMpxkBL2E",
        "outputId": "6c43281c-26aa-43c7-b8a3-7b10b19fbdcb"
      },
      "outputs": [
        {
          "output_type": "stream",
          "name": "stdout",
          "text": [
            "['Model-based', 'RL', 'do', \"n't\", 'need', 'a', 'value', 'function', 'for', 'the', 'policy', '.']\n"
          ]
        }
      ],
      "source": [
        "# 표준 토큰화 : Treeback tokenizer\n",
        "from nltk.tokenize import TreebankWordTokenizer\n",
        "tokenizer = TreebankWordTokenizer()\n",
        "text = \"Model-based RL don't need a value function for the policy.\"\n",
        "print(tokenizer.tokenize(text))"
      ]
    },
    {
      "cell_type": "code",
      "source": [
        "# 불용어 Stopword : 문장에서 중요도가 낮은 대세가 아닌 단어 제거\n",
        "import nltk\n",
        "nltk.download('stopwords')\n",
        "from nltk.corpus import stopwords\n",
        "print(stopwords.words('english')[:10])"
      ],
      "metadata": {
        "colab": {
          "base_uri": "https://localhost:8080/"
        },
        "id": "HIcY-PKZBe70",
        "outputId": "103ade69-1968-4cda-a86a-899e39eb75db"
      },
      "execution_count": null,
      "outputs": [
        {
          "output_type": "stream",
          "name": "stdout",
          "text": [
            "['i', 'me', 'my', 'myself', 'we', 'our', 'ours', 'ourselves', 'you', \"you're\"]\n"
          ]
        },
        {
          "output_type": "stream",
          "name": "stderr",
          "text": [
            "[nltk_data] Downloading package stopwords to /root/nltk_data...\n",
            "[nltk_data]   Package stopwords is already up-to-date!\n"
          ]
        }
      ]
    },
    {
      "cell_type": "code",
      "source": [
        "import nltk\n",
        "nltk.download('stopwords')\n",
        "nltk.download('punkt')\n",
        "from nltk.corpus import stopwords\n",
        "from nltk.tokenize import word_tokenize\n",
        "\n",
        "input_sentence = \"We should all study hard for the exam\"\n",
        "stop_words = set(stopwords.words('english'))\n",
        "word_tokens = word_tokenize(input_sentence)\n",
        "result = []\n",
        "\n",
        "for w in word_tokens:\n",
        "  if w not in stop_words:\n",
        "    result.append(w)\n",
        "print(word_tokens)\n",
        "print(result)"
      ],
      "metadata": {
        "colab": {
          "base_uri": "https://localhost:8080/"
        },
        "id": "1guuquBSSpt5",
        "outputId": "f3880442-1010-45b0-ea7c-dfec201b1daf"
      },
      "execution_count": null,
      "outputs": [
        {
          "output_type": "stream",
          "name": "stdout",
          "text": [
            "{'into', 'myself', 'o', \"don't\", 'himself', 'these', \"hadn't\", 'to', 'that', 'nor', \"wasn't\", \"aren't\", 'our', 'be', 'those', 'ourselves', 'again', 'most', 'no', 'needn', 'of', 'until', 'should', 'itself', 'this', 'so', \"doesn't\", 'after', 'when', 'while', 'i', 'from', 'very', 'such', 'herself', 'same', 'll', 'them', 'don', 'about', 'off', 'which', \"you'd\", 'other', 'shan', 'where', 'your', \"isn't\", 'been', 'own', 'but', 'or', 'as', 'the', \"should've\", 'having', 'her', 'was', 'ours', 'through', 'couldn', 'an', \"that'll\", \"you'll\", 'y', \"didn't\", 'why', 'my', 'you', 'during', 'did', 'under', 'd', \"weren't\", 'out', 'only', 'theirs', \"wouldn't\", 'once', 'him', 'm', 'isn', \"she's\", \"it's\", 'just', 'than', \"hasn't\", 'she', 'ain', 'in', 'there', 'am', 'hers', 'each', 'too', 'doesn', 'his', 'mustn', \"shouldn't\", 'by', \"couldn't\", \"haven't\", 'how', 'its', 'down', 'if', 'shouldn', 'mightn', 'aren', 'before', 't', 'both', 'haven', 'on', 'wasn', 'who', \"shan't\", 'yourselves', 'now', \"mightn't\", 'hadn', 'have', 'yourself', 'has', 'me', 'more', 'yours', 'few', 'some', 'weren', 'a', 'all', 'are', 'and', 'whom', 'is', 'doing', 'at', 'here', 'what', 'below', \"you've\", 're', 'ma', 'not', 'does', 'do', 'any', \"mustn't\", 'their', 'can', \"needn't\", 'against', \"won't\", 'because', 'then', 'above', 'with', 'being', 'wouldn', 'for', 'they', 've', 'hasn', 'were', 'will', 'won', 'we', 'further', 'over', \"you're\", 'he', 'between', 'didn', 's', 'themselves', 'had', 'up', 'it'}\n",
            "['We', 'should', 'all', 'study', 'hard', 'for', 'the', 'exam']\n",
            "['We', 'study', 'hard', 'exam']\n"
          ]
        },
        {
          "output_type": "stream",
          "name": "stderr",
          "text": [
            "[nltk_data] Downloading package stopwords to /root/nltk_data...\n",
            "[nltk_data]   Package stopwords is already up-to-date!\n",
            "[nltk_data] Downloading package punkt to /root/nltk_data...\n",
            "[nltk_data]   Package punkt is already up-to-date!\n"
          ]
        }
      ]
    },
    {
      "cell_type": "code",
      "source": [
        "!apt-get update\n",
        "!apt-get install g++ openjdk-8-jdk \n",
        "!pip install konlpy JPype1-py3\n",
        "!bash <(curl -s https://raw.githubusercontent.com/konlpy/konlpy/master/scripts/mecab.sh)\n"
      ],
      "metadata": {
        "id": "241RilJhSpmw"
      },
      "execution_count": null,
      "outputs": []
    },
    {
      "cell_type": "code",
      "source": [
        "%%bash\n",
        "apt-get update\n",
        "apt-get install g++ openjdk-8-jdk python-dev python3-dev\n",
        "pip3 install JPype1\n",
        "pip3 install konlpy"
      ],
      "metadata": {
        "id": "qPrClVAnAlux"
      },
      "execution_count": null,
      "outputs": []
    },
    {
      "cell_type": "code",
      "source": [
        "%%bash\n",
        "bash <(curl -s https://raw.githubusercontent.com/konlpy/konlpy/master/scripts/mecab.sh)\n",
        "pip3 install /tmp/mecab-python-0.996\n"
      ],
      "metadata": {
        "id": "SAp0C82hAlsG"
      },
      "execution_count": null,
      "outputs": []
    },
    {
      "cell_type": "code",
      "source": [
        "import konlpy\n",
        "from konlpy.tag import Mecab\n",
        "mecab = Mecab()\n",
        "sentence = \"드디어 oknlpy가 다운되었다.!!!!\"\n",
        "temp = mecab.morphs(sentence)\n",
        "temp"
      ],
      "metadata": {
        "colab": {
          "base_uri": "https://localhost:8080/"
        },
        "id": "S0dEYRUJAlpQ",
        "outputId": "d78fe394-dd1a-4bc3-8bc5-f5ca36f84f2d"
      },
      "execution_count": null,
      "outputs": [
        {
          "output_type": "execute_result",
          "data": {
            "text/plain": [
              "['드디어', 'oknlpy', '가', '다운', '되', '었', '다', '.', '!!!!']"
            ]
          },
          "metadata": {},
          "execution_count": 7
        }
      ]
    },
    {
      "cell_type": "code",
      "source": [
        "pip install pororo"
      ],
      "metadata": {
        "colab": {
          "base_uri": "https://localhost:8080/"
        },
        "id": "15TP0VEOPi31",
        "outputId": "0170942a-d59c-4d45-c2f2-31167a3570a8"
      },
      "execution_count": null,
    {
      "cell_type": "code",
      "source": [],
      "metadata": {
        "id": "4V8cxIvZxFPV"
      },
      "execution_count": null,
      "outputs": []
    },
    {
      "cell_type": "code",
      "source": [],
      "metadata": {
        "id": "0mwP_IoMxFMN"
      },
      "execution_count": null,
      "outputs": []
    },
    {
      "cell_type": "code",
      "source": [],
      "metadata": {
        "id": "Ge2MDtdSxFJh"
      },
      "execution_count": null,
      "outputs": []
    },
    {
      "cell_type": "code",
      "source": [],
      "metadata": {
        "id": "hniqZp6GPizI"
      },
      "execution_count": null,
      "outputs": []
    },
    {
      "cell_type": "code",
      "source": [],
      "metadata": {
        "id": "vrhJQN7iPixJ"
      },
      "execution_count": null,
      "outputs": []
    },
    {
      "cell_type": "code",
      "source": [],
      "metadata": {
        "id": "rZHgcNUiSpko"
      },
      "execution_count": null,
      "outputs": []
    }
  ]
}
