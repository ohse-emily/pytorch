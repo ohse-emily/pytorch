{
  "nbformat": 4,
  "nbformat_minor": 0,
  "metadata": {
    "colab": {
      "provenance": [],
      "mount_file_id": "1JwSRSpFpBLzGWJmy0UOx3vvam_M5ttC_",
      "authorship_tag": "ABX9TyOTjwSleLrF50O8g5LAb+9j",
      "include_colab_link": true
    },
    "kernelspec": {
      "name": "python3",
      "display_name": "Python 3"
    },
    "language_info": {
      "name": "python"
    }
  },
  "cells": [
    {
      "cell_type": "markdown",
      "metadata": {
        "id": "view-in-github",
        "colab_type": "text"
      },
      "source": [
        "<a href=\"https://colab.research.google.com/github/ohse-emily/pytorch/blob/master/%08mecab%EC%84%A4%EC%B9%98_%EB%B0%8F_%EC%82%AC%EC%9A%A9%EC%9E%90%EC%82%AC%EC%A0%84_%EC%B6%94%EA%B0%80_%EC%8B%A4%ED%8C%A8.ipynb\" target=\"_parent\"><img src=\"https://colab.research.google.com/assets/colab-badge.svg\" alt=\"Open In Colab\"/></a>"
      ]
    },
    {
      "cell_type": "code",
      "execution_count": 109,
      "metadata": {
        "colab": {
          "base_uri": "https://localhost:8080/"
        },
        "id": "hRuNMpxkBL2E",
        "outputId": "d08d3a4c-2f4a-4b4f-a2a4-8dab1fcc7b76"
      },
      "outputs": [
        {
          "output_type": "stream",
          "name": "stdout",
          "text": [
            "['Model-based', 'RL', 'do', \"n't\", 'need', 'a', 'value', 'function', 'for', 'the', 'policy', '.']\n"
          ]
        }
      ],
      "source": [
        "# 표준 토큰화 : Treeback tokenizer\n",
        "from nltk.tokenize import TreebankWordTokenizer\n",
        "tokenizer = TreebankWordTokenizer()\n",
        "text = \"Model-based RL don't need a value function for the policy.\"\n",
        "print(tokenizer.tokenize(text))"
      ]
    },
    {
      "cell_type": "code",
      "source": [
        "# 불용어 Stopword : 문장에서 중요도가 낮은 대세가 아닌 단어 제거\n",
        "import nltk\n",
        "nltk.download('stopwords')\n",
        "from nltk.corpus import stopwords\n",
        "print(stopwords.words('english')[:10])"
      ],
      "metadata": {
        "colab": {
          "base_uri": "https://localhost:8080/"
        },
        "id": "HIcY-PKZBe70",
        "outputId": "b00979fe-649f-4f65-a073-efa46b09a911"
      },
      "execution_count": 110,
      "outputs": [
        {
          "output_type": "stream",
          "name": "stdout",
          "text": [
            "['i', 'me', 'my', 'myself', 'we', 'our', 'ours', 'ourselves', 'you', \"you're\"]\n"
          ]
        },
        {
          "output_type": "stream",
          "name": "stderr",
          "text": [
            "[nltk_data] Downloading package stopwords to /root/nltk_data...\n",
            "[nltk_data]   Package stopwords is already up-to-date!\n"
          ]
        }
      ]
    },
    {
      "cell_type": "code",
      "source": [
        "import nltk\n",
        "nltk.download('stopwords')\n",
        "nltk.download('punkt')\n",
        "from nltk.corpus import stopwords\n",
        "from nltk.tokenize import word_tokenize\n",
        "\n",
        "input_sentence = \"We should all study hard for the exam\"\n",
        "stop_words = set(stopwords.words('english'))\n",
        "word_tokens = word_tokenize(input_sentence)\n",
        "result = []\n",
        "\n",
        "for w in word_tokens:\n",
        "  if w not in stop_words:\n",
        "    result.append(w)\n",
        "print(word_tokens)\n",
        "print(result)"
      ],
      "metadata": {
        "colab": {
          "base_uri": "https://localhost:8080/"
        },
        "id": "1guuquBSSpt5",
        "outputId": "55356c39-7e04-4061-e78b-cd0f525323c5"
      },
      "execution_count": 111,
      "outputs": [
        {
          "output_type": "stream",
          "name": "stdout",
          "text": [
            "['We', 'should', 'all', 'study', 'hard', 'for', 'the', 'exam']\n",
            "['We', 'study', 'hard', 'exam']\n"
          ]
        },
        {
          "output_type": "stream",
          "name": "stderr",
          "text": [
            "[nltk_data] Downloading package stopwords to /root/nltk_data...\n",
            "[nltk_data]   Package stopwords is already up-to-date!\n",
            "[nltk_data] Downloading package punkt to /root/nltk_data...\n",
            "[nltk_data]   Package punkt is already up-to-date!\n"
          ]
        }
      ]
    },
    {
      "cell_type": "code",
      "source": [
        "# 요것들 하나만 돌려도 mecab, konlpy 사용가능\n",
        "!apt-get update\n",
        "!apt-get install g++ openjdk-8-jdk \n",
        "!pip install konlpy JPype1-py3\n",
        "!bash <(curl -s https://raw.githubusercontent.com/konlpy/konlpy/master/scripts/mecab.sh)\n"
      ],
      "metadata": {
        "id": "241RilJhSpmw",
        "colab": {
          "base_uri": "https://localhost:8080/"
        },
        "outputId": "48ba11ba-1604-4bf2-c73a-66f77fed7286"
      },
      "execution_count": 112,
      "outputs": [
        {
          "output_type": "stream",
          "name": "stdout",
          "text": [
            "Hit:1 http://ppa.launchpad.net/c2d4u.team/c2d4u4.0+/ubuntu bionic InRelease\n",
            "Hit:2 http://ppa.launchpad.net/cran/libgit2/ubuntu bionic InRelease\n",
            "Hit:3 http://ppa.launchpad.net/deadsnakes/ppa/ubuntu bionic InRelease\n",
            "Hit:4 http://ppa.launchpad.net/graphics-drivers/ppa/ubuntu bionic InRelease\n",
            "Hit:5 https://cloud.r-project.org/bin/linux/ubuntu bionic-cran40/ InRelease\n",
            "Get:6 http://security.ubuntu.com/ubuntu bionic-security InRelease [88.7 kB]\n",
            "Hit:7 http://archive.ubuntu.com/ubuntu bionic InRelease\n",
            "Get:8 http://archive.ubuntu.com/ubuntu bionic-updates InRelease [88.7 kB]\n",
            "Ign:9 https://developer.download.nvidia.com/compute/machine-learning/repos/ubuntu1804/x86_64  InRelease\n",
            "Hit:10 https://developer.download.nvidia.com/compute/cuda/repos/ubuntu1804/x86_64  InRelease\n",
            "Hit:11 https://developer.download.nvidia.com/compute/machine-learning/repos/ubuntu1804/x86_64  Release\n",
            "Get:12 http://archive.ubuntu.com/ubuntu bionic-backports InRelease [83.3 kB]\n",
            "Fetched 261 kB in 2s (162 kB/s)\n",
            "Reading package lists... Done\n",
            "Reading package lists... Done\n",
            "Building dependency tree       \n",
            "Reading state information... Done\n",
            "g++ is already the newest version (4:7.4.0-1ubuntu2.3).\n",
            "openjdk-8-jdk is already the newest version (8u342-b07-0ubuntu1~18.04).\n",
            "The following package was automatically installed and is no longer required:\n",
            "  libnvidia-common-460\n",
            "Use 'apt autoremove' to remove it.\n",
            "0 upgraded, 0 newly installed, 0 to remove and 22 not upgraded.\n",
            "Looking in indexes: https://pypi.org/simple, https://us-python.pkg.dev/colab-wheels/public/simple/\n",
            "Requirement already satisfied: konlpy in /usr/local/lib/python3.7/dist-packages (0.6.0)\n",
            "Requirement already satisfied: JPype1-py3 in /usr/local/lib/python3.7/dist-packages (0.5.5.4)\n",
            "Requirement already satisfied: numpy>=1.6 in /usr/local/lib/python3.7/dist-packages (from konlpy) (1.21.6)\n",
            "Requirement already satisfied: lxml>=4.1.0 in /usr/local/lib/python3.7/dist-packages (from konlpy) (4.9.1)\n",
            "Requirement already satisfied: JPype1>=0.7.0 in /usr/local/lib/python3.7/dist-packages (from konlpy) (1.4.0)\n",
            "Requirement already satisfied: typing-extensions in /usr/local/lib/python3.7/dist-packages (from JPype1>=0.7.0->konlpy) (4.1.1)\n",
            "mecab-ko is already installed\n",
            "mecab-ko-dic is already installed\n",
            "mecab-python is already installed\n",
            "Done.\n"
          ]
        }
      ]
    },
    {
      "cell_type": "code",
      "source": [
        "%%bash\n",
        "apt-get update\n",
        "apt-get install g++ openjdk-8-jdk python-dev python3-dev\n",
        "pip3 install JPype1\n",
        "pip3 install konlpy"
      ],
      "metadata": {
        "id": "qPrClVAnAlux",
        "colab": {
          "base_uri": "https://localhost:8080/"
        },
        "outputId": "d51c8fd3-2599-4a18-8de5-8eea6f260ba1"
      },
      "execution_count": 113,
      "outputs": [
        {
          "output_type": "stream",
          "name": "stdout",
          "text": [
            "Hit:1 http://ppa.launchpad.net/c2d4u.team/c2d4u4.0+/ubuntu bionic InRelease\n",
            "Hit:2 https://cloud.r-project.org/bin/linux/ubuntu bionic-cran40/ InRelease\n",
            "Hit:3 http://ppa.launchpad.net/cran/libgit2/ubuntu bionic InRelease\n",
            "Hit:4 http://ppa.launchpad.net/deadsnakes/ppa/ubuntu bionic InRelease\n",
            "Hit:5 http://ppa.launchpad.net/graphics-drivers/ppa/ubuntu bionic InRelease\n",
            "Hit:6 http://security.ubuntu.com/ubuntu bionic-security InRelease\n",
            "Hit:7 http://archive.ubuntu.com/ubuntu bionic InRelease\n",
            "Hit:8 http://archive.ubuntu.com/ubuntu bionic-updates InRelease\n",
            "Ign:9 https://developer.download.nvidia.com/compute/machine-learning/repos/ubuntu1804/x86_64  InRelease\n",
            "Hit:10 https://developer.download.nvidia.com/compute/cuda/repos/ubuntu1804/x86_64  InRelease\n",
            "Hit:11 http://archive.ubuntu.com/ubuntu bionic-backports InRelease\n",
            "Hit:12 https://developer.download.nvidia.com/compute/machine-learning/repos/ubuntu1804/x86_64  Release\n",
            "Reading package lists...\n",
            "Reading package lists...\n",
            "Building dependency tree...\n",
            "Reading state information...\n",
            "python-dev is already the newest version (2.7.15~rc1-1).\n",
            "g++ is already the newest version (4:7.4.0-1ubuntu2.3).\n",
            "python3-dev is already the newest version (3.6.7-1~18.04).\n",
            "python3-dev set to manually installed.\n",
            "openjdk-8-jdk is already the newest version (8u342-b07-0ubuntu1~18.04).\n",
            "The following package was automatically installed and is no longer required:\n",
            "  libnvidia-common-460\n",
            "Use 'apt autoremove' to remove it.\n",
            "0 upgraded, 0 newly installed, 0 to remove and 22 not upgraded.\n",
            "Looking in indexes: https://pypi.org/simple, https://us-python.pkg.dev/colab-wheels/public/simple/\n",
            "Requirement already satisfied: JPype1 in /usr/local/lib/python3.7/dist-packages (1.4.0)\n",
            "Requirement already satisfied: typing-extensions in /usr/local/lib/python3.7/dist-packages (from JPype1) (4.1.1)\n",
            "Looking in indexes: https://pypi.org/simple, https://us-python.pkg.dev/colab-wheels/public/simple/\n",
            "Requirement already satisfied: konlpy in /usr/local/lib/python3.7/dist-packages (0.6.0)\n",
            "Requirement already satisfied: numpy>=1.6 in /usr/local/lib/python3.7/dist-packages (from konlpy) (1.21.6)\n",
            "Requirement already satisfied: JPype1>=0.7.0 in /usr/local/lib/python3.7/dist-packages (from konlpy) (1.4.0)\n",
            "Requirement already satisfied: lxml>=4.1.0 in /usr/local/lib/python3.7/dist-packages (from konlpy) (4.9.1)\n",
            "Requirement already satisfied: typing-extensions in /usr/local/lib/python3.7/dist-packages (from JPype1>=0.7.0->konlpy) (4.1.1)\n"
          ]
        }
      ]
    },
    {
      "cell_type": "code",
      "source": [
        "%%bash\n",
        "bash <(curl -s https://raw.githubusercontent.com/konlpy/konlpy/master/scripts/mecab.sh)\n",
        "pip3 install /tmp/mecab-python-0.996\n"
      ],
      "metadata": {
        "id": "SAp0C82hAlsG",
        "colab": {
          "base_uri": "https://localhost:8080/"
        },
        "outputId": "21933755-4e3d-4346-992d-bfbdf809a41b"
      },
      "execution_count": 114,
      "outputs": [
        {
          "output_type": "stream",
          "name": "stdout",
          "text": [
            "mecab-ko is already installed\n",
            "mecab-ko-dic is already installed\n",
            "mecab-python is already installed\n",
            "Done.\n",
            "Looking in indexes: https://pypi.org/simple, https://us-python.pkg.dev/colab-wheels/public/simple/\n",
            "Processing /tmp/mecab-python-0.996\n",
            "Building wheels for collected packages: mecab-python\n",
            "  Building wheel for mecab-python (setup.py): started\n",
            "  Building wheel for mecab-python (setup.py): finished with status 'done'\n",
            "  Created wheel for mecab-python: filename=mecab_python-0.996_ko_0.9.2-cp37-cp37m-linux_x86_64.whl size=141810 sha256=78cea8adaf8b5c790eec3304446cfd496b157693bacc11edec670e8ec9cc62af\n",
            "  Stored in directory: /root/.cache/pip/wheels/40/7b/9f/2922869bef86c3354ae7034f7a3647c573ee1997c2dad0290a\n",
            "Failed to build mecab-python\n",
            "Installing collected packages: mecab-python\n",
            "  Attempting uninstall: mecab-python\n",
            "    Found existing installation: mecab-python 0.996-ko-0.9.2\n",
            "    Uninstalling mecab-python-0.996-ko-0.9.2:\n",
            "      Successfully uninstalled mecab-python-0.996-ko-0.9.2\n",
            "    Running setup.py install for mecab-python: started\n",
            "    Running setup.py install for mecab-python: finished with status 'done'\n",
            "Successfully installed mecab-python-0.996-ko-0.9.2\n"
          ]
        },
        {
          "output_type": "stream",
          "name": "stderr",
          "text": [
            "  DEPRECATION: A future pip version will change local packages to be built in-place without first copying to a temporary directory. We recommend you use --use-feature=in-tree-build to test your packages with this new behavior before it becomes the default.\n",
            "   pip 21.3 will remove support for this functionality. You can find discussion regarding this at https://github.com/pypa/pip/issues/7555.\n",
            "  WARNING: Built wheel for mecab-python is invalid: Metadata 1.2 mandates PEP 440 version, but '0.996-ko-0.9.2' is not\n",
            "  DEPRECATION: mecab-python was installed using the legacy 'setup.py install' method, because a wheel could not be built for it. A possible replacement is to fix the wheel build issue reported above. You can find discussion regarding this at https://github.com/pypa/pip/issues/8368.\n"
          ]
        }
      ]
    },
    {
      "cell_type": "markdown",
      "source": [
        "# 형태소 토큰화 with mecab "
      ],
      "metadata": {
        "id": "UOqpkRvQ5axD"
      }
    },
    {
      "cell_type": "code",
      "source": [
        "import konlpy\n",
        "from konlpy.tag import Mecab\n",
        "tokenizer = Mecab()\n",
        "test_text = \"파이토치어려워요,,\"\n",
        "print(tokenizer.morphs(test_text)) # 형태소 단위\n",
        "print(tokenizer.nouns(test_text)) # 명사 단위\n",
        "print(tokenizer.pos(test_text)) # 품사 태깅\n",
        "\n",
        "word_list = ['첫 번재 문장 요소이다.', '두 번째의 문장 요소를 추가한다.']\n",
        "\n",
        "for word in word_list:\n",
        "  print(tokenizer.pos(word))"
      ],
      "metadata": {
        "colab": {
          "base_uri": "https://localhost:8080/"
        },
        "id": "1fXA7o0R8Bma",
        "outputId": "77807f32-0bbd-4556-df8e-55dc6633e988"
      },
      "execution_count": 159,
      "outputs": [
        {
          "output_type": "stream",
          "name": "stdout",
          "text": [
            "['파이', '토치', '어려워요', ',', ',']\n",
            "['파이', '토치']\n",
            "[('파이', 'NNG'), ('토치', 'NNG'), ('어려워요', 'VA+EC'), (',', 'SC'), (',', 'SC')]\n",
            "[('첫', 'MM'), ('번', 'NNBC'), ('재', 'XPN'), ('문장', 'NNG'), ('요소', 'NNG'), ('이', 'VCP'), ('다', 'EF'), ('.', 'SF')]\n",
            "[('두', 'MM'), ('번', 'NNBC'), ('째', 'XSN'), ('의', 'JKG'), ('문장', 'NNG'), ('요소', 'NNG'), ('를', 'JKO'), ('추가', 'NNG'), ('한다', 'XSV+EF'), ('.', 'SF')]\n"
          ]
        }
      ]
    },
    {
      "cell_type": "markdown",
      "source": [
        "# Mecab 폴더 구조\n",
        "## 1. mecab-ko-dic : mecab의 단어 사전\n",
        "## 2. tools : 단어 사전에 단어를 추가시킨 후 컴파일 및 적용을 시켜주는 프로그램들 존재\n",
        "## 3. user-dic : 사용자가 추가적으로 추가한 단어에 대한 단어 사전 "
      ],
      "metadata": {
        "id": "j-mFPJmYDam5"
      }
    },
    {
      "cell_type": "code",
      "source": [
        "# 종성여부 판단위한 라이브러리 설치 및 판단 함수 생성 \n",
        "!pip install jamo\n"
      ],
      "metadata": {
        "id": "0mwP_IoMxFMN",
        "colab": {
          "base_uri": "https://localhost:8080/"
        },
        "outputId": "5112dd7f-3dde-40b3-c0fd-701aa2386c54"
      },
      "execution_count": 116,
      "outputs": [
        {
          "output_type": "stream",
          "name": "stdout",
          "text": [
            "Looking in indexes: https://pypi.org/simple, https://us-python.pkg.dev/colab-wheels/public/simple/\n",
            "Requirement already satisfied: jamo in /usr/local/lib/python3.7/dist-packages (0.4.1)\n"
          ]
        }
      ]
    },
    {
      "cell_type": "code",
      "source": [
        "from jamo import h2j, j2hcj\n",
        "\n",
        "def get_jongsung_TF(sample_text):\n",
        "  sample_text_list = list(sample_text)\n",
        "  last_word = sample_text_list[-1]\n",
        "  last_word_jamo_list = list(j2hcj(h2j(last_word)))\n",
        "  last_jamo = last_word_jamo_list[-1]\n",
        "\n",
        "  jongsung_TF = \"T\"\n",
        "\n",
        "  if last_jamo in ['ㅏ', 'ㅑ', 'ㅓ', 'ㅕ', 'ㅗ', 'ㅛ', 'ㅜ', 'ㅠ', 'ㅡ', 'ㅣ', 'ㅘ', 'ㅚ', 'ㅙ', 'ㅝ', 'ㅞ', 'ㅢ', 'ㅐ,ㅔ', 'ㅟ', 'ㅖ', 'ㅒ']:\n",
        "    jongsung_TF = \"F\"\n",
        "\n",
        "  return jongsung_TF\n",
        "\n"
      ],
      "metadata": {
        "id": "FBZaQtKd57g2"
      },
      "execution_count": 117,
      "outputs": []
    },
    {
      "cell_type": "markdown",
      "source": [
        "# mecab-ko 압축풀기 from googleDrive\n"
      ],
      "metadata": {
        "id": "Bhv-0Y4q6SAl"
      }
    },
    {
      "cell_type": "code",
      "source": [
        "cd drive/MyDrive/pytorch\n"
      ],
      "metadata": {
        "colab": {
          "base_uri": "https://localhost:8080/"
        },
        "id": "E22mtBkL6R1d",
        "outputId": "d9726a9c-7f73-4c39-84e0-e6d378ae7486"
      },
      "execution_count": 118,
      "outputs": [
        {
          "output_type": "stream",
          "name": "stdout",
          "text": [
            "[Errno 2] No such file or directory: 'drive/MyDrive/pytorch'\n",
            "/content/drive/MyDrive/pytorch/mecab-ko-dic-2.1.1-20180720/tools\n"
          ]
        }
      ]
    },
    {
      "cell_type": "code",
      "source": [
        "ls"
      ],
      "metadata": {
        "colab": {
          "base_uri": "https://localhost:8080/"
        },
        "id": "c0a6LdXE57ex",
        "outputId": "2da85e2c-2063-4369-d7cd-09e5c9557114"
      },
      "execution_count": 119,
      "outputs": [
        {
          "output_type": "stream",
          "name": "stdout",
          "text": [
            "\u001b[0m\u001b[01;32madd-userdic.sh\u001b[0m*  convert_for_using_store.sh  mecab-bestn.sh\n"
          ]
        }
      ]
    },
    {
      "cell_type": "code",
      "source": [
        "!tar zxfv mecab-0.996-ko-0.9.2"
      ],
      "metadata": {
        "id": "Ge2MDtdSxFJh",
        "colab": {
          "base_uri": "https://localhost:8080/"
        },
        "outputId": "e2266cda-a13d-4284-b1ab-281fbf684340"
      },
      "execution_count": 120,
      "outputs": [
        {
          "output_type": "stream",
          "name": "stdout",
          "text": [
            "tar (child): mecab-0.996-ko-0.9.2: Cannot open: No such file or directory\n",
            "tar (child): Error is not recoverable: exiting now\n",
            "tar: Child returned status 2\n",
            "tar: Error is not recoverable: exiting now\n"
          ]
        }
      ]
    },
    {
      "cell_type": "code",
      "source": [
        "cd mecab-0.996-ko-0.9.2"
      ],
      "metadata": {
        "id": "hniqZp6GPizI",
        "colab": {
          "base_uri": "https://localhost:8080/"
        },
        "outputId": "d18de804-6d56-461b-db20-7a515c0b9132"
      },
      "execution_count": 121,
      "outputs": [
        {
          "output_type": "stream",
          "name": "stdout",
          "text": [
            "[Errno 2] No such file or directory: 'mecab-0.996-ko-0.9.2'\n",
            "/content/drive/MyDrive/pytorch/mecab-ko-dic-2.1.1-20180720/tools\n"
          ]
        }
      ]
    },
    {
      "cell_type": "code",
      "source": [
        "ls"
      ],
      "metadata": {
        "id": "vrhJQN7iPixJ",
        "colab": {
          "base_uri": "https://localhost:8080/"
        },
        "outputId": "b9bfbac2-2634-4a7f-de8e-2ac45fd3533c"
      },
      "execution_count": 122,
      "outputs": [
        {
          "output_type": "stream",
          "name": "stdout",
          "text": [
            "\u001b[0m\u001b[01;32madd-userdic.sh\u001b[0m*  convert_for_using_store.sh  mecab-bestn.sh\n"
          ]
        }
      ]
    },
    {
      "cell_type": "code",
      "source": [
        "cd configure"
      ],
      "metadata": {
        "id": "rZHgcNUiSpko",
        "colab": {
          "base_uri": "https://localhost:8080/"
        },
        "outputId": "490c5f9e-45d8-45c0-b1c5-1c0c87f582d1"
      },
      "execution_count": 123,
      "outputs": [
        {
          "output_type": "stream",
          "name": "stdout",
          "text": [
            "[Errno 2] No such file or directory: 'configure'\n",
            "/content/drive/MyDrive/pytorch/mecab-ko-dic-2.1.1-20180720/tools\n"
          ]
        }
      ]
    },
    {
      "cell_type": "code",
      "source": [
        "ls"
      ],
      "metadata": {
        "colab": {
          "base_uri": "https://localhost:8080/"
        },
        "id": "S0e_dTVm8ImG",
        "outputId": "6ce05fae-9c43-420f-fa2b-87dc5244629a"
      },
      "execution_count": 124,
      "outputs": [
        {
          "output_type": "stream",
          "name": "stdout",
          "text": [
            "\u001b[0m\u001b[01;32madd-userdic.sh\u001b[0m*  convert_for_using_store.sh  mecab-bestn.sh\n"
          ]
        }
      ]
    },
    {
      "cell_type": "code",
      "source": [
        "# 컴파일 \n",
        "!./configure"
      ],
      "metadata": {
        "colab": {
          "base_uri": "https://localhost:8080/"
        },
        "id": "3nlAjo0v8Ijk",
        "outputId": "39a9264d-3b86-47c0-f3d4-387657658547"
      },
      "execution_count": 125,
      "outputs": [
        {
          "output_type": "stream",
          "name": "stdout",
          "text": [
            "/bin/bash: ./configure: No such file or directory\n"
          ]
        }
      ]
    },
    {
      "cell_type": "code",
      "source": [
        "!make"
      ],
      "metadata": {
        "colab": {
          "base_uri": "https://localhost:8080/"
        },
        "id": "BvoHdvP-8Ig1",
        "outputId": "5e4d0ce0-f1ae-4541-efa0-ad6b97b5f385"
      },
      "execution_count": 126,
      "outputs": [
        {
          "output_type": "stream",
          "name": "stdout",
          "text": [
            "make: *** No targets specified and no makefile found.  Stop.\n"
          ]
        }
      ]
    },
    {
      "cell_type": "code",
      "source": [
        "!make check\n",
        "!sudo make install"
      ],
      "metadata": {
        "colab": {
          "base_uri": "https://localhost:8080/"
        },
        "id": "5xof_P7Y8IeG",
        "outputId": "cd2e3f2a-611b-44ed-de9c-a1347d1cc85e"
      },
      "execution_count": 127,
      "outputs": [
        {
          "output_type": "stream",
          "name": "stdout",
          "text": [
            "make: *** No rule to make target 'check'.  Stop.\n",
            "make: *** No rule to make target 'install'.  Stop.\n"
          ]
        }
      ]
    },
    {
      "cell_type": "markdown",
      "source": [
        "# mecab-ko-dic 압축 풀기\n"
      ],
      "metadata": {
        "id": "C3QxjTJP9ep8"
      }
    },
    {
      "cell_type": "code",
      "source": [
        "cd /contentdrive/MyDrive/pytorch/mecab-ko-dic-2.1.1-20180720"
      ],
      "metadata": {
        "colab": {
          "base_uri": "https://localhost:8080/"
        },
        "id": "YgccnpiP9dxy",
        "outputId": "b016b434-b257-44eb-f0ba-60f0d675911b"
      },
      "execution_count": 51,
      "outputs": [
        {
          "output_type": "stream",
          "name": "stdout",
          "text": [
            "[Errno 2] No such file or directory: '/contentdrive/MyDrive/pytorch/mecab-ko-dic-2.1.1-20180720'\n",
            "/content/drive/MyDrive/pytorch/mecab-ko-dic-2.1.1-20180720\n"
          ]
        }
      ]
    },
    {
      "cell_type": "code",
      "source": [
        "ls"
      ],
      "metadata": {
        "colab": {
          "base_uri": "https://localhost:8080/"
        },
        "id": "VOwlbbKY9dvc",
        "outputId": "ca70e46c-3a5b-470f-dd59-66815c039f6a"
      },
      "execution_count": 130,
      "outputs": [
        {
          "output_type": "stream",
          "name": "stdout",
          "text": [
            "AUTHORS         ETN.csv      Makefile.in       Person.csv         VCN.csv\n",
            "autogen.sh      feature.def  matrix.def        Place-address.csv  VCP.csv\n",
            "ChangeLog       Foreign.csv  missing           Place.csv          VV.csv\n",
            "char.def        Group.csv    MM.csv            Place-station.csv  VX.csv\n",
            "clean           Hanja.csv    model.def         pos-id.def         Wikipedia.csv\n",
            "CoinedWord.csv  IC.csv       NEWS              Preanalysis.csv    XPN.csv\n",
            "configure       Inflect.csv  NNBC.csv          README             XR.csv\n",
            "configure.ac    INSTALL      NNB.csv           rewrite.def        XSA.csv\n",
            "COPYING         install-sh   NNG.csv           right-id.def       XSN.csv\n",
            "dicrc           J.csv        NNP.csv           Symbol.csv         XSV.csv\n",
            "EC.csv          left-id.def  NorthKorea.csv    \u001b[0m\u001b[01;34mtools\u001b[0m/\n",
            "EF.csv          MAG.csv      NP.csv            unk.def\n",
            "EP.csv          MAJ.csv      NR.csv            \u001b[01;34muser-dic\u001b[0m/\n",
            "ETM.csv         Makefile.am  Person-actor.csv  VA.csv\n"
          ]
        }
      ]
    },
    {
      "cell_type": "code",
      "source": [
        "!./configure"
      ],
      "metadata": {
        "colab": {
          "base_uri": "https://localhost:8080/"
        },
        "id": "tGDyB1fx9dtH",
        "outputId": "8db1a7f9-ce13-411e-aa03-30f025303099"
      },
      "execution_count": 52,
      "outputs": [
        {
          "output_type": "stream",
          "name": "stdout",
          "text": [
            "/bin/bash: ./configure: /bin/sh: bad interpreter: Permission denied\n"
          ]
        }
      ]
    },
    {
      "cell_type": "code",
      "source": [
        "!make\n",
        "!sudo make install\n"
      ],
      "metadata": {
        "colab": {
          "base_uri": "https://localhost:8080/"
        },
        "id": "Mk9dBqSi9drY",
        "outputId": "4bf04c0a-b3bb-4aba-eb03-20be9d49a39d"
      },
      "execution_count": 132,
      "outputs": [
        {
          "output_type": "stream",
          "name": "stdout",
          "text": [
            "make: *** No targets specified and no makefile found.  Stop.\n",
            "make: *** No rule to make target 'install'.  Stop.\n"
          ]
        }
      ]
    },
    {
      "cell_type": "code",
      "source": [
        "\n",
        "pwd"
      ],
      "metadata": {
        "colab": {
          "base_uri": "https://localhost:8080/",
          "height": 36
        },
        "id": "ofK56EIZ9dpC",
        "outputId": "ab21b9b0-fd10-47b7-9599-346e49cb12c7"
      },
      "execution_count": 133,
      "outputs": [
        {
          "output_type": "execute_result",
          "data": {
            "text/plain": [
              "'/content/drive/MyDrive/pytorch/mecab-ko-dic-2.1.1-20180720'"
            ],
            "application/vnd.google.colaboratory.intrinsic+json": {
              "type": "string"
            }
          },
          "metadata": {},
          "execution_count": 133
        }
      ]
    },
    {
      "cell_type": "code",
      "source": [
        "!mecab -d ."
      ],
      "metadata": {
        "colab": {
          "base_uri": "https://localhost:8080/"
        },
        "id": "mA89mli49dnV",
        "outputId": "37be1a12-644f-422a-b3c7-5e673601fb11"
      },
      "execution_count": 134,
      "outputs": [
        {
          "output_type": "stream",
          "name": "stdout",
          "text": [
            "viterbi.cpp(50) [tokenizer_->open(param)] tokenizer.cpp(103) [unkdic_.open(create_filename (prefix, UNK_DIC_FILE).c_str())] dictionary.cpp(79) [dmmap_->open(file, mode)] no such file or directory: ./unk.dic \n"
          ]
        }
      ]
    },
    {
      "cell_type": "code",
      "source": [
        "ls"
      ],
      "metadata": {
        "colab": {
          "base_uri": "https://localhost:8080/"
        },
        "id": "7SKqZ6ebCq1t",
        "outputId": "6bd0b751-fe0a-4f78-9185-c68d2bb0421b"
      },
      "execution_count": 136,
      "outputs": [
        {
          "output_type": "stream",
          "name": "stdout",
          "text": [
            "nnp.csv  person.csv  place.csv  README.md\n"
          ]
        }
      ]
    },
    {
      "cell_type": "code",
      "source": [
        "cat nnp.csv"
      ],
      "metadata": {
        "colab": {
          "base_uri": "https://localhost:8080/"
        },
        "id": "w_I5VkLtCqvM",
        "outputId": "9883b0af-57fe-48c4-a93b-c66318c1c964"
      },
      "execution_count": 10,
      "outputs": [
        {
          "output_type": "stream",
          "name": "stdout",
          "text": [
            "앗살라말라이쿰,,,,NNP,*,T, 앗살라말라이쿰,*,*,*,*\n",
            "파이토치어려워요,,,0,NNP,*F,파이토치어려워요,*,*,*,*"
          ]
        }
      ]
    },
    {
      "cell_type": "code",
      "source": [
        "cd /content/drive/MyDrive/pytorch/mecab-ko-dic-2.1.1-20180720"
      ],
      "metadata": {
        "colab": {
          "base_uri": "https://localhost:8080/"
        },
        "id": "WP4HvFulCqtI",
        "outputId": "64c84e51-9d9f-4c49-b23b-14afade2563f"
      },
      "execution_count": 164,
      "outputs": [
        {
          "output_type": "stream",
          "name": "stdout",
          "text": [
            "/content/drive/MyDrive/pytorch/mecab-ko-dic-2.1.1-20180720\n"
          ]
        }
      ]
    },
    {
      "cell_type": "code",
      "source": [
        "ls"
      ],
      "metadata": {
        "colab": {
          "base_uri": "https://localhost:8080/"
        },
        "id": "3XMfpeP1RqIM",
        "outputId": "49fc377e-b545-468e-9a16-74e26c46423b"
      },
      "execution_count": 139,
      "outputs": [
        {
          "output_type": "stream",
          "name": "stdout",
          "text": [
            "AUTHORS         ETN.csv      Makefile.in       Person.csv         VCN.csv\n",
            "autogen.sh      feature.def  matrix.def        Place-address.csv  VCP.csv\n",
            "ChangeLog       Foreign.csv  missing           Place.csv          VV.csv\n",
            "char.def        Group.csv    MM.csv            Place-station.csv  VX.csv\n",
            "clean           Hanja.csv    model.def         pos-id.def         Wikipedia.csv\n",
            "CoinedWord.csv  IC.csv       NEWS              Preanalysis.csv    XPN.csv\n",
            "configure       Inflect.csv  NNBC.csv          README             XR.csv\n",
            "configure.ac    INSTALL      NNB.csv           rewrite.def        XSA.csv\n",
            "COPYING         install-sh   NNG.csv           right-id.def       XSN.csv\n",
            "dicrc           J.csv        NNP.csv           Symbol.csv         XSV.csv\n",
            "EC.csv          left-id.def  NorthKorea.csv    \u001b[0m\u001b[01;34mtools\u001b[0m/\n",
            "EF.csv          MAG.csv      NP.csv            unk.def\n",
            "EP.csv          MAJ.csv      NR.csv            \u001b[01;34muser-dic\u001b[0m/\n",
            "ETM.csv         Makefile.am  Person-actor.csv  VA.csv\n"
          ]
        }
      ]
    },
    {
      "cell_type": "code",
      "source": [
        "cd tools"
      ],
      "metadata": {
        "colab": {
          "base_uri": "https://localhost:8080/"
        },
        "id": "pnqvRLoRMcuf",
        "outputId": "d49b92ab-3733-4889-a5df-10411c8eb66d"
      },
      "execution_count": 165,
      "outputs": [
        {
          "output_type": "stream",
          "name": "stdout",
          "text": [
            "/content/drive/MyDrive/pytorch/mecab-ko-dic-2.1.1-20180720/tools\n"
          ]
        }
      ]
    },
    {
      "cell_type": "code",
      "source": [
        "ls"
      ],
      "metadata": {
        "colab": {
          "base_uri": "https://localhost:8080/"
        },
        "id": "6Fn0liH7RsI1",
        "outputId": "739be30f-0bf2-4eaa-f382-af7e20937f0b"
      },
      "execution_count": 141,
      "outputs": [
        {
          "output_type": "stream",
          "name": "stdout",
          "text": [
            "\u001b[0m\u001b[01;32madd-userdic.sh\u001b[0m*  convert_for_using_store.sh  mecab-bestn.sh\n"
          ]
        }
      ]
    },
    {
      "cell_type": "code",
      "source": [
        "!./add-userdic.sh"
      ],
      "metadata": {
        "colab": {
          "base_uri": "https://localhost:8080/"
        },
        "id": "ft0zjveQCqq1",
        "outputId": "fa7537b2-4304-48ca-c06a-98b319e13f4b"
      },
      "execution_count": 166,
      "outputs": [
        {
          "output_type": "stream",
          "name": "stdout",
          "text": [
            "generating userdic...\n",
            "nnp.csv\n",
            "/content/drive/MyDrive/pytorch/mecab-ko-dic-2.1.1-20180720/tools/../model.def is not a binary model. reopen it as text mode...\n",
            "dictionary.cpp(171) [property.open(param)] \n",
            "person.csv\n",
            "/content/drive/MyDrive/pytorch/mecab-ko-dic-2.1.1-20180720/tools/../model.def is not a binary model. reopen it as text mode...\n",
            "dictionary.cpp(171) [property.open(param)] \n",
            "place.csv\n",
            "/content/drive/MyDrive/pytorch/mecab-ko-dic-2.1.1-20180720/tools/../model.def is not a binary model. reopen it as text mode...\n",
            "dictionary.cpp(171) [property.open(param)] \n",
            "make: Nothing to be done for 'clean'.\n",
            "make: *** No targets specified and no makefile found.  Stop.\n"
          ]
        }
      ]
    },
    {
      "cell_type": "code",
      "source": [
        "ll"
      ],
      "metadata": {
        "colab": {
          "base_uri": "https://localhost:8080/"
        },
        "id": "Ru998OBiR3lN",
        "outputId": "96525359-7ed3-42d3-d22f-35a5444a2de0"
      },
      "execution_count": 15,
      "outputs": [
        {
          "output_type": "stream",
          "name": "stdout",
          "text": [
            "total 3\n",
            "-rw------- 1 root 1009 Jul 20  2018 add-userdic.sh\n",
            "-rw------- 1 root  728 Jul 20  2018 convert_for_using_store.sh\n",
            "-rw------- 1 root  552 Jul 20  2018 mecab-bestn.sh\n"
          ]
        }
      ]
    },
    {
      "cell_type": "code",
      "source": [
        "!chmod 755 add-userdic.sh"
      ],
      "metadata": {
        "id": "QvVmoQ3HR92h"
      },
      "execution_count": 16,
      "outputs": []
    },
    {
      "cell_type": "code",
      "source": [
        "ll"
      ],
      "metadata": {
        "colab": {
          "base_uri": "https://localhost:8080/"
        },
        "id": "i3vVgC4sSe6P",
        "outputId": "b128d74b-fddb-4117-9ccf-17657c826b02"
      },
      "execution_count": 17,
      "outputs": [
        {
          "output_type": "stream",
          "name": "stdout",
          "text": [
            "total 3\n",
            "-rwx------ 1 root 1009 Jul 20  2018 \u001b[0m\u001b[01;32madd-userdic.sh\u001b[0m*\n",
            "-rw------- 1 root  728 Jul 20  2018 convert_for_using_store.sh\n",
            "-rw------- 1 root  552 Jul 20  2018 mecab-bestn.sh\n"
          ]
        }
      ]
    },
    {
      "cell_type": "code",
      "source": [
        "!./add-userdic.sh"
      ],
      "metadata": {
        "colab": {
          "base_uri": "https://localhost:8080/"
        },
        "id": "QwsYu8_LSe4M",
        "outputId": "eca50aea-a5ed-4b84-95a2-89ce2cadebf8"
      },
      "execution_count": 146,
      "outputs": [
        {
          "output_type": "stream",
          "name": "stdout",
          "text": [
            "generating userdic...\n",
            "nnp.csv\n",
            "/content/drive/MyDrive/pytorch/mecab-ko-dic-2.1.1-20180720/tools/../model.def is not a binary model. reopen it as text mode...\n",
            "dictionary.cpp(171) [property.open(param)] \n",
            "person.csv\n",
            "/content/drive/MyDrive/pytorch/mecab-ko-dic-2.1.1-20180720/tools/../model.def is not a binary model. reopen it as text mode...\n",
            "dictionary.cpp(171) [property.open(param)] \n",
            "place.csv\n",
            "/content/drive/MyDrive/pytorch/mecab-ko-dic-2.1.1-20180720/tools/../model.def is not a binary model. reopen it as text mode...\n",
            "dictionary.cpp(171) [property.open(param)] \n",
            "make: Nothing to be done for 'clean'.\n",
            "make: *** No targets specified and no makefile found.  Stop.\n"
          ]
        }
      ]
    },
    {
      "cell_type": "code",
      "source": [
        "cd /content/drive/MyDrive/pytorch/mecab-ko-dic-2.1.1-20180720"
      ],
      "metadata": {
        "colab": {
          "base_uri": "https://localhost:8080/"
        },
        "id": "NjZDFeXuTKM5",
        "outputId": "0f21d27e-8b22-44e0-ff89-465bcb526498"
      },
      "execution_count": 167,
      "outputs": [
        {
          "output_type": "stream",
          "name": "stdout",
          "text": [
            "/content/drive/MyDrive/pytorch/mecab-ko-dic-2.1.1-20180720\n"
          ]
        }
      ]
    },
    {
      "cell_type": "code",
      "source": [
        "cd tools"
      ],
      "metadata": {
        "colab": {
          "base_uri": "https://localhost:8080/"
        },
        "id": "nPB2yUFzTRHu",
        "outputId": "d0d95727-7d86-4819-a689-1fdf5cac1d84"
      },
      "execution_count": 168,
      "outputs": [
        {
          "output_type": "stream",
          "name": "stdout",
          "text": [
            "/content/drive/MyDrive/pytorch/mecab-ko-dic-2.1.1-20180720/tools\n"
          ]
        }
      ]
    },
    {
      "cell_type": "code",
      "source": [
        "cd /content/drive/MyDrive/pytorch/mecab-ko-dic-2.1.1-20180720"
      ],
      "metadata": {
        "colab": {
          "base_uri": "https://localhost:8080/"
        },
        "id": "_Wxu6y1gVY6D",
        "outputId": "c79dcc5e-fc85-45b2-8d12-21971311bde4"
      },
      "execution_count": 151,
      "outputs": [
        {
          "output_type": "stream",
          "name": "stdout",
          "text": [
            "/content/drive/MyDrive/pytorch/mecab-ko-dic-2.1.1-20180720\n"
          ]
        }
      ]
    },
    {
      "cell_type": "code",
      "source": [
        "!make install"
      ],
      "metadata": {
        "colab": {
          "base_uri": "https://localhost:8080/"
        },
        "id": "Auml0RwPTbb6",
        "outputId": "34143efa-5839-4cc7-984f-d145d1670126"
      },
      "execution_count": 49,
      "outputs": [
        {
          "output_type": "stream",
          "name": "stdout",
          "text": [
            "make: *** No rule to make target 'install'.  Stop.\n"
          ]
        }
      ]
    },
    {
      "cell_type": "code",
      "source": [
        "# import mecab\n",
        "# tokenizer = mecab.MeCab()\n",
        "\n",
        "import konlpy\n",
        "from konlpy.tag import Mecab\n",
        "tokenizer = Mecab()\n",
        "\n",
        "test_text = \"파이토치어려워요,,\"\n",
        "print(tokenizer.morphs(test_text)) # 형태소 단위\n",
        "print(tokenizer.nouns(test_text)) # 명사 단위\n",
        "print(tokenizer.pos(test_text)) # 품사 태깅"
      ],
      "metadata": {
        "colab": {
          "base_uri": "https://localhost:8080/"
        },
        "id": "t_XP2iTwSe2X",
        "outputId": "e1e6abd3-7263-4e87-de62-abd880bbc606"
      },
      "execution_count": 171,
      "outputs": [
        {
          "output_type": "stream",
          "name": "stdout",
          "text": [
            "['파이', '토치', '어려워요', ',', ',']\n",
            "['파이', '토치']\n",
            "[('파이', 'NNG'), ('토치', 'NNG'), ('어려워요', 'VA+EC'), (',', 'SC'), (',', 'SC')]\n"
          ]
        }
      ]
    },
    {
      "cell_type": "code",
      "source": [
        "cd /content/drive/MyDrive/pytorch/mecab-ko-dic-2.1.1-20180720"
      ],
      "metadata": {
        "colab": {
          "base_uri": "https://localhost:8080/"
        },
        "id": "VnnarkPVSe0b",
        "outputId": "5d78d534-ca87-4f2c-85a5-2de9d57d28c4"
      },
      "execution_count": 1,
      "outputs": [
        {
          "output_type": "stream",
          "name": "stdout",
          "text": [
            "/content/drive/MyDrive/pytorch/mecab-ko-dic-2.1.1-20180720\n"
          ]
        }
      ]
    },
    {
      "cell_type": "code",
      "source": [
        "ls"
      ],
      "metadata": {
        "colab": {
          "base_uri": "https://localhost:8080/"
        },
        "id": "BuFOJ3xHSeyr",
        "outputId": "2511f8d4-883c-4379-c91d-8b4b9aefb63e"
      },
      "execution_count": 2,
      "outputs": [
        {
          "output_type": "stream",
          "name": "stdout",
          "text": [
            "AUTHORS         ETN.csv      Makefile.in       Person.csv         VCN.csv\n",
            "autogen.sh      feature.def  matrix.def        Place-address.csv  VCP.csv\n",
            "ChangeLog       Foreign.csv  missing           Place.csv          VV.csv\n",
            "char.def        Group.csv    MM.csv            Place-station.csv  VX.csv\n",
            "clean           Hanja.csv    model.def         pos-id.def         Wikipedia.csv\n",
            "CoinedWord.csv  IC.csv       NEWS              Preanalysis.csv    XPN.csv\n",
            "configure       Inflect.csv  NNBC.csv          README             XR.csv\n",
            "configure.ac    INSTALL      NNB.csv           rewrite.def        XSA.csv\n",
            "COPYING         install-sh   NNG.csv           right-id.def       XSN.csv\n",
            "dicrc           J.csv        NNP.csv           Symbol.csv         XSV.csv\n",
            "EC.csv          left-id.def  NorthKorea.csv    \u001b[0m\u001b[01;34mtools\u001b[0m/\n",
            "EF.csv          MAG.csv      NP.csv            unk.def\n",
            "EP.csv          MAJ.csv      NR.csv            \u001b[01;34muser-dic\u001b[0m/\n",
            "ETM.csv         Makefile.am  Person-actor.csv  VA.csv\n"
          ]
        }
      ]
    },
    {
      "cell_type": "code",
      "source": [
        "cd tools"
      ],
      "metadata": {
        "colab": {
          "base_uri": "https://localhost:8080/"
        },
        "id": "tqxjj6rVSewx",
        "outputId": "641130c4-a77c-4c8d-9763-ed8a10eeeb4c"
      },
      "execution_count": 3,
      "outputs": [
        {
          "output_type": "stream",
          "name": "stdout",
          "text": [
            "/content/drive/MyDrive/pytorch/mecab-ko-dic-2.1.1-20180720/tools\n"
          ]
        }
      ]
    },
    {
      "cell_type": "code",
      "source": [
        "ls"
      ],
      "metadata": {
        "colab": {
          "base_uri": "https://localhost:8080/"
        },
        "id": "2GR1yVwUSeu9",
        "outputId": "be7dc120-3165-4d7c-843b-5ff419f5174d"
      },
      "execution_count": 4,
      "outputs": [
        {
          "output_type": "stream",
          "name": "stdout",
          "text": [
            "add-userdic.sh  convert_for_using_store.sh  mecab-bestn.sh\n"
          ]
        }
      ]
    },
    {
      "cell_type": "code",
      "source": [
        "cd .."
      ],
      "metadata": {
        "colab": {
          "base_uri": "https://localhost:8080/"
        },
        "id": "hTWAMJwxSetN",
        "outputId": "1404549a-e1fb-4f2c-d348-b2cb443c32d4"
      },
      "execution_count": 5,
      "outputs": [
        {
          "output_type": "stream",
          "name": "stdout",
          "text": [
            "/content/drive/MyDrive/pytorch/mecab-ko-dic-2.1.1-20180720\n"
          ]
        }
      ]
    },
    {
      "cell_type": "code",
      "source": [
        "cd user-dic\n"
      ],
      "metadata": {
        "colab": {
          "base_uri": "https://localhost:8080/"
        },
        "id": "UNFqvWtYServ",
        "outputId": "f1a2ca10-0da3-45ec-abf7-9db2a1e183ad"
      },
      "execution_count": 6,
      "outputs": [
        {
          "output_type": "stream",
          "name": "stdout",
          "text": [
            "/content/drive/MyDrive/pytorch/mecab-ko-dic-2.1.1-20180720/user-dic\n"
          ]
        }
      ]
    },
    {
      "cell_type": "code",
      "source": [
        "ls"
      ],
      "metadata": {
        "colab": {
          "base_uri": "https://localhost:8080/"
        },
        "id": "jCTiQ7CCqRiC",
        "outputId": "229bc0bc-0f18-45ce-ddb5-4818ee10b7b4"
      },
      "execution_count": 7,
      "outputs": [
        {
          "output_type": "stream",
          "name": "stdout",
          "text": [
            "nnp.csv  person.csv  place.csv  README.md\n"
          ]
        }
      ]
    },
    {
      "cell_type": "code",
      "source": [
        "cd /content/drive/MyDrive/pytorch/mecab-ko-dic-2.1.1-20180720/tools"
      ],
      "metadata": {
        "colab": {
          "base_uri": "https://localhost:8080/"
        },
        "id": "4lslrxObqRft",
        "outputId": "10a0e9d1-4655-4f09-c2ac-d3b657f62768"
      },
      "execution_count": 12,
      "outputs": [
        {
          "output_type": "stream",
          "name": "stdout",
          "text": [
            "/content/drive/MyDrive/pytorch/mecab-ko-dic-2.1.1-20180720/tools\n"
          ]
        }
      ]
    },
    {
      "cell_type": "code",
      "source": [
        "!./add-userdic.sh"
      ],
      "metadata": {
        "colab": {
          "base_uri": "https://localhost:8080/"
        },
        "id": "rLrZgNc5qRdc",
        "outputId": "dedd3ffa-4d18-446e-bba2-e41ee2d74624"
      },
      "execution_count": 18,
      "outputs": [
        {
          "output_type": "stream",
          "name": "stdout",
          "text": [
            "generating userdic...\n",
            "nnp.csv\n",
            "./add-userdic.sh: line 25: /usr/local/libexec/mecab/mecab-dict-index: No such file or directory\n",
            "person.csv\n",
            "./add-userdic.sh: line 25: /usr/local/libexec/mecab/mecab-dict-index: No such file or directory\n",
            "place.csv\n",
            "./add-userdic.sh: line 25: /usr/local/libexec/mecab/mecab-dict-index: No such file or directory\n",
            "make: Nothing to be done for 'clean'.\n",
            "make: *** No targets specified and no makefile found.  Stop.\n"
          ]
        }
      ]
    },
    {
      "cell_type": "code",
      "source": [
        "cd .."
      ],
      "metadata": {
        "colab": {
          "base_uri": "https://localhost:8080/"
        },
        "id": "eNIV0HXyqRbH",
        "outputId": "4160ddb6-4a69-4f94-96a0-3ea969829027"
      },
      "execution_count": 19,
      "outputs": [
        {
          "output_type": "stream",
          "name": "stdout",
          "text": [
            "/content/drive/MyDrive/pytorch/mecab-ko-dic-2.1.1-20180720\n"
          ]
        }
      ]
    },
    {
      "cell_type": "code",
      "source": [
        "ls"
      ],
      "metadata": {
        "colab": {
          "base_uri": "https://localhost:8080/"
        },
        "id": "0s6epsKiqRY6",
        "outputId": "f5c7bf9f-e777-42dc-f7b5-3d9a5bc85359"
      },
      "execution_count": 20,
      "outputs": [
        {
          "output_type": "stream",
          "name": "stdout",
          "text": [
            "AUTHORS         ETN.csv      Makefile.in       Person.csv         VCN.csv\n",
            "autogen.sh      feature.def  matrix.def        Place-address.csv  VCP.csv\n",
            "ChangeLog       Foreign.csv  missing           Place.csv          VV.csv\n",
            "char.def        Group.csv    MM.csv            Place-station.csv  VX.csv\n",
            "clean           Hanja.csv    model.def         pos-id.def         Wikipedia.csv\n",
            "CoinedWord.csv  IC.csv       NEWS              Preanalysis.csv    XPN.csv\n",
            "configure       Inflect.csv  NNBC.csv          README             XR.csv\n",
            "configure.ac    INSTALL      NNB.csv           rewrite.def        XSA.csv\n",
            "COPYING         install-sh   NNG.csv           right-id.def       XSN.csv\n",
            "dicrc           J.csv        NNP.csv           Symbol.csv         XSV.csv\n",
            "EC.csv          left-id.def  NorthKorea.csv    \u001b[0m\u001b[01;34mtools\u001b[0m/\n",
            "EF.csv          MAG.csv      NP.csv            unk.def\n",
            "EP.csv          MAJ.csv      NR.csv            \u001b[01;34muser-dic\u001b[0m/\n",
            "ETM.csv         Makefile.am  Person-actor.csv  VA.csv\n"
          ]
        }
      ]
    },
    {
      "cell_type": "code",
      "source": [
        "cd /content/drive/MyDrive/pytorch/mecab-ko-dic-2.1.1-20180720/tools"
      ],
      "metadata": {
        "colab": {
          "base_uri": "https://localhost:8080/"
        },
        "id": "4WoLBWLRtouF",
        "outputId": "d06c2a83-31ff-4de7-bec8-f3e43a7ca18c"
      },
      "execution_count": 41,
      "outputs": [
        {
          "output_type": "stream",
          "name": "stdout",
          "text": [
            "/content/drive/MyDrive/pytorch/mecab-ko-dic-2.1.1-20180720/tools\n"
          ]
        }
      ]
    },
    {
      "cell_type": "code",
      "source": [
        "cd .."
      ],
      "metadata": {
        "colab": {
          "base_uri": "https://localhost:8080/"
        },
        "id": "UF9sve9Qtor4",
        "outputId": "a042a83e-ceff-436a-f41e-12f600db412d"
      },
      "execution_count": 13,
      "outputs": [
        {
          "output_type": "stream",
          "name": "stdout",
          "text": [
            "/content/drive/MyDrive/pytorch/mecab-ko-dic-2.1.1-20180720\n"
          ]
        }
      ]
    },
    {
      "cell_type": "code",
      "source": [
        "cd tools"
      ],
      "metadata": {
        "colab": {
          "base_uri": "https://localhost:8080/"
        },
        "id": "bp0koq971zMr",
        "outputId": "904d1549-3cb4-4bdb-cde5-a92954bf6186"
      },
      "execution_count": 19,
      "outputs": [
        {
          "output_type": "stream",
          "name": "stdout",
          "text": [
            "/content/drive/MyDrive/pytorch/mecab-ko-dic-2.1.1-20180720/tools\n"
          ]
        }
      ]
    },
    {
      "cell_type": "code",
      "source": [
        "!./add-userdic.sh"
      ],
      "metadata": {
        "colab": {
          "base_uri": "https://localhost:8080/"
        },
        "id": "OqMc7_VT1fKN",
        "outputId": "b3bb00e8-9682-400e-d029-f456a56d1046"
      },
      "execution_count": 42,
      "outputs": [
        {
          "output_type": "stream",
          "name": "stdout",
          "text": [
            "generating userdic...\n",
            "nnp.csv\n",
            "./add-userdic.sh: line 25: /usr/local/libexec/mecab/mecab-dict-index: No such file or directory\n",
            "person.csv\n",
            "./add-userdic.sh: line 25: /usr/local/libexec/mecab/mecab-dict-index: No such file or directory\n",
            "place.csv\n",
            "./add-userdic.sh: line 25: /usr/local/libexec/mecab/mecab-dict-index: No such file or directory\n",
            "make: Nothing to be done for 'clean'.\n",
            "make: *** No targets specified and no makefile found.  Stop.\n"
          ]
        }
      ]
    },
    {
      "cell_type": "code",
      "source": [
        "!apt-get install coreutils"
      ],
      "metadata": {
        "colab": {
          "base_uri": "https://localhost:8080/"
        },
        "id": "dGHK3-Fw1fHX",
        "outputId": "890c6693-bd38-424e-af03-258c829c24c6"
      },
      "execution_count": 36,
      "outputs": [
        {
          "output_type": "stream",
          "name": "stdout",
          "text": [
            "Reading package lists... Done\n",
            "Building dependency tree       \n",
            "Reading state information... Done\n",
            "coreutils is already the newest version (8.28-1ubuntu1).\n",
            "The following package was automatically installed and is no longer required:\n",
            "  libnvidia-common-460\n",
            "Use 'apt autoremove' to remove it.\n",
            "0 upgraded, 0 newly installed, 0 to remove and 12 not upgraded.\n"
          ]
        }
      ]
    },
    {
      "cell_type": "code",
      "source": [],
      "metadata": {
        "id": "DHfPvuyO01B_"
      },
      "execution_count": null,
      "outputs": []
    },
    {
      "cell_type": "code",
      "source": [],
      "metadata": {
        "id": "A1xo91IH00_v"
      },
      "execution_count": null,
      "outputs": []
    },
    {
      "cell_type": "code",
      "source": [],
      "metadata": {
        "id": "-5yQkskP004E"
      },
      "execution_count": null,
      "outputs": []
    },
    {
      "cell_type": "code",
      "source": [],
      "metadata": {
        "id": "zcAVFbYL001u"
      },
      "execution_count": null,
      "outputs": []
    },
    {
      "cell_type": "code",
      "source": [],
      "metadata": {
        "id": "BnWc7pQZ00zo"
      },
      "execution_count": null,
      "outputs": []
    },
    {
      "cell_type": "code",
      "source": [],
      "metadata": {
        "id": "PE_TbC_000xZ"
      },
      "execution_count": null,
      "outputs": []
    },
    {
      "cell_type": "code",
      "source": [],
      "metadata": {
        "id": "UVLPArZw00vU"
      },
      "execution_count": null,
      "outputs": []
    },
    {
      "cell_type": "code",
      "source": [],
      "metadata": {
        "id": "fuA-c7d500tX"
      },
      "execution_count": null,
      "outputs": []
    },
    {
      "cell_type": "code",
      "source": [],
      "metadata": {
        "id": "U8KSgC-j00rz"
      },
      "execution_count": null,
      "outputs": []
    }
  ]
}